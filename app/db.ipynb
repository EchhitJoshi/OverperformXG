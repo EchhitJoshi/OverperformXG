{
 "cells": [
  {
   "cell_type": "code",
   "execution_count": null,
   "id": "7e1d22fa",
   "metadata": {},
   "outputs": [],
   "source": [
    "import pandas as pd\n",
    "import os\n",
    "import yaml\n",
    "\n",
    "from sqlalchemy import create_engine\n",
    "from sqlalchemy.orm import sessionmaker\n",
    "\n",
    "from data_loader import *\n",
    "from utils import *\n",
    "\n"
   ]
  },
  {
   "cell_type": "code",
   "execution_count": null,
   "id": "3110ec4b",
   "metadata": {},
   "outputs": [],
   "source": [
    "# Config\n",
    "config_path = 'config.yaml'\n",
    "with open(config_path, 'r') as f:\n",
    "    config = yaml.safe_load(f)\n"
   ]
  },
  {
   "cell_type": "code",
   "execution_count": null,
   "id": "9617d3de",
   "metadata": {},
   "outputs": [],
   "source": [
    "# Mysql string\n",
    "db_url = config['MYSQL_STRING']"
   ]
  },
  {
   "cell_type": "code",
   "execution_count": null,
   "id": "a862e402",
   "metadata": {},
   "outputs": [],
   "source": [
    "def write_df_to_db(df, table_name, db_type=\"postgres\", db_url=None, if_exists=\"append\", chunksize=5000):\n",
    "    \"\"\"\n",
    "    Write a pandas DataFrame to either PostgreSQL or MySQL based on db_type.\n",
    "    \n",
    "    Args:\n",
    "        df (pd.DataFrame): DataFrame to write\n",
    "        table_name (str): Table name\n",
    "        db_type (str): \"postgres\" or \"mysql\"\n",
    "        db_url (str): Full SQLAlchemy DB URL\n",
    "        if_exists (str): 'append', 'replace', or 'fail'\n",
    "        chunksize (int): Number of rows per batch\n",
    "    \"\"\"\n",
    "    import pandas as pd\n",
    "    from sqlalchemy import create_engine\n",
    "    from sqlalchemy.orm import sessionmaker\n",
    "\n",
    "    if db_url is None:\n",
    "        raise ValueError(\"db_url must be provided\")\n",
    "\n",
    "    # Convert unsupported types\n",
    "    for col in df.columns:\n",
    "        if pd.api.types.is_period_dtype(df[col]):\n",
    "            df[col] = df[col].dt.to_timestamp()\n",
    "        elif pd.api.types.is_timedelta64_dtype(df[col]):\n",
    "            df[col] = df[col].dt.total_seconds()\n",
    "        elif pd.api.types.is_categorical_dtype(df[col]):\n",
    "            df[col] = df[col].astype(str)\n",
    "\n",
    "    # Ensure the driver is correct\n",
    "    if db_type.lower() == \"postgres\":\n",
    "        # PostgreSQL usually uses psycopg2\n",
    "        if \"postgresql\" not in db_url:\n",
    "            db_url = \"postgresql+psycopg2://\" + db_url.split(\"://\")[1]\n",
    "    elif db_type.lower() == \"mysql\":\n",
    "        # MySQL usually uses pymysql\n",
    "        if \"mysql\" not in db_url:\n",
    "            db_url = \"mysql+pymysql://\" + db_url.split(\"://\")[1]\n",
    "    else:\n",
    "        raise ValueError(\"db_type must be 'postgres' or 'mysql'\")\n",
    "\n",
    "    # Create engine and session\n",
    "    engine = create_engine(db_url)\n",
    "    Session = sessionmaker(bind=engine)\n",
    "\n",
    "    # Write using session manager\n",
    "    with Session() as session:\n",
    "        try:\n",
    "            df.to_sql(\n",
    "                table_name,\n",
    "                con=session.connection(),\n",
    "                if_exists=if_exists,\n",
    "                index=False,\n",
    "                chunksize=chunksize\n",
    "            )\n",
    "            session.commit()\n",
    "        except Exception as e:\n",
    "            session.rollback()\n",
    "            print(f\"Error writing to table '{table_name}': {e}\")\n",
    "            raise"
   ]
  },
  {
   "cell_type": "code",
   "execution_count": null,
   "id": "3465f38e",
   "metadata": {},
   "outputs": [],
   "source": [
    "# League dat\n",
    "leagues_dat = get_leagues(home_dir +\"/data/Leagues/leagues.parquet\")\n",
    "leagues_dat[['league_id','league_name','country_name']].sort_values('league_id')"
   ]
  },
  {
   "cell_type": "code",
   "execution_count": null,
   "id": "af77a510",
   "metadata": {},
   "outputs": [],
   "source": [
    "write_df_to_db(leagues_dat.iloc[:,1:], \"league\", db_type=\"mysql\", db_url=db_url)"
   ]
  },
  {
   "cell_type": "code",
   "execution_count": null,
   "id": "ebf30c60",
   "metadata": {},
   "outputs": [],
   "source": [
    "teams_dat = pd.read_parquet(home_dir + \"/data/Teams/team_league.parquet\")\n",
    "teams_dat.head()"
   ]
  },
  {
   "cell_type": "code",
   "execution_count": null,
   "id": "77657c42",
   "metadata": {},
   "outputs": [],
   "source": [
    "# Add Team-legaue map to db\n",
    "write_df_to_db(teams_dat, \"team_league_map\", db_type=\"mysql\", db_url=db_url)"
   ]
  },
  {
   "cell_type": "code",
   "execution_count": null,
   "id": "049c12c9",
   "metadata": {},
   "outputs": [],
   "source": [
    "fixtures_dir = home_dir + \"/data/Fixtures\"\n",
    "\n",
    "complete_data = pd.DataFrame()\n",
    "for file in os.listdir(fixtures_dir):\n",
    "    dat = pd.read_parquet(os.path.join(fixtures_dir,file))\n",
    "    complete_data = pd.concat([complete_data,dat],axis = 0)\n",
    "\n",
    "complete_data = complete_data.reset_index()\n",
    "complete_data.drop(columns = ['index'],inplace=True)"
   ]
  },
  {
   "cell_type": "code",
   "execution_count": null,
   "id": "076c5fcb",
   "metadata": {},
   "outputs": [],
   "source": [
    "# Data checks\n",
    "complete_data['passes_accuracy'] = complete_data['passes_accuracy'].astype(\"float64\")\n",
    "complete_data.rename(columns= {'passes_accuracy':'passes_accurate'},inplace =True)\n",
    "complete_data['fixture_date'] = pd.to_datetime(complete_data.fixture_date)\n",
    "complete_data['fixture_date_dt'] = complete_data['fixture_date'].dt.date\n",
    "complete_data = create_datetime_columns(complete_data,'fixture_date')\n",
    "complete_data['games_rating'] = pd.to_numeric(complete_data['games_rating'])\n",
    "\n",
    "complete_data['season'] = complete_data['fixture_date'].apply(get_season)\n",
    "\n",
    "\n",
    "# Targets\n",
    "complete_data['outcome_num'] = pd.Categorical(complete_data.outcome).codes\n",
    "\n",
    "complete_data['win'] = np.where(complete_data.outcome.str.lower() == 'win', 1,0)\n",
    "complete_data['draw'] = np.where(complete_data.outcome.str.lower() == 'draw', 1,0)\n",
    "complete_data['loss'] = np.where(complete_data.outcome.str.lower() == 'loss', 1,0)\n",
    "\n",
    "# # primary position map:\n",
    "# player_map = get_major_position(complete_data)\n",
    "\n",
    "# # Join back to complete_data\n",
    "# complete_data = pd.merge(complete_data,player_map,on = 'player_id',how = 'left')\n",
    "\n",
    "# Joins:\n",
    "complete_data = complete_data.merge(teams_dat.drop_duplicates(),how = 'left', left_on= 'team',right_on = 'team_name').drop(columns = ['team_name'])\n",
    "complete_data = complete_data.merge(leagues_dat[['league_id','league_name']],how = 'left', left_on = 'league', right_on = 'league_id')\n"
   ]
  },
  {
   "cell_type": "code",
   "execution_count": null,
   "id": "9e2b395a",
   "metadata": {},
   "outputs": [],
   "source": [
    "stored_fixtures = pd.read_sql(\"select distinct fixture_id from overperformxg.complete_data\",config['MYSQL_STRING'])\n",
    "stored_fixtures"
   ]
  },
  {
   "cell_type": "code",
   "execution_count": null,
   "id": "980c0ac5",
   "metadata": {},
   "outputs": [],
   "source": [
    "complete_data.head()"
   ]
  },
  {
   "cell_type": "code",
   "execution_count": null,
   "id": "d3cb5a5e",
   "metadata": {},
   "outputs": [],
   "source": [
    "write_df_to_db(complete_data,\"complete_data\",db_type=\"mysql\", db_url=db_url)"
   ]
  },
  {
   "cell_type": "code",
   "execution_count": null,
   "id": "e88fd7fd",
   "metadata": {},
   "outputs": [],
   "source": [
    "fixture_dat = calculate_fixture_stats(complete_data,['league_name'])"
   ]
  },
  {
   "cell_type": "code",
   "execution_count": null,
   "id": "c89c3d49",
   "metadata": {},
   "outputs": [],
   "source": [
    "fixture_dat.head()"
   ]
  },
  {
   "cell_type": "code",
   "execution_count": null,
   "id": "eb645cc7",
   "metadata": {},
   "outputs": [],
   "source": [
    "complete_data = pd.read_sql(\"select * from public.complete_data\", con = config['DB_STRING'])"
   ]
  },
  {
   "cell_type": "code",
   "execution_count": null,
   "id": "ecf088d1",
   "metadata": {},
   "outputs": [],
   "source": [
    "complete_data.head()"
   ]
  },
  {
   "cell_type": "markdown",
   "id": "116ecb51",
   "metadata": {},
   "source": []
  }
 ],
 "metadata": {
  "kernelspec": {
   "display_name": "dlcpu",
   "language": "python",
   "name": "python3"
  },
  "language_info": {
   "codemirror_mode": {
    "name": "ipython",
    "version": 3
   },
   "file_extension": ".py",
   "mimetype": "text/x-python",
   "name": "python",
   "nbconvert_exporter": "python",
   "pygments_lexer": "ipython3",
   "version": "3.10.13"
  }
 },
 "nbformat": 4,
 "nbformat_minor": 5
}
