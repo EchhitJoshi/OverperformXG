{
 "cells": [
  {
   "cell_type": "code",
   "execution_count": 34,
   "metadata": {},
   "outputs": [
    {
     "name": "stdout",
     "output_type": "stream",
     "text": [
      "/Users/echhitjoshi/Library/Mobile Documents/com~apple~CloudDocs/Work/overperformXG/app\n",
      "The autoreload extension is already loaded. To reload it, use:\n",
      "  %reload_ext autoreload\n"
     ]
    }
   ],
   "source": [
    "import pandas as pd\n",
    "import numpy as np\n",
    "\n",
    "import requests\n",
    "\n",
    "import os\n",
    "import time\n",
    "from datetime import datetime\n",
    "import sys\n",
    "import yaml\n",
    "import gc\n",
    "\n",
    "\n",
    "from data_loader import *\n",
    "from utils import *\n",
    "from nn import *\n",
    "from models import *\n",
    "from llm import *\n",
    "from llm_hf import *\n",
    "import folder_manager\n",
    "\n",
    "import seaborn as sns\n",
    "sns.set_style(\"darkgrid\")\n",
    "plt.rcParams.update({\n",
    "    'axes.facecolor': '#1e1e1e',\n",
    "    'figure.facecolor': '#1e1e1e',\n",
    "    'axes.edgecolor': 'white',\n",
    "    'axes.labelcolor': 'white',\n",
    "    'xtick.color': 'white',\n",
    "    'ytick.color': 'white',\n",
    "    'text.color': 'white',\n",
    "    'axes.grid': True,\n",
    "    'grid.color': 'gray'\n",
    "})\n",
    "\n",
    "\n",
    "pd.set_option(\"display.max_column\",None)\n",
    "print(os.getcwd())\n",
    "\n",
    "\n",
    "%load_ext autoreload\n",
    "%reload_ext autoreload\n",
    "%autoreload 2\n",
    "\n",
    "pd.options.display.max_rows = 100\n",
    "\n",
    "\n",
    "def auto_reload():\n",
    "    %load_ext autoreload\n",
    "    %reload_ext autoreload\n",
    "    %autoreload 2"
   ]
  },
  {
   "cell_type": "code",
   "execution_count": 2,
   "metadata": {},
   "outputs": [
    {
     "data": {
      "text/plain": [
       "'/Users/echhitjoshi/Library/Mobile Documents/com~apple~CloudDocs/Work/overperformXG'"
      ]
     },
     "execution_count": 2,
     "metadata": {},
     "output_type": "execute_result"
    }
   ],
   "source": [
    "with open(\"config.yaml\",'r') as f:\n",
    "    config = yaml.safe_load(f)\n",
    "\n",
    "home_dir = config['HOME_DIRECTORY']\n",
    "home_dir"
   ]
  },
  {
   "cell_type": "code",
   "execution_count": 37,
   "metadata": {},
   "outputs": [],
   "source": [
    "create_submodel(\"llm_new\")"
   ]
  },
  {
   "cell_type": "markdown",
   "metadata": {},
   "source": [
    "# API Football:\n",
    "https://www.api-football.com"
   ]
  },
  {
   "cell_type": "markdown",
   "metadata": {},
   "source": [
    "![PYTHON LOGO](https://www.api-football.com/public/img/news/archi-beta.jpg)"
   ]
  },
  {
   "cell_type": "code",
   "execution_count": 7,
   "metadata": {},
   "outputs": [
    {
     "data": {
      "text/html": [
       "<div>\n",
       "<style scoped>\n",
       "    .dataframe tbody tr th:only-of-type {\n",
       "        vertical-align: middle;\n",
       "    }\n",
       "\n",
       "    .dataframe tbody tr th {\n",
       "        vertical-align: top;\n",
       "    }\n",
       "\n",
       "    .dataframe thead th {\n",
       "        text-align: right;\n",
       "    }\n",
       "</style>\n",
       "<table border=\"1\" class=\"dataframe\">\n",
       "  <thead>\n",
       "    <tr style=\"text-align: right;\">\n",
       "      <th></th>\n",
       "      <th>league_id</th>\n",
       "      <th>league_name</th>\n",
       "      <th>country_name</th>\n",
       "    </tr>\n",
       "  </thead>\n",
       "  <tbody>\n",
       "    <tr>\n",
       "      <th>0</th>\n",
       "      <td>4</td>\n",
       "      <td>Euro Championship</td>\n",
       "      <td>World</td>\n",
       "    </tr>\n",
       "    <tr>\n",
       "      <th>1</th>\n",
       "      <td>21</td>\n",
       "      <td>Confederations Cup</td>\n",
       "      <td>World</td>\n",
       "    </tr>\n",
       "    <tr>\n",
       "      <th>2</th>\n",
       "      <td>61</td>\n",
       "      <td>Ligue 1</td>\n",
       "      <td>France</td>\n",
       "    </tr>\n",
       "    <tr>\n",
       "      <th>3</th>\n",
       "      <td>144</td>\n",
       "      <td>Jupiler Pro League</td>\n",
       "      <td>Belgium</td>\n",
       "    </tr>\n",
       "    <tr>\n",
       "      <th>4</th>\n",
       "      <td>71</td>\n",
       "      <td>Serie A</td>\n",
       "      <td>Brazil</td>\n",
       "    </tr>\n",
       "    <tr>\n",
       "      <th>...</th>\n",
       "      <td>...</td>\n",
       "      <td>...</td>\n",
       "      <td>...</td>\n",
       "    </tr>\n",
       "    <tr>\n",
       "      <th>1128</th>\n",
       "      <td>1131</td>\n",
       "      <td>Super Cup</td>\n",
       "      <td>Mongolia</td>\n",
       "    </tr>\n",
       "    <tr>\n",
       "      <th>1129</th>\n",
       "      <td>1132</td>\n",
       "      <td>AFC Challenge League</td>\n",
       "      <td>World</td>\n",
       "    </tr>\n",
       "    <tr>\n",
       "      <th>1130</th>\n",
       "      <td>1133</td>\n",
       "      <td>Goiano - 3</td>\n",
       "      <td>Brazil</td>\n",
       "    </tr>\n",
       "    <tr>\n",
       "      <th>1131</th>\n",
       "      <td>1001</td>\n",
       "      <td>CONCACAF Women U20</td>\n",
       "      <td>World</td>\n",
       "    </tr>\n",
       "    <tr>\n",
       "      <th>1132</th>\n",
       "      <td>1083</td>\n",
       "      <td>UEFA Championship - Women - Qualification</td>\n",
       "      <td>World</td>\n",
       "    </tr>\n",
       "  </tbody>\n",
       "</table>\n",
       "<p>1133 rows × 3 columns</p>\n",
       "</div>"
      ],
      "text/plain": [
       "      league_id                                league_name country_name\n",
       "0             4                          Euro Championship        World\n",
       "1            21                         Confederations Cup        World\n",
       "2            61                                    Ligue 1       France\n",
       "3           144                         Jupiler Pro League      Belgium\n",
       "4            71                                    Serie A       Brazil\n",
       "...         ...                                        ...          ...\n",
       "1128       1131                                  Super Cup     Mongolia\n",
       "1129       1132                       AFC Challenge League        World\n",
       "1130       1133                                 Goiano - 3       Brazil\n",
       "1131       1001                         CONCACAF Women U20        World\n",
       "1132       1083  UEFA Championship - Women - Qualification        World\n",
       "\n",
       "[1133 rows x 3 columns]"
      ]
     },
     "execution_count": 7,
     "metadata": {},
     "output_type": "execute_result"
    }
   ],
   "source": [
    "leagues_dat = pd.read_sql(\"select * from overperformxg.league\",config['MYSQL_STRING'])\n",
    "leagues_dat[['league_id','league_name','country_name']]"
   ]
  },
  {
   "cell_type": "markdown",
   "metadata": {},
   "source": [
    "# Read All fixtures data"
   ]
  },
  {
   "cell_type": "code",
   "execution_count": 8,
   "metadata": {},
   "outputs": [
    {
     "data": {
      "text/html": [
       "<div>\n",
       "<style scoped>\n",
       "    .dataframe tbody tr th:only-of-type {\n",
       "        vertical-align: middle;\n",
       "    }\n",
       "\n",
       "    .dataframe tbody tr th {\n",
       "        vertical-align: top;\n",
       "    }\n",
       "\n",
       "    .dataframe thead th {\n",
       "        text-align: right;\n",
       "    }\n",
       "</style>\n",
       "<table border=\"1\" class=\"dataframe\">\n",
       "  <thead>\n",
       "    <tr style=\"text-align: right;\">\n",
       "      <th></th>\n",
       "      <th>team_name</th>\n",
       "      <th>league</th>\n",
       "    </tr>\n",
       "  </thead>\n",
       "  <tbody>\n",
       "    <tr>\n",
       "      <th>0</th>\n",
       "      <td>Angers</td>\n",
       "      <td>61</td>\n",
       "    </tr>\n",
       "    <tr>\n",
       "      <th>1</th>\n",
       "      <td>Lille</td>\n",
       "      <td>61</td>\n",
       "    </tr>\n",
       "    <tr>\n",
       "      <th>2</th>\n",
       "      <td>Lyon</td>\n",
       "      <td>61</td>\n",
       "    </tr>\n",
       "    <tr>\n",
       "      <th>3</th>\n",
       "      <td>Marseille</td>\n",
       "      <td>61</td>\n",
       "    </tr>\n",
       "    <tr>\n",
       "      <th>4</th>\n",
       "      <td>Nantes</td>\n",
       "      <td>61</td>\n",
       "    </tr>\n",
       "  </tbody>\n",
       "</table>\n",
       "</div>"
      ],
      "text/plain": [
       "   team_name  league\n",
       "0     Angers      61\n",
       "1      Lille      61\n",
       "2       Lyon      61\n",
       "3  Marseille      61\n",
       "4     Nantes      61"
      ]
     },
     "execution_count": 8,
     "metadata": {},
     "output_type": "execute_result"
    }
   ],
   "source": [
    "teams_dat = pd.read_sql(\"select * from overperformxg.team_league_map\",config['MYSQL_STRING'])\n",
    "teams_dat.head()"
   ]
  },
  {
   "cell_type": "code",
   "execution_count": 9,
   "metadata": {},
   "outputs": [],
   "source": [
    "# Read player_fixture_data\n",
    "complete_data = pd.read_sql(\"select * from overperformxg.complete_data\",config['MYSQL_STRING'])"
   ]
  },
  {
   "cell_type": "code",
   "execution_count": 10,
   "metadata": {},
   "outputs": [],
   "source": [
    "# Data checks\n",
    "complete_data['passes_accurate'] = complete_data['passes_accurate'].astype(\"float64\")\n",
    "complete_data['fixture_date'] = pd.to_datetime(complete_data.fixture_date)\n",
    "complete_data['games_rating'] = pd.to_numeric(complete_data['games_rating'])"
   ]
  },
  {
   "cell_type": "code",
   "execution_count": 11,
   "metadata": {},
   "outputs": [
    {
     "name": "stdout",
     "output_type": "stream",
     "text": [
      "type\n",
      "numeric        45\n",
      "target         10\n",
      "categorical     8\n",
      "datetime        3\n",
      "Name: count, dtype: int64\n"
     ]
    },
    {
     "data": {
      "text/html": [
       "<div>\n",
       "<style scoped>\n",
       "    .dataframe tbody tr th:only-of-type {\n",
       "        vertical-align: middle;\n",
       "    }\n",
       "\n",
       "    .dataframe tbody tr th {\n",
       "        vertical-align: top;\n",
       "    }\n",
       "\n",
       "    .dataframe thead th {\n",
       "        text-align: right;\n",
       "    }\n",
       "</style>\n",
       "<table border=\"1\" class=\"dataframe\">\n",
       "  <thead>\n",
       "    <tr style=\"text-align: right;\">\n",
       "      <th></th>\n",
       "      <th>feature</th>\n",
       "      <th>type</th>\n",
       "      <th>modeling_feature</th>\n",
       "      <th>encoded</th>\n",
       "    </tr>\n",
       "  </thead>\n",
       "  <tbody>\n",
       "    <tr>\n",
       "      <th>2</th>\n",
       "      <td>offsides</td>\n",
       "      <td>numeric</td>\n",
       "      <td>1</td>\n",
       "      <td>0</td>\n",
       "    </tr>\n",
       "    <tr>\n",
       "      <th>3</th>\n",
       "      <td>games_minutes</td>\n",
       "      <td>numeric</td>\n",
       "      <td>1</td>\n",
       "      <td>0</td>\n",
       "    </tr>\n",
       "    <tr>\n",
       "      <th>6</th>\n",
       "      <td>games_rating</td>\n",
       "      <td>numeric</td>\n",
       "      <td>1</td>\n",
       "      <td>0</td>\n",
       "    </tr>\n",
       "    <tr>\n",
       "      <th>9</th>\n",
       "      <td>shots_total</td>\n",
       "      <td>numeric</td>\n",
       "      <td>1</td>\n",
       "      <td>0</td>\n",
       "    </tr>\n",
       "    <tr>\n",
       "      <th>10</th>\n",
       "      <td>shots_on</td>\n",
       "      <td>numeric</td>\n",
       "      <td>1</td>\n",
       "      <td>0</td>\n",
       "    </tr>\n",
       "    <tr>\n",
       "      <th>11</th>\n",
       "      <td>goals_total</td>\n",
       "      <td>numeric</td>\n",
       "      <td>1</td>\n",
       "      <td>0</td>\n",
       "    </tr>\n",
       "    <tr>\n",
       "      <th>12</th>\n",
       "      <td>goals_conceded</td>\n",
       "      <td>numeric</td>\n",
       "      <td>1</td>\n",
       "      <td>0</td>\n",
       "    </tr>\n",
       "    <tr>\n",
       "      <th>13</th>\n",
       "      <td>goals_assists</td>\n",
       "      <td>numeric</td>\n",
       "      <td>1</td>\n",
       "      <td>0</td>\n",
       "    </tr>\n",
       "    <tr>\n",
       "      <th>14</th>\n",
       "      <td>goals_saves</td>\n",
       "      <td>numeric</td>\n",
       "      <td>1</td>\n",
       "      <td>0</td>\n",
       "    </tr>\n",
       "    <tr>\n",
       "      <th>15</th>\n",
       "      <td>passes_total</td>\n",
       "      <td>numeric</td>\n",
       "      <td>1</td>\n",
       "      <td>0</td>\n",
       "    </tr>\n",
       "    <tr>\n",
       "      <th>16</th>\n",
       "      <td>passes_key</td>\n",
       "      <td>numeric</td>\n",
       "      <td>1</td>\n",
       "      <td>0</td>\n",
       "    </tr>\n",
       "    <tr>\n",
       "      <th>17</th>\n",
       "      <td>passes_accurate</td>\n",
       "      <td>numeric</td>\n",
       "      <td>1</td>\n",
       "      <td>0</td>\n",
       "    </tr>\n",
       "    <tr>\n",
       "      <th>18</th>\n",
       "      <td>tackles_total</td>\n",
       "      <td>numeric</td>\n",
       "      <td>1</td>\n",
       "      <td>0</td>\n",
       "    </tr>\n",
       "    <tr>\n",
       "      <th>19</th>\n",
       "      <td>tackles_blocks</td>\n",
       "      <td>numeric</td>\n",
       "      <td>1</td>\n",
       "      <td>0</td>\n",
       "    </tr>\n",
       "    <tr>\n",
       "      <th>20</th>\n",
       "      <td>tackles_interceptions</td>\n",
       "      <td>numeric</td>\n",
       "      <td>1</td>\n",
       "      <td>0</td>\n",
       "    </tr>\n",
       "    <tr>\n",
       "      <th>21</th>\n",
       "      <td>duels_total</td>\n",
       "      <td>numeric</td>\n",
       "      <td>1</td>\n",
       "      <td>0</td>\n",
       "    </tr>\n",
       "    <tr>\n",
       "      <th>22</th>\n",
       "      <td>duels_won</td>\n",
       "      <td>numeric</td>\n",
       "      <td>1</td>\n",
       "      <td>0</td>\n",
       "    </tr>\n",
       "    <tr>\n",
       "      <th>23</th>\n",
       "      <td>dribbles_attempts</td>\n",
       "      <td>numeric</td>\n",
       "      <td>1</td>\n",
       "      <td>0</td>\n",
       "    </tr>\n",
       "    <tr>\n",
       "      <th>24</th>\n",
       "      <td>dribbles_success</td>\n",
       "      <td>numeric</td>\n",
       "      <td>1</td>\n",
       "      <td>0</td>\n",
       "    </tr>\n",
       "    <tr>\n",
       "      <th>25</th>\n",
       "      <td>dribbles_past</td>\n",
       "      <td>numeric</td>\n",
       "      <td>1</td>\n",
       "      <td>0</td>\n",
       "    </tr>\n",
       "    <tr>\n",
       "      <th>26</th>\n",
       "      <td>fouls_drawn</td>\n",
       "      <td>numeric</td>\n",
       "      <td>1</td>\n",
       "      <td>0</td>\n",
       "    </tr>\n",
       "    <tr>\n",
       "      <th>27</th>\n",
       "      <td>fouls_committed</td>\n",
       "      <td>numeric</td>\n",
       "      <td>1</td>\n",
       "      <td>0</td>\n",
       "    </tr>\n",
       "    <tr>\n",
       "      <th>28</th>\n",
       "      <td>cards_yellow</td>\n",
       "      <td>numeric</td>\n",
       "      <td>1</td>\n",
       "      <td>0</td>\n",
       "    </tr>\n",
       "    <tr>\n",
       "      <th>29</th>\n",
       "      <td>cards_red</td>\n",
       "      <td>numeric</td>\n",
       "      <td>1</td>\n",
       "      <td>0</td>\n",
       "    </tr>\n",
       "    <tr>\n",
       "      <th>30</th>\n",
       "      <td>penalty_won</td>\n",
       "      <td>numeric</td>\n",
       "      <td>1</td>\n",
       "      <td>0</td>\n",
       "    </tr>\n",
       "    <tr>\n",
       "      <th>31</th>\n",
       "      <td>penalty_commited</td>\n",
       "      <td>numeric</td>\n",
       "      <td>1</td>\n",
       "      <td>0</td>\n",
       "    </tr>\n",
       "    <tr>\n",
       "      <th>32</th>\n",
       "      <td>penalty_scored</td>\n",
       "      <td>numeric</td>\n",
       "      <td>1</td>\n",
       "      <td>0</td>\n",
       "    </tr>\n",
       "    <tr>\n",
       "      <th>33</th>\n",
       "      <td>penalty_missed</td>\n",
       "      <td>numeric</td>\n",
       "      <td>1</td>\n",
       "      <td>0</td>\n",
       "    </tr>\n",
       "    <tr>\n",
       "      <th>34</th>\n",
       "      <td>penalty_saved</td>\n",
       "      <td>numeric</td>\n",
       "      <td>1</td>\n",
       "      <td>0</td>\n",
       "    </tr>\n",
       "    <tr>\n",
       "      <th>47</th>\n",
       "      <td>dribble_success_rate</td>\n",
       "      <td>numeric</td>\n",
       "      <td>1</td>\n",
       "      <td>0</td>\n",
       "    </tr>\n",
       "    <tr>\n",
       "      <th>48</th>\n",
       "      <td>target_shot_conversion_perc</td>\n",
       "      <td>numeric</td>\n",
       "      <td>1</td>\n",
       "      <td>0</td>\n",
       "    </tr>\n",
       "    <tr>\n",
       "      <th>49</th>\n",
       "      <td>duels_won_perc</td>\n",
       "      <td>numeric</td>\n",
       "      <td>1</td>\n",
       "      <td>0</td>\n",
       "    </tr>\n",
       "    <tr>\n",
       "      <th>50</th>\n",
       "      <td>pass_accuracy_perc</td>\n",
       "      <td>numeric</td>\n",
       "      <td>1</td>\n",
       "      <td>0</td>\n",
       "    </tr>\n",
       "    <tr>\n",
       "      <th>52</th>\n",
       "      <td>year_e</td>\n",
       "      <td>numeric</td>\n",
       "      <td>1</td>\n",
       "      <td>0</td>\n",
       "    </tr>\n",
       "    <tr>\n",
       "      <th>53</th>\n",
       "      <td>month_e</td>\n",
       "      <td>datetime</td>\n",
       "      <td>1</td>\n",
       "      <td>0</td>\n",
       "    </tr>\n",
       "    <tr>\n",
       "      <th>54</th>\n",
       "      <td>month_name_e</td>\n",
       "      <td>categorical</td>\n",
       "      <td>1</td>\n",
       "      <td>1</td>\n",
       "    </tr>\n",
       "    <tr>\n",
       "      <th>55</th>\n",
       "      <td>day_of_week_e</td>\n",
       "      <td>numeric</td>\n",
       "      <td>1</td>\n",
       "      <td>0</td>\n",
       "    </tr>\n",
       "    <tr>\n",
       "      <th>56</th>\n",
       "      <td>day_of_week_name_e</td>\n",
       "      <td>categorical</td>\n",
       "      <td>1</td>\n",
       "      <td>1</td>\n",
       "    </tr>\n",
       "    <tr>\n",
       "      <th>57</th>\n",
       "      <td>week_e</td>\n",
       "      <td>datetime</td>\n",
       "      <td>1</td>\n",
       "      <td>0</td>\n",
       "    </tr>\n",
       "    <tr>\n",
       "      <th>64</th>\n",
       "      <td>league_id</td>\n",
       "      <td>numeric</td>\n",
       "      <td>1</td>\n",
       "      <td>0</td>\n",
       "    </tr>\n",
       "    <tr>\n",
       "      <th>65</th>\n",
       "      <td>league_name</td>\n",
       "      <td>categorical</td>\n",
       "      <td>1</td>\n",
       "      <td>1</td>\n",
       "    </tr>\n",
       "  </tbody>\n",
       "</table>\n",
       "</div>"
      ],
      "text/plain": [
       "                        feature         type  modeling_feature  encoded\n",
       "2                      offsides      numeric                 1        0\n",
       "3                 games_minutes      numeric                 1        0\n",
       "6                  games_rating      numeric                 1        0\n",
       "9                   shots_total      numeric                 1        0\n",
       "10                     shots_on      numeric                 1        0\n",
       "11                  goals_total      numeric                 1        0\n",
       "12               goals_conceded      numeric                 1        0\n",
       "13                goals_assists      numeric                 1        0\n",
       "14                  goals_saves      numeric                 1        0\n",
       "15                 passes_total      numeric                 1        0\n",
       "16                   passes_key      numeric                 1        0\n",
       "17              passes_accurate      numeric                 1        0\n",
       "18                tackles_total      numeric                 1        0\n",
       "19               tackles_blocks      numeric                 1        0\n",
       "20        tackles_interceptions      numeric                 1        0\n",
       "21                  duels_total      numeric                 1        0\n",
       "22                    duels_won      numeric                 1        0\n",
       "23            dribbles_attempts      numeric                 1        0\n",
       "24             dribbles_success      numeric                 1        0\n",
       "25                dribbles_past      numeric                 1        0\n",
       "26                  fouls_drawn      numeric                 1        0\n",
       "27              fouls_committed      numeric                 1        0\n",
       "28                 cards_yellow      numeric                 1        0\n",
       "29                    cards_red      numeric                 1        0\n",
       "30                  penalty_won      numeric                 1        0\n",
       "31             penalty_commited      numeric                 1        0\n",
       "32               penalty_scored      numeric                 1        0\n",
       "33               penalty_missed      numeric                 1        0\n",
       "34                penalty_saved      numeric                 1        0\n",
       "47         dribble_success_rate      numeric                 1        0\n",
       "48  target_shot_conversion_perc      numeric                 1        0\n",
       "49               duels_won_perc      numeric                 1        0\n",
       "50           pass_accuracy_perc      numeric                 1        0\n",
       "52                       year_e      numeric                 1        0\n",
       "53                      month_e     datetime                 1        0\n",
       "54                 month_name_e  categorical                 1        1\n",
       "55                day_of_week_e      numeric                 1        0\n",
       "56           day_of_week_name_e  categorical                 1        1\n",
       "57                       week_e     datetime                 1        0\n",
       "64                    league_id      numeric                 1        0\n",
       "65                  league_name  categorical                 1        1"
      ]
     },
     "execution_count": 11,
     "metadata": {},
     "output_type": "execute_result"
    }
   ],
   "source": [
    "# This is the dictionary that contains all information about the features    \n",
    "dat_dict = find_data_types(complete_data,config['OUTCOME_COLS'] + ['outcome_num','outcome'])\n",
    "dat_dict = pd.DataFrame(list(dat_dict.items()),columns =['feature','type'])\n",
    "\n",
    "# differentiate modeling features\n",
    "non_modeling_features = config['FIXTURE_COLS'] + config['OUTCOME_COLS'] + config['MISC_COLS'] + ['outcome_num','league','win','fixture_date','season','fixture_date_dt','major_position','draw','loss']\n",
    "dat_dict['modeling_feature'] = np.where(dat_dict['feature'].isin(non_modeling_features),0,1)\n",
    "dat_dict['encoded'] = 0\n",
    "\n",
    "print(dat_dict['type'].value_counts())\n",
    "dat_dict.reset_index(drop= True)\n",
    "\n",
    "## Encode Features\n",
    "dat_dict = create_data_index(complete_data,dat_dict,'target',folder_manager.encoding_path)\n",
    "dat_dict[dat_dict.modeling_feature ==1]"
   ]
  },
  {
   "cell_type": "code",
   "execution_count": null,
   "metadata": {},
   "outputs": [],
   "source": [
    "# Run Player Comparison from LLm \n",
    "#player_compare  = compare_players_from_llm(complete_data,[\"Giovanni Leoni\",\"Ibrahima Konaté\"],years = [2025],normalize=True)"
   ]
  },
  {
   "cell_type": "code",
   "execution_count": 12,
   "metadata": {},
   "outputs": [],
   "source": [
    "# Fixture-Player data aggregated to Fixture level:\n",
    "fixture_dat = calculate_fixture_stats(complete_data,['league_name'])"
   ]
  },
  {
   "cell_type": "code",
   "execution_count": 13,
   "metadata": {},
   "outputs": [
    {
     "data": {
      "text/plain": [
       "fixture_id\n",
       "1223983    2\n",
       "720801     2\n",
       "605350     2\n",
       "605378     2\n",
       "605403     2\n",
       "          ..\n",
       "587467     1\n",
       "719409     1\n",
       "1180723    1\n",
       "719435     1\n",
       "1035523    1\n",
       "Name: count, Length: 11741, dtype: int64"
      ]
     },
     "execution_count": 13,
     "metadata": {},
     "output_type": "execute_result"
    }
   ],
   "source": [
    "# Sanity Check\n",
    "fixture_dat['fixture_id'].value_counts(ascending = False)"
   ]
  },
  {
   "cell_type": "code",
   "execution_count": null,
   "metadata": {},
   "outputs": [],
   "source": [
    "complete_data.head()"
   ]
  },
  {
   "cell_type": "markdown",
   "metadata": {},
   "source": [
    "# Clustering Opponents"
   ]
  },
  {
   "cell_type": "markdown",
   "metadata": {},
   "source": [
    "## Method 1: Decision Tree"
   ]
  },
  {
   "cell_type": "code",
   "execution_count": 15,
   "metadata": {},
   "outputs": [
    {
     "data": {
      "text/plain": [
       "(22661, 60)"
      ]
     },
     "execution_count": 15,
     "metadata": {},
     "output_type": "execute_result"
    }
   ],
   "source": [
    "fixture_dat.shape"
   ]
  },
  {
   "cell_type": "code",
   "execution_count": null,
   "metadata": {},
   "outputs": [],
   "source": [
    "# team Cluster by tree\n",
    "from sklearn.tree import DecisionTreeClassifier, plot_tree\n",
    "from category_encoders import OrdinalEncoder\n",
    "\n",
    "target_col = 'win'\n",
    "\n",
    "# Data to train Decision Tree on\n",
    "# team_class_dat = fixture_dat[['fixture_id','team','opponent','season','win']].drop_duplicates()\n",
    "team_class_dat = fixture_dat[list(set(['fixture_id','team','opponent','season','league_name',\n",
    "'games_rating','shots_total','shots_on','passes_key','passes_accurate','duels_total','duels_won','fouls_drawn',\n",
    "'dribble_success_rate','target_shot_conversion_perc','duels_won_perc','pass_accuracy_perc','fouls_committed','penalty_won'] + [target_col])) ].drop_duplicates()\n",
    "\n",
    "model_cols = []#['opponent_encoded,'games_rating','shots_total','shots_on','passes_key','passes_accurate','duels_total','duels_won','fouls_drawn','dribble_success_rate','target_shot_conversion_perc','duels_won_perc','pass_accuracy_perc','fouls_committed','penalty_won']\n",
    "\n",
    "\n",
    "# Encode Non numeric features\n",
    "oe = OrdinalEncoder()\n",
    "team_class_dat['team_encoded'] = oe.fit_transform(team_class_dat['team'])\n",
    "team_class_dat['opponent_encoded'] = oe.transform(team_class_dat.drop(columns = 'team').rename(columns={\"opponent\":'team'})['team']).astype(\"int\")\n",
    "team_class_dat.head()\n",
    "team_class_dat['team_cluster'] = 0\n",
    "\n",
    "for league, season in team_class_dat[['league_name', 'season']].drop_duplicates().itertuples(index=False):\n",
    "    if season != np.nan:\n",
    "        print(f\"for season {season}, and league {league}\")\n",
    "        dtc = DecisionTreeClassifier(max_depth=4)\n",
    "        print(\"Using cols: \", ['team_encoded'] + model_cols )\n",
    "        model = dtc.fit(team_class_dat[(team_class_dat.season == season) & (team_class_dat.league_name == league)][['team_encoded'] + model_cols],team_class_dat[(team_class_dat.season == season) & (team_class_dat.league_name == league)][target_col].values)\n",
    "        y_pred = model.predict(team_class_dat[(team_class_dat.season == season) & (team_class_dat.league_name == league)][['team_encoded']+ model_cols])\n",
    "        team_class_dat.loc[(team_class_dat.season == season) & (team_class_dat.league_name == league),'team_cluster'] = model.predict_proba(team_class_dat[(team_class_dat.season == season) & (team_class_dat.league_name == league)][['team_encoded']+ model_cols]).max(axis = 1)\n",
    "\n",
    "team_cluster_map = team_class_dat[['season','league_name','team','team_cluster']].drop_duplicates().reset_index(drop= True)\n",
    "team_class_dat = team_class_dat.merge(team_cluster_map,left_on = ['season','league_name','opponent'],right_on = ['season','league_name','team'],how = 'left').rename(columns = {'team_cluster_y':'opponent_cluster',\n",
    "                                                                                                              'team_cluster_x':'team_cluster',\n",
    "                                                                                                              'team_x':'team'}).drop(columns = ['team_y'])\n",
    "\n",
    "oe_cluster = OrdinalEncoder()\n",
    "team_class_dat['opponent_cluster_encoded'] = oe_cluster.fit_transform(team_class_dat['opponent_cluster'].astype(\"str\"))\n",
    "team_class_dat['team_cluster_encoded'] = oe_cluster.fit_transform(team_class_dat['team_cluster'].astype(\"str\"))\n",
    "\n",
    "oe_season = OrdinalEncoder()\n",
    "team_class_dat['season_ix'] = oe_season.fit_transform(team_class_dat['season'])"
   ]
  },
  {
   "cell_type": "code",
   "execution_count": null,
   "metadata": {},
   "outputs": [],
   "source": [
    "# Check Cluster differences\n",
    "team_class_dat.groupby('league_name')['opponent_cluster'].apply(lambda x: x.isna().mean())"
   ]
  },
  {
   "cell_type": "code",
   "execution_count": 20,
   "metadata": {},
   "outputs": [
    {
     "data": {
      "text/plain": [
       "Index(['fixture_id', 'team', 'league_name', 'offsides', 'games_minutes',\n",
       "       'games_number', 'games_rating', 'games_captain', 'games_substitute',\n",
       "       'shots_total', 'shots_on', 'goals_total', 'goals_assists',\n",
       "       'goals_saves', 'passes_total', 'passes_key', 'passes_accurate',\n",
       "       'tackles_total', 'tackles_blocks', 'tackles_interceptions',\n",
       "       'duels_total', 'duels_won', 'dribbles_attempts', 'dribbles_success',\n",
       "       'dribbles_past', 'fouls_drawn', 'fouls_committed', 'cards_yellow',\n",
       "       'cards_red', 'penalty_won', 'penalty_commited', 'penalty_scored',\n",
       "       'penalty_missed', 'penalty_saved', 'dribble_success_rate',\n",
       "       'target_shot_conversion_perc', 'duels_won_perc', 'pass_accuracy_perc',\n",
       "       'win', 'draw', 'loss', 'team_goals_scored',\n",
       "       'team_non_penalty_goals_scored', 'team_goals_scored_half',\n",
       "       'team_goals_conceded', 'team_non_penalty_goals_conceded',\n",
       "       'team_goals_conceded_half', 'team_winner', 'opponent', 'goal_diff',\n",
       "       'week_e', 'year_e', 'season', 'fixture_date', 'l3_win', 'l3_draw',\n",
       "       'l3_loss', 'l5_win', 'l5_draw', 'l5_loss'],\n",
       "      dtype='object')"
      ]
     },
     "execution_count": 20,
     "metadata": {},
     "output_type": "execute_result"
    }
   ],
   "source": [
    "fixture_dat.columns"
   ]
  },
  {
   "cell_type": "code",
   "execution_count": 99,
   "metadata": {},
   "outputs": [
    {
     "name": "stdout",
     "output_type": "stream",
     "text": [
      "The autoreload extension is already loaded. To reload it, use:\n",
      "  %reload_ext autoreload\n"
     ]
    }
   ],
   "source": [
    "auto_reload()"
   ]
  },
  {
   "cell_type": "code",
   "execution_count": 95,
   "metadata": {},
   "outputs": [],
   "source": [
    "create_submodel(\"catboost\")"
   ]
  },
  {
   "cell_type": "code",
   "execution_count": 87,
   "metadata": {},
   "outputs": [
    {
     "data": {
      "text/plain": [
       "Index(['fixture_id', 'team', 'league_name', 'offsides', 'games_minutes',\n",
       "       'games_number', 'games_rating', 'games_captain', 'games_substitute',\n",
       "       'shots_total', 'shots_on', 'goals_total', 'goals_assists',\n",
       "       'goals_saves', 'passes_total', 'passes_key', 'passes_accurate',\n",
       "       'tackles_total', 'tackles_blocks', 'tackles_interceptions',\n",
       "       'duels_total', 'duels_won', 'dribbles_attempts', 'dribbles_success',\n",
       "       'dribbles_past', 'fouls_drawn', 'fouls_committed', 'cards_yellow',\n",
       "       'cards_red', 'penalty_won', 'penalty_commited', 'penalty_scored',\n",
       "       'penalty_missed', 'penalty_saved', 'dribble_success_rate',\n",
       "       'target_shot_conversion_perc', 'duels_won_perc', 'pass_accuracy_perc',\n",
       "       'win', 'draw', 'loss', 'team_goals_scored',\n",
       "       'team_non_penalty_goals_scored', 'team_goals_scored_half',\n",
       "       'team_goals_conceded', 'team_non_penalty_goals_conceded',\n",
       "       'team_goals_conceded_half', 'team_winner', 'opponent', 'goal_diff',\n",
       "       'week_e', 'year_e', 'season', 'fixture_date', 'l3_win', 'l3_draw',\n",
       "       'l3_loss', 'l5_win', 'l5_draw', 'l5_loss'],\n",
       "      dtype='object')"
      ]
     },
     "execution_count": 87,
     "metadata": {},
     "output_type": "execute_result"
    }
   ],
   "source": [
    "fixture_dat.columns"
   ]
  },
  {
   "cell_type": "code",
   "execution_count": 98,
   "metadata": {},
   "outputs": [
    {
     "ename": "AttributeError",
     "evalue": "'numpy.ndarray' object has no attribute 'nunique'",
     "output_type": "error",
     "traceback": [
      "\u001b[31m---------------------------------------------------------------------------\u001b[39m",
      "\u001b[31mAttributeError\u001b[39m                            Traceback (most recent call last)",
      "\u001b[36mCell\u001b[39m\u001b[36m \u001b[39m\u001b[32mIn[98]\u001b[39m\u001b[32m, line 12\u001b[39m\n\u001b[32m      8\u001b[39m \u001b[38;5;28;01mfrom\u001b[39;00m\u001b[38;5;250m \u001b[39m\u001b[34;01msklearn\u001b[39;00m\u001b[34;01m.\u001b[39;00m\u001b[34;01mmodel_selection\u001b[39;00m\u001b[38;5;250m \u001b[39m\u001b[38;5;28;01mimport\u001b[39;00m train_test_split\n\u001b[32m     10\u001b[39m x_train,x_test,y_train,y_test = train_test_split(fixture_dat[ind_vars],fixture_dat[target].values,random_state = \u001b[32m33\u001b[39m, train_size=\u001b[32m.7\u001b[39m,stratify= fixture_dat.win)\n\u001b[32m---> \u001b[39m\u001b[32m12\u001b[39m model = \u001b[43mrun_model_with_fs_tune\u001b[49m\u001b[43m(\u001b[49m\u001b[43mx_train\u001b[49m\u001b[43m,\u001b[49m\u001b[43mx_test\u001b[49m\u001b[43m,\u001b[49m\u001b[43my_train\u001b[49m\u001b[43m,\u001b[49m\u001b[43my_test\u001b[49m\u001b[43m,\u001b[49m\u001b[43mdat_dict\u001b[49m\u001b[43m,\u001b[49m\u001b[33;43m'\u001b[39;49m\u001b[33;43mcatboost\u001b[39;49m\u001b[33;43m'\u001b[39;49m\u001b[43m,\u001b[49m\u001b[43mfolder_manager\u001b[49m\u001b[43m.\u001b[49m\u001b[43moutput_path\u001b[49m\u001b[43m)\u001b[49m\n",
      "\u001b[36mFile \u001b[39m\u001b[32m~/Library/Mobile Documents/com~apple~CloudDocs/Work/overperformXG/app/models.py:5\u001b[39m, in \u001b[36mrun_model_with_fs_tune\u001b[39m\u001b[34m(train_X, test_X, train_y, test_y, dat_dict, algorithm, output_path, problem_type)\u001b[39m\n\u001b[32m      2\u001b[39m \u001b[38;5;28;01mimport\u001b[39;00m\u001b[38;5;250m \u001b[39m\u001b[34;01mnumpy\u001b[39;00m\u001b[38;5;250m \u001b[39m\u001b[38;5;28;01mas\u001b[39;00m\u001b[38;5;250m \u001b[39m\u001b[34;01mnp\u001b[39;00m\n\u001b[32m      3\u001b[39m \u001b[38;5;28;01mimport\u001b[39;00m\u001b[38;5;250m \u001b[39m\u001b[34;01mmatplotlib\u001b[39;00m\u001b[34;01m.\u001b[39;00m\u001b[34;01mpyplot\u001b[39;00m\u001b[38;5;250m \u001b[39m\u001b[38;5;28;01mas\u001b[39;00m\u001b[38;5;250m \u001b[39m\u001b[34;01mplt\u001b[39;00m\n\u001b[32m----> \u001b[39m\u001b[32m5\u001b[39m \u001b[38;5;28;01mimport\u001b[39;00m\u001b[38;5;250m \u001b[39m\u001b[34;01mpymc\u001b[39;00m\u001b[38;5;250m \u001b[39m\u001b[38;5;28;01mas\u001b[39;00m\u001b[38;5;250m \u001b[39m\u001b[34;01mpm\u001b[39;00m\n\u001b[32m      6\u001b[39m \u001b[38;5;28;01mimport\u001b[39;00m\u001b[38;5;250m \u001b[39m\u001b[34;01marviz\u001b[39;00m\u001b[38;5;250m \u001b[39m\u001b[38;5;28;01mas\u001b[39;00m\u001b[38;5;250m \u001b[39m\u001b[34;01maz\u001b[39;00m\n\u001b[32m      7\u001b[39m \u001b[38;5;28;01mimport\u001b[39;00m\u001b[38;5;250m \u001b[39m\u001b[34;01mpytensor\u001b[39;00m\n",
      "\u001b[31mAttributeError\u001b[39m: 'numpy.ndarray' object has no attribute 'nunique'"
     ]
    }
   ],
   "source": [
    "# ensemble playing style predictions by win rate:\n",
    "\n",
    "target = 'win'\n",
    "cols_to_remove = ['goals_assists','goals_total','games_rating','goals_conceded','target_shot_conversion_perc']\n",
    "ind_vars = list(set(config['ATTACK_COLS'] + config['PASSING_COLS'] +  config['DEFENSE_COLS'] + config['GOALKEEPER_COLS'] + config['PLAYER_IND_COLS']).difference(set(cols_to_remove)))\n",
    "ind_vars = ind_vars + ['l3_win','l3_draw','l3_loss','l5_win','l5_draw','l5_loss']\n",
    "\n",
    "from sklearn.model_selection import train_test_split\n",
    "\n",
    "x_train,x_test,y_train,y_test = train_test_split(fixture_dat[ind_vars],fixture_dat[target].values,random_state = 33, train_size=.7,stratify= fixture_dat.win)\n",
    "\n",
    "model = run_model_with_fs_tune(x_train,x_test,y_train,y_test,dat_dict,'catboost',folder_manager.output_path)"
   ]
  },
  {
   "cell_type": "code",
   "execution_count": 84,
   "metadata": {},
   "outputs": [
    {
     "data": {
      "text/plain": [
       "<Axes: xlabel='target_shot_conversion_perc'>"
      ]
     },
     "execution_count": 84,
     "metadata": {},
     "output_type": "execute_result"
    },
    {
     "data": {
      "image/png": "[encoded data removed]",
      "text/plain": [
       "<Figure size 640x480 with 1 Axes>"
      ]
     },
     "metadata": {},
     "output_type": "display_data"
    }
   ],
   "source": [
    "sns.violinplot(fixture_dat,x = 'target_shot_conversion_perc', hue = 'win')"
   ]
  },
  {
   "cell_type": "markdown",
   "metadata": {},
   "source": [
    "# Bayesian Team Ability Estimation\n",
    "\n",
    " - team_ability: alpha ~ Normal(mu,sig^2)\n",
    " - opposition_difficulty: beta ~ Normal(mu,sig^2)\n",
    "\n",
    " - P(w) ~ binomial(N,alpha - beta)"
   ]
  },
  {
   "cell_type": "code",
   "execution_count": null,
   "metadata": {},
   "outputs": [],
   "source": [
    "# Data for Binomial Model\n",
    "\n",
    "team_class_dat_binom = team_class_dat.groupby(['season','team','team_cluster_encoded','opponent_cluster_encoded'],as_index = False).agg(wins = ('win','sum'), total_games = ('win','size'))\n",
    "#Encode season\n",
    "season_oe = OrdinalEncoder()\n",
    "team_class_dat_binom['season_encoded'] = season_oe.fit_transform(team_class_dat_binom['season'])\n",
    "team_class_dat_binom.head()"
   ]
  },
  {
   "cell_type": "code",
   "execution_count": null,
   "metadata": {},
   "outputs": [],
   "source": [
    "# PYMC model:\n",
    "# Model per season to estimate win probability given team ability, opponent cluster difficulty  \n",
    "\n",
    "season_ix_raw = team_class_dat_binom['season']\n",
    "team_ix_raw = team_class_dat_binom['team']\n",
    "opps_ix_raw = team_class_dat_binom['opponent_cluster_encoded']\n",
    "\n",
    "season_map = {x:i for i,x  in enumerate(team_class_dat_binom['season'].unique()) }\n",
    "team_map = {x:i for i,x  in enumerate(team_class_dat_binom['team'].unique()) }\n",
    "opps_map = {x:i for i,x  in enumerate(team_class_dat_binom['opponent_cluster_encoded'].unique()) }\n",
    "\n",
    "season_ix = season_ix_raw.map(season_map).to_numpy()\n",
    "team_ix = team_ix_raw.map(team_map).to_numpy()\n",
    "opps_ix = opps_ix_raw.map(opps_map).to_numpy()\n",
    "\n",
    "coords = {\n",
    "    \"team\": team_class_dat_binom.team.unique(),\n",
    "    \"opps\" : team_class_dat_binom.opponent_cluster_encoded.unique(),\n",
    "    \"season\" : team_class_dat_binom.season.unique()\n",
    "}\n",
    "\n",
    "\n",
    "\n",
    "with pm.Model(coords = coords) as model:\n",
    "\n",
    "    mu_team = pm.Normal(\"mu_team\", 0, 2)\n",
    "    sigma_team = pm.HalfNormal(\"sigma_team\", 3)\n",
    "\n",
    "    mu_opps = pm.Normal(\"mu_opps\", 0, 3)\n",
    "    sigma_opps = pm.HalfNormal(\"sigma_opps\", 5)\n",
    "\n",
    "    # Raw Ability:\n",
    "    theta_raw = pm.Normal(\"theta_raw\",0,1, dims = (\"season\",\"team\"))\n",
    "    theta_team = mu_team + theta_raw * sigma_team\n",
    "    theta = pm.Deterministic(\"theta\",theta_team - theta_team.mean(axis = 1,keepdims= True), dims = (\"season\",\"team\"))\n",
    "\n",
    "    beta_raw = pm.Normal(\"beta_raw\",0,1,dims = (\"season\",\"opps\"))\n",
    "    beta_team = mu_opps + beta_raw * sigma_opps\n",
    "    beta = pm.Deterministic(\"beta\", beta_team - beta_team.mean(axis = 1,keepdims = True), dims = (\"season\",\"opps\"))\n",
    "\n",
    "    logit = theta[season_ix,team_ix] - beta[season_ix,opps_ix]\n",
    "    p = pm.Deterministic(\"p\",pm.math.sigmoid(logit))\n",
    "    n = team_class_dat_binom['total_games'].values\n",
    "\n",
    "    # Likelihood:\n",
    "    p_win = pm.Binomial(\"p_win\",p = p, n = n,observed = team_class_dat_binom['wins'].values)\n",
    "\n",
    "    trace = pm.sample(return_inferencedata=True)\n",
    "\n",
    "\n"
   ]
  },
  {
   "cell_type": "code",
   "execution_count": null,
   "metadata": {},
   "outputs": [],
   "source": [
    "# Posterior\n",
    "p_summary =  pm.summary(trace)\n",
    "p_summary"
   ]
  },
  {
   "cell_type": "code",
   "execution_count": null,
   "metadata": {},
   "outputs": [],
   "source": [
    "season_filter = ['2022/2023','2024/2025','2023/2024']\n",
    "teams_filter = complete_data[(complete_data.season == '2024/2025') & (complete_data.league_name == 'Premier League')]['team'].unique()#['Liverpool','Chelsea','Nottingham Forest','Manchester United','Arsenal','Manchester City','Fulham']#complete_data[(complete_data.season == '2024/2025') & (complete_data.league_name == 'Premier League')]['team'].unique()\n",
    "\n",
    "season_dat = trace.posterior.sel(season = season_filter)\n",
    "team_dat = season_dat.sel(team = teams_filter)\n",
    "team_dat"
   ]
  },
  {
   "cell_type": "code",
   "execution_count": null,
   "metadata": {},
   "outputs": [],
   "source": [
    "import plotly.express as px\n",
    "import numpy as np\n",
    "\n",
    "# Select your variable\n",
    "theta = team_dat['theta'] if 'theta' in team_dat.data_vars else team_dat\n",
    "\n",
    "chains = theta.chain.values\n",
    "seasons = theta.season.values\n",
    "teams = theta.team.values\n",
    "\n",
    "# We'll build a long \"plot-ready\" dictionary\n",
    "plot_data = {\n",
    "    'value': [],\n",
    "    'team': [],\n",
    "    'chain': [],\n",
    "    'season': []\n",
    "}\n",
    "\n",
    "# Loop over coordinates and fill the dictionary\n",
    "for chain in chains:\n",
    "    for season in seasons:\n",
    "        for team in teams:\n",
    "            y = theta.sel(chain=chain, season=season, team=team).values\n",
    "            plot_data['value'].extend(y)\n",
    "            plot_data['team'].extend([team]*len(y))\n",
    "            plot_data['chain'].extend([chain]*len(y))\n",
    "            plot_data['season'].extend([season]*len(y))\n",
    "\n",
    "# Create the interactive KDE plot\n",
    "fig = px.violin(\n",
    "    plot_data,\n",
    "    x='team',\n",
    "    y='value',\n",
    "    color='team',\n",
    "    facet_row='chain',\n",
    "    facet_col='season',\n",
    "    box=True,          # optional: show boxplot inside violin\n",
    "    points='all',      # optional: show all individual points\n",
    "    hover_data=['team', 'chain', 'season']\n",
    ")\n",
    "\n",
    "fig.update_layout(height=300*len(chains), width=2000)\n",
    "fig.show()"
   ]
  },
  {
   "cell_type": "code",
   "execution_count": null,
   "metadata": {},
   "outputs": [],
   "source": [
    "team_cluster_map[team_cluster_map.league_name.str.contains(\"Ligue\")]"
   ]
  },
  {
   "cell_type": "code",
   "execution_count": null,
   "metadata": {},
   "outputs": [],
   "source": [
    "# Inspect the training data:\n"
   ]
  },
  {
   "cell_type": "code",
   "execution_count": null,
   "metadata": {},
   "outputs": [],
   "source": [
    "# Check Number of Clusters:\n",
    "# Low numbers could point to data issues\n",
    "pd.pivot(team_cluster_map.groupby(['season','league_name'])['team_cluster'].nunique().reset_index(),index = 'league_name', columns = \"season\")"
   ]
  },
  {
   "cell_type": "markdown",
   "metadata": {},
   "source": [
    "# Method 2: Kmeans"
   ]
  },
  {
   "cell_type": "code",
   "execution_count": null,
   "metadata": {},
   "outputs": [],
   "source": [
    "auto_reload()"
   ]
  },
  {
   "cell_type": "code",
   "execution_count": null,
   "metadata": {},
   "outputs": [],
   "source": [
    "# Fixture-Player data aggregated to Fixture level:\n",
    "fixture_dat = calculate_fixture_stats(complete_data,['league_name'])\n",
    "fixture_dat.head()"
   ]
  },
  {
   "cell_type": "code",
   "execution_count": null,
   "metadata": {},
   "outputs": [],
   "source": [
    "# Time based split\n",
    "min_time = fixture_dat.fixture_date.min()\n",
    "max_time = fixture_dat.fixture_date.max()\n",
    "split_70 = (min_time + (max_time - min_time) * .75 ).strftime(\"%Y-%m-%d\")\n",
    "print(split_70)\n",
    "fixture_dat['train_split'] = np.where(fixture_dat.fixture_date <= split_70,1,0)\n",
    "fixture_dat.head()\n"
   ]
  },
  {
   "cell_type": "code",
   "execution_count": null,
   "metadata": {},
   "outputs": [],
   "source": [
    "# Since tree classification is on a single target metric,\n",
    "# I will try a K-means clustering approach to account for all data to cluster teams to get ~10-15 different playing styles\n",
    "\n",
    "kmeans_cols = list(set(['games_rating','shots_total','shots_on','passes_total','passes_key','passes_accurate','duels_total','duels_won','fouls_drawn','cards_yellow','tackles_interceptions','tackles_blocks',\n",
    "'dribble_success_rate','dribbles_past','target_shot_conversion_perc','duels_won_perc','pass_accuracy_perc','fouls_committed','fouls_drawn','penalty_won','penalty_commited']))\n",
    "\n",
    "train_dat = fixture_dat[fixture_dat.train_split == 1]\n",
    "train_dat = fit_kmeans(train_dat,kmeans_cols)\n",
    "\n",
    "# Predict on all data:\n",
    "# fixture_dat = fixture_dat.merge(fixture_dat[['team','fixture_id','cluster_rank']],left_on = ['fixture_id','opponent'],right_on = ['fixture_id','team'],suffixes=(\"\",\"_opponent_km\"),how = 'left').drop(columns = ['team_opponent_km'])\n",
    "# fixture_dat = fixture_dat[fixture_dat.cluster_rank_opponent_km.notna()]\n",
    "# fixture_dat['cluster_rank'] = fixture_dat['cluster_rank'].astype(\"int\")\n",
    "# fixture_dat['cluster_rank_opponent_km'] = fixture_dat['cluster_rank_opponent_km'].astype(\"int\")\n",
    "# fixture_dat.head()\n",
    "\n"
   ]
  },
  {
   "cell_type": "code",
   "execution_count": null,
   "metadata": {},
   "outputs": [],
   "source": [
    "auto_reload()"
   ]
  },
  {
   "cell_type": "code",
   "execution_count": null,
   "metadata": {},
   "outputs": [],
   "source": [
    "# Predict Kmeans fro previous model:\n",
    "test_dat = fixture_dat[fixture_dat.train_split == 0]\n",
    "\n",
    "test_dat = predict_kmeans(test_dat,\"/Users/echhitjoshi/Library/Mobile Documents/com~apple~CloudDocs/Work/overperformXG/outputs/models/01_23_04_llm_new\")\n",
    "test_dat"
   ]
  },
  {
   "cell_type": "code",
   "execution_count": null,
   "metadata": {},
   "outputs": [],
   "source": [
    "# Clusters grouped by win rate\n",
    "cluster_map = train_dat.groupby(['cluster','cluster_rank'],as_index = False).agg(games = ('cluster','size'),win_perc = (\"win_perc\",\"mean\") )\n",
    "clusters = pd.read_csv(config['HOME_DIRECTORY'] + \"/outputs/models/\" +folder_manager.submodel_name + \"/kmeanscluster_centers.csv\").reset_index().rename(columns = {'index':'cluster'})\n",
    "clusters = clusters.merge(cluster_map,how = 'left').drop(columns = ['cluster'])\n",
    "print(f\"Number of clusters: {clusters.shape[0]}\")\n",
    "clusters = pd.concat([clusters.iloc[:,-3:], clusters.iloc[:,:-3]],axis = 1).sort_values('cluster_rank')\n",
    "clusters['cluster_rank'] = clusters['cluster_rank'].astype(\"int\")\n",
    "clusters.sort_values('cluster_rank',ascending = True,inplace = True)\n",
    "clusters"
   ]
  },
  {
   "cell_type": "code",
   "execution_count": null,
   "metadata": {},
   "outputs": [],
   "source": [
    "fixture_dat.query(\"league_name == 'Premier League' and cluster_rank == 4\").set_index('year_e').sort_index()[['team','opponent','cluster_rank_opponent_km']]['team'].value_counts(normalize = True, ascending = False)"
   ]
  },
  {
   "cell_type": "code",
   "execution_count": null,
   "metadata": {},
   "outputs": [],
   "source": [
    "#Binomial data for Bayesian Model:\n",
    "model_dat = fixture_dat.groupby(['season','team','cluster_rank_opponent_km'],as_index = False).agg(win = ('win','sum'),games_played = ('win','size'))\n",
    "model_dat.head()"
   ]
  },
  {
   "cell_type": "code",
   "execution_count": null,
   "metadata": {},
   "outputs": [],
   "source": [
    "# Cluster feature distribution\n",
    "px.violin(fixture_dat,y = 'target_shot_conversion_perc',x = 'cluster_rank')"
   ]
  },
  {
   "cell_type": "code",
   "execution_count": null,
   "metadata": {},
   "outputs": [],
   "source": [
    "px.violin(fixture_dat[(fixture_dat.team.isin(['Liverpool','Crystal Palace']) ) & (fixture_dat.fixture_date >= '2025-03-01')],x = 'cluster_rank',color = 'team')"
   ]
  },
  {
   "cell_type": "code",
   "execution_count": null,
   "metadata": {},
   "outputs": [],
   "source": [
    "fixture_dat[(fixture_dat.team == 'Liverpool') & (fixture_dat.opponent == 'Crystal Palace')][['fixture_date','team','cluster_rank','cluster_rank_opponent_km','opponent']].sort_values('fixture_date',ascending = False)"
   ]
  },
  {
   "cell_type": "code",
   "execution_count": null,
   "metadata": {},
   "outputs": [],
   "source": [
    "fixture_dat[(fixture_dat.cluster_rank  == 7) & (fixture_dat.league_name == 'Premier League') & (fixture_dat.fixture_date >= '2025-03-01')]"
   ]
  },
  {
   "cell_type": "code",
   "execution_count": null,
   "metadata": {},
   "outputs": [],
   "source": [
    "complete_data[complete_data.team == 'Liverpool'].groupby('season').agg(first_game = ('fixture_date', lambda x: complete_data[complete_data.team == 'Liverpool'].loc[x.idxmin(),'opponent']))"
   ]
  },
  {
   "cell_type": "code",
   "execution_count": null,
   "metadata": {},
   "outputs": [],
   "source": [
    "complete_data[complete_data.team == 'Liverpool'].groupby('season').agg()"
   ]
  },
  {
   "cell_type": "markdown",
   "metadata": {},
   "source": [
    "# Method 3: GMM (Gausian Mixture Model)"
   ]
  },
  {
   "cell_type": "code",
   "execution_count": 55,
   "metadata": {},
   "outputs": [],
   "source": [
    "fixture_dat = calculate_fixture_stats(complete_data,['league_name'])\n",
    "fixture_dat.head()"
   ]
  },
  {
   "cell_type": "code",
   "execution_count": 56,
   "metadata": {},
   "outputs": [],
   "source": [
    "auto_reload()"
   ]
  },
  {
   "cell_type": "code",
   "execution_count": 57,
   "metadata": {},
   "outputs": [],
   "source": [
    "from sklearn.mixture import GaussianMixture\n",
    "\n",
    "\n",
    "gmm_cols = list(set(['games_rating','shots_total','shots_on','passes_total','passes_key','passes_accurate','duels_total','duels_won','fouls_drawn','cards_yellow','tackles_interceptions','tackles_blocks',\n",
    "'dribble_success_rate','dribbles_past','target_shot_conversion_perc','duels_won_perc','pass_accuracy_perc','fouls_committed','fouls_drawn','penalty_won','penalty_commited']))\n",
    "\n",
    "\n",
    "gmm_fixture = fit_gmm(fixture_dat,['fixture_id']+gmm_cols, 15, 'gmm_all')\n",
    "fixture_dat = fixture_dat.merge(gmm_fixture,on = 'fixture_id',how = 'left')\n",
    "fixture_dat.head()\n",
    "\n"
   ]
  },
  {
   "cell_type": "code",
   "execution_count": 62,
   "metadata": {},
   "outputs": [],
   "source": [
    "fixture_dat.groupby('gmm_all').agg(games = ('fixture_id','nunique'),win_rate = ('win','mean')).sort_values(['win_rate'],ascending = False)"
   ]
  },
  {
   "cell_type": "code",
   "execution_count": 42,
   "metadata": {},
   "outputs": [],
   "source": [
    "auto_reload()"
   ]
  },
  {
   "cell_type": "code",
   "execution_count": null,
   "metadata": {},
   "outputs": [],
   "source": [
    "# Idea:\n",
    "# Given Team and opponent, can we infer the playing style i.e. cluster \n",
    "\n",
    "# Lets try\n",
    "from sklearn.tree import DecisionTreeClassifier\n",
    "from sklearn.model_selection import train_test_split\n",
    "\n",
    "\n",
    "# split\n",
    "fixture_dat = \n"
   ]
  },
  {
   "cell_type": "code",
   "execution_count": null,
   "metadata": {},
   "outputs": [],
   "source": [
    "auto_reload()\n",
    "config['HOME_DIRECTORY'] + \"/outputs/models/\" + folder_manager.submodel_name"
   ]
  },
  {
   "cell_type": "code",
   "execution_count": null,
   "metadata": {},
   "outputs": [],
   "source": [
    "trace_new = bayesian_team_ability_model(model_dat,'team','cluster_rank_opponent_km','season','win','games_played',config['HOME_DIRECTORY'] + \"/outputs/models/\" +folder_manager.submodel_name,\"summary\")"
   ]
  },
  {
   "cell_type": "code",
   "execution_count": null,
   "metadata": {},
   "outputs": [],
   "source": [
    "complete_data[complete_data.team == 'Liverpool'][['fixture_id','team','opponent','season']]"
   ]
  },
  {
   "cell_type": "code",
   "execution_count": null,
   "metadata": {},
   "outputs": [],
   "source": [
    "post_new_sum = az.summary(trace_new)"
   ]
  },
  {
   "cell_type": "code",
   "execution_count": null,
   "metadata": {},
   "outputs": [],
   "source": [
    "model_dat.head()"
   ]
  },
  {
   "cell_type": "code",
   "execution_count": null,
   "metadata": {},
   "outputs": [],
   "source": [
    "# test prediction:\n",
    "test_dat = pd.DataFrame({\"team\":[\"Liverpool\"] * 5,\"opponent_cluster\":[1,2,4,5,10],\"season\":[\"2024/2025\"] * 5})\n",
    "new_pred = predict_bayesian_team_ability(test_dat,config['HOME_DIRECTORY'] + \"/outputs/models/\" + folder_manager.submodel_name,\"team\",\"opponent_cluster\",\"season\")"
   ]
  },
  {
   "cell_type": "code",
   "execution_count": null,
   "metadata": {},
   "outputs": [],
   "source": [
    "new_pred"
   ]
  },
  {
   "cell_type": "code",
   "execution_count": null,
   "metadata": {},
   "outputs": [],
   "source": [
    "fixture_dat[fixture_dat['team'] == 'Crystal Palace'][['fixture_date','cluster_rank','opponent']].sort_values('fixture_date',ascending = False)"
   ]
  },
  {
   "cell_type": "code",
   "execution_count": null,
   "metadata": {},
   "outputs": [],
   "source": [
    "liverpool_theta_new = post_new.sel(team = 'Liverpool')\n",
    "liverpool_theta_new"
   ]
  },
  {
   "cell_type": "code",
   "execution_count": null,
   "metadata": {},
   "outputs": [],
   "source": [
    "import plotly.express as px\n",
    "import numpy as np\n",
    "\n",
    "# Select your variable\n",
    "theta = team_dat['theta'] if 'theta' in team_dat.data_vars else team_dat\n",
    "theta_stacked = theta.stack(sample = (\"chain\",\"draw\"))\n",
    "\n",
    "#chains = theta.chain.values\n",
    "seasons = theta.season.values\n",
    "teams = theta.team.values\n",
    "\n",
    "# We'll build a long \"plot-ready\" dictionary\n",
    "plot_data = {\n",
    "    'value': [],\n",
    "    'team': [],\n",
    "    'season': []\n",
    "}\n",
    "\n",
    "# Loop over coordinates and fill the dictionary\n",
    "#for chain in chains:\n",
    "for season in seasons:\n",
    "    for team in teams:\n",
    "        y = theta_stacked.sel( season=season, team=team).values\n",
    "        plot_data['value'].extend(y)\n",
    "        plot_data['team'].extend([team]*len(y))\n",
    "        #plot_data['chain'].extend([chain]*len(y))\n",
    "        plot_data['season'].extend([season]*len(y))\n",
    "\n",
    "# Create the interactive KDE plot\n",
    "fig = px.violin(\n",
    "    plot_data,\n",
    "    x='team',\n",
    "    y='value',\n",
    "    color='team',\n",
    "    facet_col='season',\n",
    "    box=True,          # optional: show boxplot inside violin\n",
    "    points='all',      # optional: show all individual points\n",
    "    hover_data=['team', 'season']\n",
    ")\n",
    "\n",
    "fig.update_layout(height=300*4, width=2000)\n",
    "fig.show()"
   ]
  },
  {
   "cell_type": "markdown",
   "metadata": {},
   "source": []
  },
  {
   "cell_type": "code",
   "execution_count": null,
   "metadata": {},
   "outputs": [],
   "source": []
  },
  {
   "cell_type": "code",
   "execution_count": null,
   "metadata": {},
   "outputs": [],
   "source": [
    "fixture_dat = calculate_fixture_stats(complete_data,['games_position'])"
   ]
  },
  {
   "cell_type": "code",
   "execution_count": null,
   "metadata": {},
   "outputs": [],
   "source": [
    "filter = 'games_position.isin([\"M\",\"D\"])' #'fixture_id.notna()' # \n",
    "\n",
    "target = 'team_goals_scored'\n",
    "col_subset = [['win','games_rating','shots_total','shots_on','goals_total','goals_saves','duels_won']]\n",
    "\n",
    "cor_dat = fixture_dat.query(filter).corr(numeric_only=True)[[target]]\n",
    "cor_dat.drop(target,inplace = True)\n",
    "\n",
    "sorted_cols = cor_dat.sort_values(target,ascending = False).index.to_list()\n",
    "\n",
    "fig, ax = plt.subplots(1,1,figsize = (15,10))\n",
    "sns.heatmap(cor_dat.loc[sorted_cols],cmap = 'coolwarm',ax=ax)\n",
    "ax.set_xticklabels(ax.get_xticklabels(),rotation =75)\n",
    "fig.show()"
   ]
  },
  {
   "cell_type": "markdown",
   "metadata": {},
   "source": [
    "# Player Model"
   ]
  },
  {
   "cell_type": "code",
   "execution_count": null,
   "metadata": {},
   "outputs": [],
   "source": [
    "attack = config['ATTACK_COLS'] + config['PASSING_COLS'] +  ['games_rating','games_minutes']\n",
    "defense = config['DEFENSE_COLS'] + config['PASSING_COLS'] +  ['games_rating','games_minutes']"
   ]
  },
  {
   "cell_type": "code",
   "execution_count": null,
   "metadata": {},
   "outputs": [],
   "source": [
    "find_player(complete_data,player_name=\"Leoni\")"
   ]
  },
  {
   "cell_type": "code",
   "execution_count": null,
   "metadata": {},
   "outputs": [],
   "source": [
    "auto_reload()"
   ]
  },
  {
   "cell_type": "code",
   "execution_count": null,
   "metadata": {},
   "outputs": [],
   "source": [
    "complete_data = complete_data.iloc[:,:-4]"
   ]
  },
  {
   "cell_type": "code",
   "execution_count": null,
   "metadata": {},
   "outputs": [],
   "source": [
    "# After creating Fixtures dat\n",
    "# Fixtures clusters to join \n",
    "fixture_team_cluster = fixture_dat[['fixture_id','team','cluster_rank','cluster_rank_opponent_km']].drop_duplicates()\n",
    "complete_data = complete_data.merge(fixture_team_cluster,on = ['fixture_id','team'],how = 'left')\n",
    "#complete_data['cluster_rank_opponent_km'] = complete_data['cluster_rank_opponent_km'].astype(\"float\").astype(\"int\").astype(\"str\")"
   ]
  },
  {
   "cell_type": "code",
   "execution_count": null,
   "metadata": {},
   "outputs": [],
   "source": [
    "complete_data.shape"
   ]
  },
  {
   "cell_type": "code",
   "execution_count": null,
   "metadata": {},
   "outputs": [],
   "source": [
    "complete_data.head()"
   ]
  },
  {
   "cell_type": "code",
   "execution_count": null,
   "metadata": {},
   "outputs": [],
   "source": [
    "complete_data[complete_data.fixture_date >= datetime.today() - timedelta(days = 50)]"
   ]
  },
  {
   "cell_type": "code",
   "execution_count": null,
   "metadata": {},
   "outputs": [],
   "source": [
    "# average data points per player:\n",
    "complete_data.groupby('player_name')['player_name'].agg(\"count\").hist(bins = 200)"
   ]
  },
  {
   "cell_type": "code",
   "execution_count": null,
   "metadata": {},
   "outputs": [],
   "source": [
    "# Maybe low count per player-match\n",
    "# Lets say how does florian Wirtz fair in terms of key passes in terms of opponent clusters\n",
    "metric = 'goals_assists'\n",
    "flo = complete_data.query(\"player_name == 'Florian Wirtz' and games_minutes > 20 and cluster_rank_opponent_km.notna()\")[[metric,'cluster_rank_opponent_km']].fillna(0)\n",
    "\n",
    "flo[\"cluster_rank_opponent_km\"] = pd.to_numeric(flo[\"cluster_rank_opponent_km\"], errors=\"coerce\")\n",
    "flo = flo.dropna(subset=[\"cluster_rank_opponent_km\"])\n",
    "flo[\"cluster_rank_opponent_km\"] = flo[\"cluster_rank_opponent_km\"].astype(int)\n",
    "cluster_sort = sorted(flo['cluster_rank_opponent_km'].unique())\n",
    "\n",
    "fig = px.violin(\n",
    "    flo,\n",
    "    x=metric,\n",
    "    color=\"cluster_rank_opponent_km\",\n",
    "    category_orders={\"cluster_rank_opponent_km\": cluster_sort},\n",
    "    title=\"Florian Wirtz: Key Passes vs Opponent Clusters\"\n",
    ")\n",
    "fig.show()"
   ]
  },
  {
   "cell_type": "code",
   "execution_count": null,
   "metadata": {},
   "outputs": [],
   "source": [
    "complete_data.groupby('team').agg(null_opps_clusters = (\"cluster_rank_opponent_km\",lambda x: np.mean(x.isna()) )).sort_values(\"null_opps_clusters\",ascending=False).query('null_opps_clusters > .10')"
   ]
  },
  {
   "cell_type": "code",
   "execution_count": null,
   "metadata": {},
   "outputs": [],
   "source": [
    "all_defenders_2025 = complete_data[(complete_data.major_position == 'D')]['player_name'].unique()\n",
    "all_defenders_2025"
   ]
  },
  {
   "cell_type": "code",
   "execution_count": null,
   "metadata": {},
   "outputs": [],
   "source": [
    "defenders_compare = compare_players(complete_data,all_defenders_2025,seasons = [\"2024/2025\"],transpose = False)\n",
    "defenders_compare.head()"
   ]
  },
  {
   "cell_type": "code",
   "execution_count": null,
   "metadata": {},
   "outputs": [],
   "source": [
    "defenders_compare.columns"
   ]
  },
  {
   "cell_type": "code",
   "execution_count": null,
   "metadata": {},
   "outputs": [],
   "source": [
    "complete_data.head()"
   ]
  },
  {
   "cell_type": "code",
   "execution_count": null,
   "metadata": {},
   "outputs": [],
   "source": [
    "per_90_cols = [col for col in defenders_compare.columns if \"per_90\" in col]\n",
    "attack_per_90_cols  = ['total_shots_per_90','shots_on_target_per_90','goals_scored_per_90','assists_per_90',\n",
    "                       'fouls_drawn_per_90','attempted_dribbles_per_90','successful_dribbles_per_90',\n",
    "                       'dribble_success_rate_per_90','duels_contested_per_90','duels_won_per_90','duels_won_percentage_per_90']\n",
    "defense_per_90_cols = ['yellow_cards_per_90','red_cards_per_90','fouls_drawn_per_90','fouls_committed_per_90',\n",
    "                       'dribbled_past_per_90', 'total_tackles_per_90','blocks_per_90','interceptions_per_90',\n",
    "                       'duels_contested_per_90','duels_won_per_90','duels_won_percentage_per_90','penalties_committed_per_90']\n",
    "pass_per_90_cols = [ 'total_passes_per_90','key_passes_per_90', 'average_passes_accurate_per_90','average_pass_accuracy_per_90']"
   ]
  },
  {
   "cell_type": "code",
   "execution_count": null,
   "metadata": {},
   "outputs": [],
   "source": [
    "defenders_compare.head()"
   ]
  },
  {
   "cell_type": "code",
   "execution_count": null,
   "metadata": {},
   "outputs": [],
   "source": [
    "# Calculate Clusters:\n",
    "filter = 'total_minutes_played  > 1000'\n",
    "defense_cluster = 'defense_cluster'\n",
    "pass_cluster = 'pass_cluster'\n",
    "defenders_compare_w_cluster = fit_kmeans(defenders_compare.query(filter),defense_per_90_cols,12,defense_cluster)\n",
    "defenders_compare_w_cluster = fit_kmeans(defenders_compare_w_cluster.query(filter),pass_per_90_cols,None,pass_cluster)"
   ]
  },
  {
   "cell_type": "code",
   "execution_count": null,
   "metadata": {},
   "outputs": [],
   "source": [
    "[col for col in complete_data.columns if 'position' in col]"
   ]
  },
  {
   "cell_type": "code",
   "execution_count": null,
   "metadata": {},
   "outputs": [],
   "source": [
    "find_player(complete_data,player_name=\"Virgil van\")"
   ]
  },
  {
   "cell_type": "code",
   "execution_count": null,
   "metadata": {},
   "outputs": [],
   "source": [
    "defenders_compare_w_cluster[defenders_compare_w_cluster.player_name.str.contains(\"William Saliba\")]"
   ]
  },
  {
   "cell_type": "code",
   "execution_count": null,
   "metadata": {},
   "outputs": [],
   "source": [
    "defense_cluster"
   ]
  },
  {
   "cell_type": "code",
   "execution_count": null,
   "metadata": {},
   "outputs": [],
   "source": [
    "clusters = defenders_compare_w_cluster[defenders_compare_w_cluster.player_name.str.contains('William Saliba')][[defense_cluster,pass_cluster]].values\n",
    "clusters\n",
    "#defenders_compare_w_cluster[defenders_compare_w_cluster[cluster_name].isin(defenders_compare_w_cluster[condition][cluster_name])].sort_values(\"average_rating\",ascending = False)"
   ]
  },
  {
   "cell_type": "code",
   "execution_count": null,
   "metadata": {},
   "outputs": [],
   "source": [
    "folder_manager.llm_code_path"
   ]
  },
  {
   "cell_type": "code",
   "execution_count": null,
   "metadata": {},
   "outputs": [],
   "source": [
    "question = \"How are you doing?\"\n",
    "question_no_spec = re.sub(r\"[?.,;:]\",\"\",question)\n",
    "split_words = [word for word in question_no_spec.split(\" \")]\n",
    "split_words"
   ]
  },
  {
   "cell_type": "code",
   "execution_count": null,
   "metadata": {},
   "outputs": [],
   "source": [
    "complete_data.columns"
   ]
  },
  {
   "cell_type": "code",
   "execution_count": null,
   "metadata": {},
   "outputs": [],
   "source": [
    "defenders_compare_w_cluster[(defenders_compare_w_cluster.player_name.isin([\"Mike Eerdhuijzen\",\"Giovanni Leoni\",\"Nikola Milenković\",\"Marc Guéhi\",\"Ladislav Krejčí\"]))][['player_name'] + [col for col in defenders_compare.columns if \"per_90\" in col]].T"
   ]
  },
  {
   "cell_type": "code",
   "execution_count": null,
   "metadata": {},
   "outputs": [],
   "source": [
    "\n"
   ]
  },
  {
   "cell_type": "code",
   "execution_count": null,
   "metadata": {},
   "outputs": [],
   "source": [
    "complete_data.columns"
   ]
  },
  {
   "cell_type": "code",
   "execution_count": null,
   "metadata": {},
   "outputs": [],
   "source": [
    "plot_from_llm(complete_data[complete_data.player_name == 'Olivier Boscagli'],\"Plot Average games_rating with error cloud by month_e faceted by team\")"
   ]
  },
  {
   "cell_type": "code",
   "execution_count": null,
   "metadata": {},
   "outputs": [],
   "source": [
    "plot_continuous_trend(complete_data[complete_data.player_name == 'Emmanuel Agbadou'],\"month_e\",\"games_rating\")"
   ]
  },
  {
   "cell_type": "code",
   "execution_count": null,
   "metadata": {},
   "outputs": [],
   "source": [
    "filter_query = 'major_position.isin([\"M\"])'\n",
    "\n",
    "\n",
    "# Stat to look at:\n",
    "stat = 'target_shot_conversion_perc'\n",
    "agg_fun = \"mean\"\n",
    "rank_cutoff = 20\n",
    "\n",
    "# configs \n",
    "min_appearance = 40\n",
    "\n",
    "dribble_dat_g = complete_data.query(filter_query).reset_index().fillna(0).groupby(\"player_name\").agg(n_apps = (\"player_name\",\"size\"),stat = (stat,agg_fun)).reset_index()\n",
    "dribble_dat_g = dribble_dat_g[dribble_dat_g.n_apps >= min_appearance]\n",
    "dribble_dat_g['rank'] = dribble_dat_g[\"stat\"].fillna(0).rank(ascending= False,method = 'dense')\n",
    "dribble_dat_g.sort_values(\"rank\",inplace = True)\n",
    "\n",
    "fig, ax = plt.subplots(figsize=(13, 8))\n",
    "\n",
    "# Plot correctly, no comma here\n",
    "sns.boxplot(\n",
    "    data=complete_data.query(filter_query)[complete_data.query(filter_query).player_name.isin(dribble_dat_g[dribble_dat_g['rank'] < rank_cutoff]['player_name'])],\n",
    "    x=\"player_name\",\n",
    "    y=stat,\n",
    "    order=dribble_dat_g[dribble_dat_g['rank'] < rank_cutoff]['player_name'],\n",
    "    ax=ax,\n",
    "    \n",
    ")\n",
    "\n",
    "# Now this works correctly on `ax`\n",
    "ax.set_xticklabels(ax.get_xticklabels(), rotation=45, ha='right')\n",
    "ax.set_title(f\"Stat: {stat}\")\n",
    "plt.tight_layout()\n",
    "plt.show()\n"
   ]
  },
  {
   "cell_type": "code",
   "execution_count": null,
   "metadata": {},
   "outputs": [],
   "source": [
    "fig = plt.subplots(nrows=1, ncols = 1, figsize = (20,10))\n",
    "fig = sns.heatmap(complete_data.query(filter_query)[config['ATTACK_COLS']  + ['team_goals_scored','team_non_penalty_goals_scored','team_goals_conceded','games_rating']].corr(),cmap = 'coolwarm')\n",
    "fig.set_xticklabels(fig.get_xticklabels(),rotation = 60)"
   ]
  },
  {
   "cell_type": "code",
   "execution_count": null,
   "metadata": {},
   "outputs": [],
   "source": [
    "complete_data.head()"
   ]
  },
  {
   "cell_type": "code",
   "execution_count": null,
   "metadata": {},
   "outputs": [],
   "source": [
    "sns.pairplot(complete_data.query(filter_query)[config['PASSING_COLS']  + ['team_goals_scored','team_non_penalty_goals_scored','team_goals_conceded']])"
   ]
  },
  {
   "cell_type": "code",
   "execution_count": null,
   "metadata": {},
   "outputs": [],
   "source": [
    "complete_data.columns"
   ]
  },
  {
   "cell_type": "code",
   "execution_count": null,
   "metadata": {},
   "outputs": [],
   "source": [
    "config['PASSING_COLS'] + config['DEFENSE_COLS']"
   ]
  },
  {
   "cell_type": "code",
   "execution_count": null,
   "metadata": {},
   "outputs": [],
   "source": [
    "# trial multiclass model:\n",
    "from sklearn.model_selection import train_test_split\n",
    "\n",
    "X_train, X_test, y_train, y_test = train_test_split(complete_data.query(filter_query)[list(set(config['PASSING_COLS'] + config['DEFENSE_COLS'] ))],\n",
    "                                                    complete_data.query(filter_query)['win'],\n",
    "                                                    stratify=complete_data.query(filter_query)['win'],\n",
    "                                                    random_state=33)\n"
   ]
  },
  {
   "cell_type": "code",
   "execution_count": null,
   "metadata": {},
   "outputs": [],
   "source": [
    "create_submodel(\"catboost\")"
   ]
  },
  {
   "cell_type": "code",
   "execution_count": null,
   "metadata": {},
   "outputs": [],
   "source": [
    "output_path"
   ]
  },
  {
   "cell_type": "code",
   "execution_count": null,
   "metadata": {},
   "outputs": [],
   "source": [
    "model = run_model_with_fs_tune(X_train, X_test, y_train, y_test,dat_dict,'catboost',output_path=folder_manager.output_path)"
   ]
  },
  {
   "cell_type": "code",
   "execution_count": null,
   "metadata": {},
   "outputs": [],
   "source": [
    "dat = NNDataFromPd(X_train.fillna(0), y_train.outcome_num, dat_dict)\n",
    "train_loader = DataLoader(dat, batch_size = 128,shuffle= True)"
   ]
  },
  {
   "cell_type": "code",
   "execution_count": null,
   "metadata": {},
   "outputs": [],
   "source": [
    "train_loader.dataset.X_numeric_tensor.shape"
   ]
  },
  {
   "cell_type": "code",
   "execution_count": null,
   "metadata": {},
   "outputs": [],
   "source": [
    "# model params\n",
    "n_features = X_train.shape[1]\n",
    "n_classes = y_train.iloc[:,0].nunique()\n",
    "model = MultiClassModel(n_features,n_classes)\n",
    "\n",
    "criterion = nn.CrossEntropyLoss()\n",
    "optimizer = optim.Adam(model.parameters(),lr = 0.001)"
   ]
  },
  {
   "cell_type": "code",
   "execution_count": null,
   "metadata": {},
   "outputs": [],
   "source": [
    "epochs = 500\n",
    "\n",
    "for epoch in range(epochs):\n",
    "    \n",
    "    epoch_loss = 0\n",
    "\n",
    "    for X_numeric_batch, X_categoric_batch, y_batch in train_loader:\n",
    "        \n",
    "        pred = model.forward(X_numeric_batch)\n",
    "        \n",
    "        loss = criterion(pred,y_batch)\n",
    "\n",
    "        optimizer.zero_grad()\n",
    "\n",
    "        loss.backward()\n",
    "\n",
    "        optimizer.step()\n",
    "\n",
    "        epoch_loss += loss.item()\n",
    "\n",
    "    print(f\"Epoch: {epoch}, Loss: {epoch_loss}\")"
   ]
  },
  {
   "cell_type": "code",
   "execution_count": null,
   "metadata": {},
   "outputs": [],
   "source": [
    "model.eval()"
   ]
  },
  {
   "cell_type": "code",
   "execution_count": null,
   "metadata": {},
   "outputs": [],
   "source": [
    "X_test['passes_accuracy'] = X_test['passes_accuracy'].astype(\"float64\")"
   ]
  },
  {
   "cell_type": "code",
   "execution_count": null,
   "metadata": {},
   "outputs": [],
   "source": [
    "# test sets\n",
    "\n",
    "test_dat = NNDataFromPd(X_test,y_test,dat_dict)\n",
    "test_loader = DataLoader(test_dat,batch_size= X_test.shape[0],shuffle=True)"
   ]
  },
  {
   "cell_type": "code",
   "execution_count": null,
   "metadata": {},
   "outputs": [],
   "source": [
    "model.eval()\n",
    "with torch.no_grad():\n",
    "    for X_numeric_batch, X_categoric_batch, y_batch in test_loader:\n",
    "        output = model(X_numeric_batch)\n",
    "        pred_class = torch.argmax(output, dim = 1)"
   ]
  },
  {
   "cell_type": "code",
   "execution_count": null,
   "metadata": {},
   "outputs": [],
   "source": [
    "# Logistic Model:\n",
    "X_train, X_test, y_train, y_test = train_test_split(complete_data[complete_data.games_position == 'F'][list(set(config['DEFENSE_COLS'] + config['PASSING_COLS'] + config['ATTACK_COLS'])) + ['win']].drop(columns = 'win'),\n",
    "                                                    complete_data[complete_data.games_position == 'F']['win'],\n",
    "                                                    stratify=complete_data['win'],\n",
    "                                                    random_state=33)"
   ]
  },
  {
   "cell_type": "code",
   "execution_count": null,
   "metadata": {},
   "outputs": [],
   "source": []
  },
  {
   "cell_type": "code",
   "execution_count": null,
   "metadata": {},
   "outputs": [],
   "source": [
    "train_dat = NNDataFromPd(X_train,y_train,dat_dict)\n",
    "train_loader = DataLoader(train_dat,batch_size= 128,shuffle = True)"
   ]
  },
  {
   "cell_type": "code",
   "execution_count": null,
   "metadata": {},
   "outputs": [],
   "source": [
    "n_features = X_train.shape[1]\n",
    "model = LogisticNNModelComplex(n_features)\n",
    "\n",
    "criterion = nn.BCEWithLogitsLoss()\n",
    "optimizer = optim.Adam(model.parameters(),lr = 0.005)"
   ]
  },
  {
   "cell_type": "code",
   "execution_count": null,
   "metadata": {},
   "outputs": [],
   "source": [
    "epochs = 500\n",
    "for epoch in range(epochs):\n",
    "    epoch_loss = 0\n",
    "    \n",
    "    for X_numeric, X_categoric, y in train_loader:\n",
    "\n",
    "        pred = model(X_numeric)\n",
    "\n",
    "        loss = criterion(pred,y.unsqueeze(1))\n",
    "\n",
    "        optimizer.zero_grad()\n",
    "\n",
    "        loss.backward()\n",
    "        optimizer.step()\n",
    "\n",
    "    print(f\"Epoch {epoch},  Loss: {loss}\")\n"
   ]
  },
  {
   "cell_type": "code",
   "execution_count": null,
   "metadata": {},
   "outputs": [],
   "source": [
    "pred_proba.squeeze(1)"
   ]
  },
  {
   "cell_type": "code",
   "execution_count": null,
   "metadata": {},
   "outputs": [],
   "source": [
    "from validations import *\n",
    "\n",
    "\n",
    "test_dat = NNDataFromPd(X_test,y_test,dat_dict)\n",
    "test_loader = DataLoader(test_dat,batch_size= X_test.shape[0],shuffle=True)\n",
    "\n",
    "model.eval()\n",
    "with torch.no_grad():\n",
    "    for X_numeric_batch, X_categoric_batch, y_batch in test_loader:\n",
    "        output = model(X_numeric_batch)\n",
    "        pred_proba = torch.softmax(output,dim =1)\n",
    "        pred_class = torch.argmax(output, dim = 1)\n",
    "\n",
    "\n",
    "discrete_evaluations(y_test,pred_class,pred_proba.squeeze(1),classification_type=\"Binary\",model_path= folder_manager.output_path)"
   ]
  },
  {
   "cell_type": "code",
   "execution_count": null,
   "metadata": {},
   "outputs": [],
   "source": [
    "test_fixtures = get_team_fixtures(\"Liverpool\",2)"
   ]
  },
  {
   "cell_type": "code",
   "execution_count": null,
   "metadata": {},
   "outputs": [],
   "source": [
    "test_fixtures"
   ]
  },
  {
   "cell_type": "code",
   "execution_count": null,
   "metadata": {},
   "outputs": [],
   "source": [
    "player_stat_url = \"https://v3.football.api-sports.io/fixtures/players?fixture={}\".format(1035045)\n",
    "fixture_dat = requests.get(player_stat_url,headers=headers_api_sport)"
   ]
  },
  {
   "cell_type": "code",
   "execution_count": null,
   "metadata": {},
   "outputs": [],
   "source": [
    "pd.json_normalize(pd.json_normalize(fixture_dat.json()['response']))['players'][0]"
   ]
  },
  {
   "cell_type": "code",
   "execution_count": null,
   "metadata": {},
   "outputs": [],
   "source": [
    "fixture_dat_expanded = pd.concat([pd.json_normalize(pd.json_normalize(fixture_dat.json()['response'])['players'][0])[['player.id','player.name']],pd.json_normalize(pd.json_normalize(pd.json_normalize(pd.json_normalize(fixture_dat.json()['response'])['players'][0])['statistics']).rename(columns = {0:\"player_stats\"})['player_stats'])],axis = 1)"
   ]
  },
  {
   "cell_type": "code",
   "execution_count": null,
   "metadata": {},
   "outputs": [],
   "source": [
    "fixtures_stat = complete_data.groupby(['fixture_id','team'],as_index=False).agg(n_opponent = ('opponent','count'),total_passes = ('passes_total','sum')).sort_values('fixture_id',ascending= False)"
   ]
  },
  {
   "cell_type": "code",
   "execution_count": null,
   "metadata": {},
   "outputs": [],
   "source": [
    "fixtures_stat"
   ]
  },
  {
   "cell_type": "code",
   "execution_count": null,
   "metadata": {},
   "outputs": [],
   "source": [
    "complete_data[complete_data.fixture_id == 1376437][['team','opponent']]"
   ]
  },
  {
   "cell_type": "code",
   "execution_count": null,
   "metadata": {},
   "outputs": [],
   "source": [
    "teams_dat[teams_dat.team_name.str.contains(\"Tels\")]"
   ]
  },
  {
   "cell_type": "code",
   "execution_count": null,
   "metadata": {},
   "outputs": [],
   "source": [
    "angers = pd.read_parquet(home_dir + \"/data/Fixtures/angers_2024.parquet\")"
   ]
  },
  {
   "cell_type": "code",
   "execution_count": null,
   "metadata": {},
   "outputs": [],
   "source": [
    "angers['fixture_date'] = pd.to_datetime(angers['fixture_date'])"
   ]
  },
  {
   "cell_type": "code",
   "execution_count": null,
   "metadata": {},
   "outputs": [],
   "source": [
    "angers['fixture_date']"
   ]
  },
  {
   "cell_type": "code",
   "execution_count": null,
   "metadata": {},
   "outputs": [],
   "source": []
  }
 ],
 "metadata": {
  "kernelspec": {
   "display_name": "Python torch_nn",
   "language": "python",
   "name": "myenv"
  },
  "language_info": {
   "codemirror_mode": {
    "name": "ipython",
    "version": 3
   },
   "file_extension": ".py",
   "mimetype": "text/x-python",
   "name": "python",
   "nbconvert_exporter": "python",
   "pygments_lexer": "ipython3",
   "version": "3.11.11"
  }
 },
 "nbformat": 4,
 "nbformat_minor": 2
}
