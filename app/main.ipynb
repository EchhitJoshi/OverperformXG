{
 "cells": [
  {
   "cell_type": "code",
   "execution_count": null,
   "metadata": {},
   "outputs": [],
   "source": [
    "import pandas as pd\n",
    "import numpy as np\n",
    "\n",
    "import requests\n",
    "\n",
    "import os\n",
    "import time\n",
    "from datetime import datetime\n",
    "import sys\n",
    "import yaml\n",
    "import gc\n",
    "\n",
    "\n",
    "from data_loader import *\n",
    "from utils import *\n",
    "from nn import *\n",
    "from models import *\n",
    "from llm import *\n",
    "from llm_hf import *\n",
    "import folder_manager\n",
    "import pymysql\n",
    "\n",
    "import seaborn as sns\n",
    "sns.set_style(\"darkgrid\")\n",
    "plt.rcParams.update({\n",
    "    'axes.facecolor': '#1e1e1e',\n",
    "    'figure.facecolor': '#1e1e1e',\n",
    "    'axes.edgecolor': 'white',\n",
    "    'axes.labelcolor': 'white',\n",
    "    'xtick.color': 'white',\n",
    "    'ytick.color': 'white',\n",
    "    'text.color': 'white',\n",
    "    'axes.grid': True,\n",
    "    'grid.color': 'gray'\n",
    "})\n",
    "\n",
    "\n",
    "pd.set_option(\"display.max_column\",None)\n",
    "print(os.getcwd())\n",
    "\n",
    "\n",
    "%load_ext autoreload\n",
    "%reload_ext autoreload\n",
    "%autoreload 2\n",
    "\n",
    "pd.options.display.max_rows = 100\n",
    "\n",
    "\n",
    "def auto_reload():\n",
    "    %load_ext autoreload\n",
    "    %reload_ext autoreload\n",
    "    %autoreload 2"
   ]
  },
  {
   "cell_type": "code",
   "execution_count": null,
   "metadata": {},
   "outputs": [],
   "source": [
    "# Configs:\n",
    "with open(\"config.yaml\",'r') as f:\n",
    "    config = yaml.safe_load(f)\n",
    "\n",
    "home_dir = config['HOME_DIRECTORY']\n",
    "home_dir\n",
    "\n",
    "my_sql_conn = config['MYSQL_STRING']\n"
   ]
  },
  {
   "cell_type": "code",
   "execution_count": null,
   "metadata": {},
   "outputs": [],
   "source": [
    "create_submodel(\"llm_new\")"
   ]
  },
  {
   "cell_type": "markdown",
   "metadata": {},
   "source": [
    "# API Football:\n",
    "https://www.api-football.com"
   ]
  },
  {
   "cell_type": "markdown",
   "metadata": {},
   "source": [
    "![PYTHON LOGO](https://www.api-football.com/public/img/news/archi-beta.jpg)"
   ]
  },
  {
   "cell_type": "markdown",
   "metadata": {},
   "source": [
    "# Read Player Fixture:"
   ]
  },
  {
   "cell_type": "code",
   "execution_count": null,
   "metadata": {},
   "outputs": [],
   "source": [
    "# Read player_fixture_data\n",
    "complete_data = pd.read_sql(\"select * from overperformxg.complete_data\",config['MYSQL_STRING'])"
   ]
  },
  {
   "cell_type": "code",
   "execution_count": null,
   "metadata": {},
   "outputs": [],
   "source": [
    "complete_data.shape"
   ]
  },
  {
   "cell_type": "code",
   "execution_count": null,
   "metadata": {},
   "outputs": [],
   "source": [
    "complete_data.head()"
   ]
  },
  {
   "cell_type": "code",
   "execution_count": null,
   "metadata": {},
   "outputs": [],
   "source": [
    "# Data checks\n",
    "complete_data['passes_accurate'] = complete_data['passes_accurate'].astype(\"float64\")\n",
    "complete_data['fixture_date'] = pd.to_datetime(complete_data.fixture_date)\n",
    "complete_data['games_rating'] = pd.to_numeric(complete_data['games_rating'])"
   ]
  },
  {
   "cell_type": "code",
   "execution_count": null,
   "metadata": {},
   "outputs": [],
   "source": [
    "date_filter = (datetime.today() - timedelta(days = 60))#.strftime('%Y-%m-%d')\n",
    "complete_data[complete_data.fixture_date >= date_filter].groupby('team')['fixture_id'].nunique()"
   ]
  },
  {
   "cell_type": "code",
   "execution_count": null,
   "metadata": {},
   "outputs": [],
   "source": [
    "# Non Predictive Columns:\n",
    "non_pred_cols = ['league','fixture_date','season','fixture_date_dt','major_position']\n",
    "\n",
    "# This is the dictionary that contains all information about the features\n",
    "dat_dict = find_data_types(complete_data,config['OUTCOME_COLS'] + ['outcome_num','outcome'])\n",
    "dat_dict = pd.DataFrame(list(dat_dict.items()),columns =['feature','type'])\n",
    "\n",
    "# differentiate modeling features\n",
    "non_modeling_features = config['FIXTURE_COLS'] + config['OUTCOME_COLS'] + config['MISC_COLS'] + non_pred_cols\n",
    "dat_dict['modeling_feature'] = np.where(dat_dict['feature'].isin(non_modeling_features),0,1)\n",
    "dat_dict['encoded'] = 0\n",
    "\n",
    "print(dat_dict['type'].value_counts())\n",
    "dat_dict.reset_index(drop= True)\n",
    "\n",
    "## Encode Features\n",
    "dat_dict = create_data_index(complete_data,dat_dict,'target',folder_manager.encoding_path)\n",
    "dat_dict[dat_dict.modeling_feature ==1]"
   ]
  },
  {
   "cell_type": "code",
   "execution_count": null,
   "metadata": {},
   "outputs": [],
   "source": [
    "# Run Player Comparison from LLm \n",
    "#player_compare  = compare_players_from_llm(complete_data,[\"Giovanni Leoni\",\"Ibrahima Konaté\"],years = [2025],normalize=True)"
   ]
  },
  {
   "cell_type": "code",
   "execution_count": null,
   "metadata": {},
   "outputs": [],
   "source": [
    "# Fixture-Player data aggregated to Fixture level:\n",
    "fixture_dat = calculate_fixture_stats(complete_data,['league_name'])"
   ]
  },
  {
   "cell_type": "code",
   "execution_count": null,
   "metadata": {},
   "outputs": [],
   "source": [
    "# Sanity Check\n",
    "fixture_dat['fixture_id'].value_counts(ascending = False)"
   ]
  },
  {
   "cell_type": "markdown",
   "metadata": {},
   "source": [
    "# Clustering Opponents"
   ]
  },
  {
   "cell_type": "markdown",
   "metadata": {},
   "source": [
    "## Method 1: Decision Tree"
   ]
  },
  {
   "cell_type": "code",
   "execution_count": null,
   "metadata": {},
   "outputs": [],
   "source": [
    "# team Cluster by tree\n",
    "from sklearn.tree import DecisionTreeClassifier, plot_tree\n",
    "from category_encoders import OrdinalEncoder\n",
    "\n",
    "\n",
    "target_col = 'team_goals_conceded'\n",
    "\n",
    "# Data to train Decision Tree on\n",
    "# team_class_dat = fixture_dat[['fixture_id','team','opponent','season','win']].drop_duplicates()\n",
    "team_class_dat = fixture_dat[list(set(['fixture_id','team','opponent','season','league_name',\n",
    "'games_rating','shots_total','shots_on','passes_key','passes_accurate','duels_total','duels_won','fouls_drawn',\n",
    "'dribble_success_rate','target_shot_conversion_perc','duels_won_perc','pass_accuracy_perc','fouls_committed','penalty_won'] + [target_col])) ].drop_duplicates()\n",
    "\n",
    "model_cols = []#['opponent_encoded,'games_rating','shots_total','shots_on','passes_key','passes_accurate','duels_total','duels_won','fouls_drawn','dribble_success_rate','target_shot_conversion_perc','duels_won_perc','pass_accuracy_perc','fouls_committed','penalty_won']\n",
    "\n",
    "\n",
    "\n",
    "# Encode Non numeric features\n",
    "oe = OrdinalEncoder()\n",
    "team_class_dat['team_encoded'] = oe.fit_transform(team_class_dat['team'])\n",
    "team_class_dat['opponent_encoded'] = oe.transform(team_class_dat.drop(columns = 'team').rename(columns={\"opponent\":'team'})['team']).astype(\"int\")\n",
    "team_class_dat.head()\n",
    "team_class_dat['team_cluster'] = 0\n",
    "\n",
    "for league, season in team_class_dat[['league_name', 'season']].drop_duplicates().itertuples(index=False):\n",
    "    if season != np.nan:\n",
    "        print(f\"for season {season}, and league {league}\")\n",
    "        dtc = DecisionTreeClassifier(max_depth=4)\n",
    "        print(\"Using cols: \", ['team_encoded'] + model_cols )\n",
    "        model = dtc.fit(team_class_dat[(team_class_dat.season == season) & (team_class_dat.league_name == league)][['team_encoded'] + model_cols],team_class_dat[(team_class_dat.season == season) & (team_class_dat.league_name == league)][target_col].values)\n",
    "        y_pred = model.predict(team_class_dat[(team_class_dat.season == season) & (team_class_dat.league_name == league)][['team_encoded']+ model_cols])\n",
    "        team_class_dat.loc[(team_class_dat.season == season) & (team_class_dat.league_name == league),'team_cluster'] = model.predict_proba(team_class_dat[(team_class_dat.season == season) & (team_class_dat.league_name == league)][['team_encoded']+ model_cols]).max(axis = 1)\n",
    "\n",
    "team_cluster_map = team_class_dat[['season','league_name','team','team_cluster']].drop_duplicates().reset_index(drop= True)\n",
    "team_class_dat = team_class_dat.merge(team_cluster_map,left_on = ['season','league_name','opponent'],right_on = ['season','league_name','team'],how = 'left').rename(columns = {'team_cluster_y':'opponent_cluster',\n",
    "                                                                                                              'team_cluster_x':'team_cluster',\n",
    "                                                                                                              'team_x':'team'}).drop(columns = ['team_y'])\n",
    "\n",
    "oe_cluster = OrdinalEncoder()\n",
    "team_class_dat['opponent_cluster_encoded'] = oe_cluster.fit_transform(team_class_dat['opponent_cluster'].astype(\"str\"))\n",
    "team_class_dat['team_cluster_encoded'] = oe_cluster.fit_transform(team_class_dat['team_cluster'].astype(\"str\"))\n",
    "\n",
    "oe_season = OrdinalEncoder()\n",
    "team_class_dat['season_ix'] = oe_season.fit_transform(team_class_dat['season'])"
   ]
  },
  {
   "cell_type": "code",
   "execution_count": null,
   "metadata": {},
   "outputs": [],
   "source": [
    "# Check Cluster differences\n",
    "team_class_dat.groupby('league_name')['opponent_cluster'].apply(lambda x: x.isna().mean())"
   ]
  },
  {
   "cell_type": "markdown",
   "metadata": {},
   "source": [
    "# Bayesian Team Ability Estimation\n",
    "\n",
    " - team_ability: alpha ~ Normal(mu,sig^2)\n",
    " - opposition_difficulty: beta ~ Normal(mu,sig^2)\n",
    "\n",
    " - P(w) ~ binomial(N,alpha - beta)"
   ]
  },
  {
   "cell_type": "code",
   "execution_count": null,
   "metadata": {},
   "outputs": [],
   "source": [
    "# Data for Binomial Model\n",
    "\n",
    "team_class_dat_binom = team_class_dat.groupby(['season','team','team_cluster_encoded','opponent_cluster_encoded'],as_index = False).agg(wins = ('win','sum'), total_games = ('win','size'))\n",
    "#Encode season\n",
    "season_oe = OrdinalEncoder()\n",
    "team_class_dat_binom['season_encoded'] = season_oe.fit_transform(team_class_dat_binom['season'])\n",
    "team_class_dat_binom.head()"
   ]
  },
  {
   "cell_type": "code",
   "execution_count": null,
   "metadata": {},
   "outputs": [],
   "source": [
    "# PYMC model:\n",
    "# Model per season to estimate win probability given team ability, opponent cluster difficulty  \n",
    "\n",
    "season_ix_raw = team_class_dat_binom['season']\n",
    "team_ix_raw = team_class_dat_binom['team']\n",
    "opps_ix_raw = team_class_dat_binom['opponent_cluster_encoded']\n",
    "\n",
    "season_map = {x:i for i,x  in enumerate(team_class_dat_binom['season'].unique()) }\n",
    "team_map = {x:i for i,x  in enumerate(team_class_dat_binom['team'].unique()) }\n",
    "opps_map = {x:i for i,x  in enumerate(team_class_dat_binom['opponent_cluster_encoded'].unique()) }\n",
    "\n",
    "season_ix = season_ix_raw.map(season_map).to_numpy()\n",
    "team_ix = team_ix_raw.map(team_map).to_numpy()\n",
    "opps_ix = opps_ix_raw.map(opps_map).to_numpy()\n",
    "\n",
    "coords = {\n",
    "    \"team\": team_class_dat_binom.team.unique(),\n",
    "    \"opps\" : team_class_dat_binom.opponent_cluster_encoded.unique(),\n",
    "    \"season\" : team_class_dat_binom.season.unique()\n",
    "}\n",
    "\n",
    "\n",
    "\n",
    "with pm.Model(coords = coords) as model:\n",
    "\n",
    "    mu_team = pm.Normal(\"mu_team\", 0, 2)\n",
    "    sigma_team = pm.HalfNormal(\"sigma_team\", 3)\n",
    "\n",
    "    mu_opps = pm.Normal(\"mu_opps\", 0, 3)\n",
    "    sigma_opps = pm.HalfNormal(\"sigma_opps\", 5)\n",
    "\n",
    "    # Raw Ability:\n",
    "    theta_raw = pm.Normal(\"theta_raw\",0,1, dims = (\"season\",\"team\"))\n",
    "    theta_team = mu_team + theta_raw * sigma_team\n",
    "    theta = pm.Deterministic(\"theta\",theta_team - theta_team.mean(axis = 1,keepdims= True), dims = (\"season\",\"team\"))\n",
    "\n",
    "    beta_raw = pm.Normal(\"beta_raw\",0,1,dims = (\"season\",\"opps\"))\n",
    "    beta_team = mu_opps + beta_raw * sigma_opps\n",
    "    beta = pm.Deterministic(\"beta\", beta_team - beta_team.mean(axis = 1,keepdims = True), dims = (\"season\",\"opps\"))\n",
    "\n",
    "    logit = theta[season_ix,team_ix] - beta[season_ix,opps_ix]\n",
    "    p = pm.Deterministic(\"p\",pm.math.sigmoid(logit))\n",
    "    n = team_class_dat_binom['total_games'].values\n",
    "\n",
    "    # Likelihood:\n",
    "    p_win = pm.Binomial(\"p_win\",p = p, n = n,observed = team_class_dat_binom['wins'].values)\n",
    "\n",
    "    trace = pm.sample(return_inferencedata=True)\n",
    "\n",
    "\n"
   ]
  },
  {
   "cell_type": "code",
   "execution_count": null,
   "metadata": {},
   "outputs": [],
   "source": [
    "# Posterior\n",
    "p_summary =  pm.summary(trace)\n",
    "p_summary"
   ]
  },
  {
   "cell_type": "code",
   "execution_count": null,
   "metadata": {},
   "outputs": [],
   "source": [
    "season_filter = ['2022/2023','2024/2025','2023/2024']\n",
    "teams_filter = complete_data[(complete_data.season == '2024/2025') & (complete_data.league_name == 'Premier League')]['team'].unique()#['Liverpool','Chelsea','Nottingham Forest','Manchester United','Arsenal','Manchester City','Fulham']#complete_data[(complete_data.season == '2024/2025') & (complete_data.league_name == 'Premier League')]['team'].unique()\n",
    "\n",
    "season_dat = trace.posterior.sel(season = season_filter)\n",
    "team_dat = season_dat.sel(team = teams_filter)\n",
    "team_dat"
   ]
  },
  {
   "cell_type": "code",
   "execution_count": null,
   "metadata": {},
   "outputs": [],
   "source": [
    "import plotly.express as px\n",
    "import numpy as np\n",
    "\n",
    "# Select your variable\n",
    "theta = team_dat['theta'] if 'theta' in team_dat.data_vars else team_dat\n",
    "\n",
    "chains = theta.chain.values\n",
    "seasons = theta.season.values\n",
    "teams = theta.team.values\n",
    "\n",
    "# We'll build a long \"plot-ready\" dictionary\n",
    "plot_data = {\n",
    "    'value': [],\n",
    "    'team': [],\n",
    "    'chain': [],\n",
    "    'season': []\n",
    "}\n",
    "\n",
    "# Loop over coordinates and fill the dictionary\n",
    "for chain in chains:\n",
    "    for season in seasons:\n",
    "        for team in teams:\n",
    "            y = theta.sel(chain=chain, season=season, team=team).values\n",
    "            plot_data['value'].extend(y)\n",
    "            plot_data['team'].extend([team]*len(y))\n",
    "            plot_data['chain'].extend([chain]*len(y))\n",
    "            plot_data['season'].extend([season]*len(y))\n",
    "\n",
    "# Create the interactive KDE plot\n",
    "fig = px.violin(\n",
    "    plot_data,\n",
    "    x='team',\n",
    "    y='value',\n",
    "    color='team',\n",
    "    facet_row='chain',\n",
    "    facet_col='season',\n",
    "    box=True,          # optional: show boxplot inside violin\n",
    "    points='all',      # optional: show all individual points\n",
    "    hover_data=['team', 'chain', 'season']\n",
    ")\n",
    "\n",
    "fig.update_layout(height=300*len(chains), width=2000)\n",
    "fig.show()"
   ]
  },
  {
   "cell_type": "code",
   "execution_count": null,
   "metadata": {},
   "outputs": [],
   "source": [
    "team_cluster_map[team_cluster_map.league_name.str.contains(\"Ligue\")]"
   ]
  },
  {
   "cell_type": "code",
   "execution_count": null,
   "metadata": {},
   "outputs": [],
   "source": [
    "# Inspect the training data:\n"
   ]
  },
  {
   "cell_type": "code",
   "execution_count": null,
   "metadata": {},
   "outputs": [],
   "source": [
    "# Check Number of Clusters:\n",
    "# Low numbers could point to data issues\n",
    "pd.pivot(team_cluster_map.groupby(['season','league_name'])['team_cluster'].nunique().reset_index(),index = 'league_name', columns = \"season\")"
   ]
  },
  {
   "cell_type": "markdown",
   "metadata": {},
   "source": [
    "# Method 2: Kmeans"
   ]
  },
  {
   "cell_type": "code",
   "execution_count": null,
   "metadata": {},
   "outputs": [],
   "source": [
    "auto_reload()"
   ]
  },
  {
   "cell_type": "code",
   "execution_count": null,
   "metadata": {},
   "outputs": [],
   "source": [
    "# Fixture-Player data aggregated to Fixture level:\n",
    "fixture_dat = calculate_fixture_stats(complete_data,['league_name'])\n",
    "fixture_dat.head()"
   ]
  },
  {
   "cell_type": "code",
   "execution_count": null,
   "metadata": {},
   "outputs": [],
   "source": [
    "# Since tree classification is on a single metric,\n",
    "# I will try a K-means clustering approach to account for all data to cluster teams to get ~10-15 different playing styles\n",
    "\n",
    "kmeans_cols = list(set(['games_rating','shots_total','shots_on','passes_total','passes_key','passes_accurate','duels_total','duels_won','fouls_drawn','cards_yellow','tackles_interceptions','tackles_blocks',\n",
    "'dribble_success_rate','dribbles_past','target_shot_conversion_perc','duels_won_perc','pass_accuracy_perc','fouls_committed','fouls_drawn','penalty_won','penalty_commited']))\n",
    "\n",
    "\n",
    "fixture_dat = fit_kmeans(fixture_dat,kmeans_cols,k = 15)\n",
    "\n",
    "fixture_dat = fixture_dat.merge(fixture_dat[['team','fixture_id','cluster_rank']],left_on = ['fixture_id','opponent'],right_on = ['fixture_id','team'],suffixes=(\"\",\"_opponent_km\"),how = 'left').drop(columns = ['team_opponent_km'])\n",
    "fixture_dat = fixture_dat[fixture_dat.cluster_rank_opponent_km.notna()]\n",
    "fixture_dat['cluster_rank'] = fixture_dat['cluster_rank'].astype(\"int\")\n",
    "fixture_dat['cluster_rank_opponent_km'] = fixture_dat['cluster_rank_opponent_km'].astype(\"int\")\n",
    "fixture_dat.head()\n",
    "\n"
   ]
  },
  {
   "cell_type": "code",
   "execution_count": null,
   "metadata": {},
   "outputs": [],
   "source": [
    "folder_manager.submodel_name"
   ]
  },
  {
   "cell_type": "code",
   "execution_count": null,
   "metadata": {},
   "outputs": [],
   "source": [
    "# Clusters grouped by win rate\n",
    "cluster_map = fixture_dat.groupby(['cluster','cluster_rank'],as_index = False).agg(games = ('cluster','size') )\n",
    "clusters = pd.read_csv(config['HOME_DIRECTORY'] + \"/outputs/models/\" +folder_manager.submodel_name+\"/kmeanscluster_centers.csv\").reset_index().rename(columns = {'index':'cluster'})\n",
    "clusters = clusters.merge(cluster_map,how = 'left').drop(columns = ['cluster'])\n",
    "print(f\"Number of clusters: {clusters.shape[0]}\")\n",
    "clusters = pd.concat([clusters.iloc[:,-2:], clusters.iloc[:,:-2]],axis = 1).sort_values('cluster_rank')\n",
    "clusters['cluster_rank'] = clusters['cluster_rank'].astype(\"int\")\n",
    "clusters.sort_values('cluster_rank',ascending = True,inplace = True)\n",
    "clusters"
   ]
  },
  {
   "cell_type": "code",
   "execution_count": null,
   "metadata": {},
   "outputs": [],
   "source": [
    "# Cluster feature distribution\n",
    "px.violin(fixture_dat,y = 'target_shot_conversion_perc',x = 'cluster_rank')"
   ]
  },
  {
   "cell_type": "code",
   "execution_count": null,
   "metadata": {},
   "outputs": [],
   "source": [
    "px.violin(fixture_dat[(fixture_dat.team.isin(['Liverpool','Crystal Palace']) ) & (fixture_dat.fixture_date >= '2025-03-01')],x = 'cluster_rank',color = 'team')"
   ]
  },
  {
   "cell_type": "code",
   "execution_count": null,
   "metadata": {},
   "outputs": [],
   "source": [
    "fixture_dat[(fixture_dat.team == 'Liverpool') & (fixture_dat.opponent == 'Crystal Palace')][['fixture_date','team','cluster_rank','cluster_rank_opponent_km','opponent']].sort_values('fixture_date',ascending = False)"
   ]
  },
  {
   "cell_type": "code",
   "execution_count": null,
   "metadata": {},
   "outputs": [],
   "source": [
    "fixture_dat[(fixture_dat.cluster_rank  == 7) & (fixture_dat.league_name == 'Premier League') & (fixture_dat.fixture_date >= '2025-03-01')]"
   ]
  },
  {
   "cell_type": "code",
   "execution_count": null,
   "metadata": {},
   "outputs": [],
   "source": [
    "# Idea:\n",
    "# Given Team and opponent, can we infer the playing style i.e. cluster \n",
    "\n",
    "# Lets try\n",
    "from sklearn.tree import DecisionTreeClassifier\n",
    "from sklearn.model_selection import train_test_split\n",
    "\n",
    "\n",
    "# split\n",
    "fixture_dat\n"
   ]
  },
  {
   "cell_type": "code",
   "execution_count": null,
   "metadata": {},
   "outputs": [],
   "source": [
    "#Binomial data for Bayesian Model:\n",
    "model_dat = fixture_dat.groupby(['season','team','cluster_rank_opponent_km'],as_index = False).agg(win = ('win','sum'),games_played = ('win','size'))\n",
    "model_dat.head()"
   ]
  },
  {
   "cell_type": "code",
   "execution_count": null,
   "metadata": {},
   "outputs": [],
   "source": [
    "season_filter = ['2022/2023','2024/2025','2023/2024']\n",
    "teams_filter = complete_data[(complete_data.season == '2024/2025') & (complete_data.league_name == 'Premier League')]['team'].unique()#['Liverpool','Chelsea','Nottingham Forest','Manchester United','Arsenal','Manchester City','Fulham']#complete_data[(complete_data.season == '2024/2025') & (complete_data.league_name == 'Premier League')]['team'].unique()\n",
    "\n",
    "season_dat = trace.posterior.sel(season = season_filter)\n",
    "team_dat = season_dat.sel(team = teams_filter)\n",
    "team_dat"
   ]
  },
  {
   "cell_type": "code",
   "execution_count": null,
   "metadata": {},
   "outputs": [],
   "source": [
    "config['HOME_DIRECTORY'] + \"/outputs/models/\" +folder_manager.submodel_name\n",
    "auto_reload()"
   ]
  },
  {
   "cell_type": "code",
   "execution_count": null,
   "metadata": {},
   "outputs": [],
   "source": [
    "trace_new = bayesian_team_ability_model_opponent_specific(model_dat,'team','cluster_rank_opponent_km','season','win','games_played',output_path = config['HOME_DIRECTORY'] + \"/outputs/models/\" + folder_manager.submodel_name )"
   ]
  },
  {
   "cell_type": "code",
   "execution_count": null,
   "metadata": {},
   "outputs": [],
   "source": [
    "post = pm.summary(trace)"
   ]
  },
  {
   "cell_type": "code",
   "execution_count": null,
   "metadata": {},
   "outputs": [],
   "source": [
    "post_new = trace.posterior\n",
    "post_new"
   ]
  },
  {
   "cell_type": "code",
   "execution_count": null,
   "metadata": {},
   "outputs": [],
   "source": [
    "import plotly.express as px\n",
    "import numpy as np\n",
    "\n",
    "# Select your variable\n",
    "theta = team_dat['theta'] if 'theta' in team_dat.data_vars else team_dat\n",
    "theta_stacked = theta.stack(sample = (\"chain\",\"draw\"))\n",
    "\n",
    "#chains = theta.chain.values\n",
    "seasons = theta.season.values\n",
    "teams = theta.team.values\n",
    "\n",
    "# We'll build a long \"plot-ready\" dictionary\n",
    "plot_data = {\n",
    "    'value': [],\n",
    "    'team': [],\n",
    "    'season': []\n",
    "}\n",
    "\n",
    "# Loop over coordinates and fill the dictionary\n",
    "#for chain in chains:\n",
    "for season in seasons:\n",
    "    for team in teams:\n",
    "        y = theta_stacked.sel( season=season, team=team).values\n",
    "        plot_data['value'].extend(y)\n",
    "        plot_data['team'].extend([team]*len(y))\n",
    "        #plot_data['chain'].extend([chain]*len(y))\n",
    "        plot_data['season'].extend([season]*len(y))\n",
    "\n",
    "# Create the interactive KDE plot\n",
    "fig = px.violin(\n",
    "    plot_data,\n",
    "    x='team',\n",
    "    y='value',\n",
    "    color='team',\n",
    "    facet_col='season',\n",
    "    box=True,          # optional: show boxplot inside violin\n",
    "    points='all',      # optional: show all individual points\n",
    "    hover_data=['team', 'season']\n",
    ")\n",
    "\n",
    "fig.update_layout(height=300*4, width=2000)\n",
    "fig.show()"
   ]
  },
  {
   "cell_type": "code",
   "execution_count": null,
   "metadata": {},
   "outputs": [],
   "source": [
    "fixture_dat[fixture_dat['team'] == 'Crystal Palace'][['fixture_date','cluster_rank','opponent']].sort_values('fixture_date',ascending = False)"
   ]
  },
  {
   "cell_type": "code",
   "execution_count": null,
   "metadata": {},
   "outputs": [],
   "source": [
    "liverpool_theta_new = post_new.sel(team = 'Liverpool')\n",
    "liverpool_theta_new"
   ]
  },
  {
   "cell_type": "code",
   "execution_count": null,
   "metadata": {},
   "outputs": [],
   "source": [
    "clusters = pd.read_csv(\"/home/opc/OverperformXG/file_transfer/01_12_01_llm_new/kmeanscluster_centers.csv\")\n",
    "clusters"
   ]
  },
  {
   "cell_type": "code",
   "execution_count": null,
   "metadata": {},
   "outputs": [],
   "source": [
    "# test prediction:\n",
    "test_dat = pd.DataFrame({\"team\":[\"Chelsea\"] * 15,\"opponent_cluster\":range(1,16),\"season\":[\"2024/2025\"] * 15})\n",
    "test_dat = pd.concat([test_dat,pd.DataFrame({\"team\":[\"Crystal Palace\"] * 15,\"opponent_cluster\":range(1,16),\"season\":[\"2024/2025\"] * 15})],axis = 0)\n",
    "test_dat.head()"
   ]
  },
  {
   "cell_type": "code",
   "execution_count": null,
   "metadata": {},
   "outputs": [],
   "source": [
    "mappings = joblib.load(os.path.join(config['HOME_DIRECTORY'] + \"/file_transfer/01_12_01_llm_new/\", \"bayesian_model_mappings.pkl\"))\n",
    "mappings['team_map']['Liverpool']"
   ]
  },
  {
   "cell_type": "code",
   "execution_count": null,
   "metadata": {},
   "outputs": [],
   "source": [
    "clusters"
   ]
  },
  {
   "cell_type": "code",
   "execution_count": null,
   "metadata": {},
   "outputs": [],
   "source": [
    "fixture_dat[fixture_dat.team == 'Liverpool'][['cluster_rank','fixture_date']].sort_values('fixture_date',ascending = False).head(19)"
   ]
  },
  {
   "cell_type": "code",
   "execution_count": null,
   "metadata": {},
   "outputs": [],
   "source": [
    "new_pred = predict_bayesian_team_ability(test_dat,config['HOME_DIRECTORY'] + \"/file_transfer/01_12_01_llm_new/\",\"team\",\"opponent_cluster\",\"season\")\n",
    "new_pred"
   ]
  },
  {
   "cell_type": "code",
   "execution_count": null,
   "metadata": {},
   "outputs": [],
   "source": [
    "fixture_dat = calculate_fixture_stats(complete_data,['games_position'])"
   ]
  },
  {
   "cell_type": "code",
   "execution_count": null,
   "metadata": {},
   "outputs": [],
   "source": [
    "filter = 'games_position.isin([\"M\",\"D\"])' #'fixture_id.notna()' # \n",
    "\n",
    "target = 'team_goals_scored'\n",
    "col_subset = [['win','games_rating','shots_total','shots_on','goals_total','goals_saves','duels_won']]\n",
    "\n",
    "cor_dat = fixture_dat.query(filter).corr(numeric_only=True)[[target]]\n",
    "cor_dat.drop(target,inplace = True)\n",
    "\n",
    "sorted_cols = cor_dat.sort_values(target,ascending = False).index.to_list()\n",
    "\n",
    "fig, ax = plt.subplots(1,1,figsize = (15,10))\n",
    "sns.heatmap(cor_dat.loc[sorted_cols],cmap = 'coolwarm',ax=ax)\n",
    "ax.set_xticklabels(ax.get_xticklabels(),rotation =75)\n",
    "fig.show()"
   ]
  },
  {
   "cell_type": "code",
   "execution_count": null,
   "metadata": {},
   "outputs": [],
   "source": [
    "find_player(complete_data,player_name=\"Leoni\")"
   ]
  },
  {
   "cell_type": "code",
   "execution_count": null,
   "metadata": {},
   "outputs": [],
   "source": [
    "auto_reload()"
   ]
  },
  {
   "cell_type": "code",
   "execution_count": null,
   "metadata": {},
   "outputs": [],
   "source": [
    "all_defenders_2025 = complete_data[(complete_data.major_position == 'D') & (complete_data.year_e == 2025)]['player_name'].unique()\n",
    "all_defenders_2025"
   ]
  },
  {
   "cell_type": "code",
   "execution_count": null,
   "metadata": {},
   "outputs": [],
   "source": [
    "defenders_compare = compare_players(complete_data,all_defenders_2025,seasons = [\"2024/2025\"],transpose = False)\n",
    "defenders_compare.head()"
   ]
  },
  {
   "cell_type": "code",
   "execution_count": null,
   "metadata": {},
   "outputs": [],
   "source": [
    "defenders_compare.columns"
   ]
  },
  {
   "cell_type": "code",
   "execution_count": null,
   "metadata": {},
   "outputs": [],
   "source": [
    "complete_data.head()"
   ]
  },
  {
   "cell_type": "code",
   "execution_count": null,
   "metadata": {},
   "outputs": [],
   "source": [
    "per_90_cols = [col for col in defenders_compare.columns if \"per_90\" in col]\n",
    "attack_per_90_cols  = ['total_shots_per_90','shots_on_target_per_90','goals_scored_per_90','assists_per_90',\n",
    "                       'fouls_drawn_per_90','attempted_dribbles_per_90','successful_dribbles_per_90',\n",
    "                       'dribble_success_rate_per_90','duels_contested_per_90','duels_won_per_90','duels_won_percentage_per_90']\n",
    "defense_per_90_cols = ['yellow_cards_per_90','red_cards_per_90','fouls_drawn_per_90','fouls_committed_per_90',\n",
    "                       'dribbled_past_per_90', 'total_tackles_per_90','blocks_per_90','interceptions_per_90',\n",
    "                       'duels_contested_per_90','duels_won_per_90','duels_won_percentage_per_90','penalties_committed_per_90']\n",
    "pass_per_90_cols = [ 'total_passes_per_90','key_passes_per_90', 'average_passes_accurate_per_90','average_pass_accuracy_per_90']"
   ]
  },
  {
   "cell_type": "code",
   "execution_count": null,
   "metadata": {},
   "outputs": [],
   "source": [
    "defenders_compare.head()"
   ]
  },
  {
   "cell_type": "code",
   "execution_count": null,
   "metadata": {},
   "outputs": [],
   "source": [
    "# Calculate Clusters:\n",
    "filter = 'total_minutes_played  > 1000'\n",
    "defense_cluster = 'defense_cluster'\n",
    "pass_cluster = 'pass_cluster'\n",
    "defenders_compare_w_cluster = fit_kmeans(defenders_compare.query(filter),defense_per_90_cols,None,cluster_name)\n",
    "defenders_compare_w_cluster = fit_kmeans(defenders_compare_w_cluster.query(filter),pass_per_90_cols,None,pass_cluster)"
   ]
  },
  {
   "cell_type": "code",
   "execution_count": null,
   "metadata": {},
   "outputs": [],
   "source": [
    "find_player(complete_data,player_name=\"Virgil van\")"
   ]
  },
  {
   "cell_type": "code",
   "execution_count": null,
   "metadata": {},
   "outputs": [],
   "source": [
    "defenders_compare_w_cluster[defenders_compare_w_cluster.player_name.str.contains(\"William Saliba\")]"
   ]
  },
  {
   "cell_type": "code",
   "execution_count": null,
   "metadata": {},
   "outputs": [],
   "source": [
    "defense_cluster"
   ]
  },
  {
   "cell_type": "code",
   "execution_count": null,
   "metadata": {},
   "outputs": [],
   "source": [
    "clusters = defenders_compare_w_cluster[defenders_compare_w_cluster.player_name.str.contains('William Saliba')][[defense_cluster,pass_cluster]].values\n",
    "clusters\n",
    "#defenders_compare_w_cluster[defenders_compare_w_cluster[cluster_name].isin(defenders_compare_w_cluster[condition][cluster_name])].sort_values(\"average_rating\",ascending = False)"
   ]
  },
  {
   "cell_type": "code",
   "execution_count": null,
   "metadata": {},
   "outputs": [],
   "source": [
    "folder_manager.llm_code_path"
   ]
  },
  {
   "cell_type": "code",
   "execution_count": null,
   "metadata": {},
   "outputs": [],
   "source": [
    "question = \"How are you doing?\"\n",
    "question_no_spec = re.sub(r\"[?.,;:]\",\"\",question)\n",
    "split_words = [word for word in question_no_spec.split(\" \")]\n",
    "split_words"
   ]
  },
  {
   "cell_type": "code",
   "execution_count": null,
   "metadata": {},
   "outputs": [],
   "source": [
    "complete_data.columns"
   ]
  },
  {
   "cell_type": "code",
   "execution_count": null,
   "metadata": {},
   "outputs": [],
   "source": [
    "defenders_compare_w_cluster[(defenders_compare_w_cluster.player_name.isin([\"Mike Eerdhuijzen\",\"Giovanni Leoni\",\"Nikola Milenković\",\"Marc Guéhi\",\"Ladislav Krejčí\"]))][['player_name'] + [col for col in defenders_compare.columns if \"per_90\" in col]].T"
   ]
  },
  {
   "cell_type": "code",
   "execution_count": null,
   "metadata": {},
   "outputs": [],
   "source": [
    "schema = {\n",
    "        \"columns\": list(complete_data.columns),\n",
    "        \"nrows\": [complete_data.shape[0]],\n",
    "        \"dtypes\": {col : str(complete_data[col].dtype) for col in complete_data.columns}\n",
    "    }\n"
   ]
  },
  {
   "cell_type": "code",
   "execution_count": null,
   "metadata": {},
   "outputs": [],
   "source": [
    "complete_data.columns"
   ]
  },
  {
   "cell_type": "code",
   "execution_count": null,
   "metadata": {},
   "outputs": [],
   "source": [
    "plot_from_llm(complete_data[complete_data.player_name == 'Olivier Boscagli'],\"Plot Average games_rating with error cloud by month_e faceted by team\")"
   ]
  },
  {
   "cell_type": "code",
   "execution_count": null,
   "metadata": {},
   "outputs": [],
   "source": [
    "plot_continuous_trend(complete_data[complete_data.player_name == 'Emmanuel Agbadou'],\"month_e\",\"games_rating\")"
   ]
  },
  {
   "cell_type": "code",
   "execution_count": null,
   "metadata": {},
   "outputs": [],
   "source": [
    "filter_query = 'major_position.isin([\"M\"])'\n",
    "\n",
    "\n",
    "# Stat to look at:\n",
    "stat = 'target_shot_conversion_perc'\n",
    "agg_fun = \"mean\"\n",
    "rank_cutoff = 20\n",
    "\n",
    "# configs \n",
    "min_appearance = 40\n",
    "\n",
    "dribble_dat_g = complete_data.query(filter_query).reset_index().fillna(0).groupby(\"player_name\").agg(n_apps = (\"player_name\",\"size\"),stat = (stat,agg_fun)).reset_index()\n",
    "dribble_dat_g = dribble_dat_g[dribble_dat_g.n_apps >= min_appearance]\n",
    "dribble_dat_g['rank'] = dribble_dat_g[\"stat\"].fillna(0).rank(ascending= False,method = 'dense')\n",
    "dribble_dat_g.sort_values(\"rank\",inplace = True)\n",
    "\n",
    "fig, ax = plt.subplots(figsize=(13, 8))\n",
    "\n",
    "# Plot correctly, no comma here\n",
    "sns.boxplot(\n",
    "    data=complete_data.query(filter_query)[complete_data.query(filter_query).player_name.isin(dribble_dat_g[dribble_dat_g['rank'] < rank_cutoff]['player_name'])],\n",
    "    x=\"player_name\",\n",
    "    y=stat,\n",
    "    order=dribble_dat_g[dribble_dat_g['rank'] < rank_cutoff]['player_name'],\n",
    "    ax=ax,\n",
    "    \n",
    ")\n",
    "\n",
    "# Now this works correctly on `ax`\n",
    "ax.set_xticklabels(ax.get_xticklabels(), rotation=45, ha='right')\n",
    "ax.set_title(f\"Stat: {stat}\")\n",
    "plt.tight_layout()\n",
    "plt.show()\n"
   ]
  },
  {
   "cell_type": "code",
   "execution_count": null,
   "metadata": {},
   "outputs": [],
   "source": [
    "fig = plt.subplots(nrows=1, ncols = 1, figsize = (20,10))\n",
    "fig = sns.heatmap(complete_data.query(filter_query)[config['PASSING_COLS']  + ['team_goals_scored','team_non_penalty_goals_scored','team_goals_conceded']].corr(),cmap = 'coolwarm')\n",
    "fig.set_xticklabels(fig.get_xticklabels(),rotation = 60)"
   ]
  },
  {
   "cell_type": "code",
   "execution_count": null,
   "metadata": {},
   "outputs": [],
   "source": [
    "sns.pairplot(complete_data.query(filter_query)[config['PASSING_COLS']  + ['team_goals_scored','team_non_penalty_goals_scored','team_goals_conceded']])"
   ]
  },
  {
   "cell_type": "code",
   "execution_count": null,
   "metadata": {},
   "outputs": [],
   "source": [
    "complete_data.columns"
   ]
  },
  {
   "cell_type": "code",
   "execution_count": null,
   "metadata": {},
   "outputs": [],
   "source": [
    "config['PASSING_COLS'] + config['DEFENSE_COLS']"
   ]
  },
  {
   "cell_type": "code",
   "execution_count": null,
   "metadata": {},
   "outputs": [],
   "source": [
    "# trial multiclass model:\n",
    "from sklearn.model_selection import train_test_split\n",
    "\n",
    "X_train, X_test, y_train, y_test = train_test_split(complete_data.query(filter_query)[list(set(config['PASSING_COLS'] + config['DEFENSE_COLS'] ))],\n",
    "                                                    complete_data.query(filter_query)['win'],\n",
    "                                                    stratify=complete_data.query(filter_query)['win'],\n",
    "                                                    random_state=33)\n"
   ]
  },
  {
   "cell_type": "code",
   "execution_count": null,
   "metadata": {},
   "outputs": [],
   "source": [
    "create_submodel(\"catboost\")"
   ]
  },
  {
   "cell_type": "code",
   "execution_count": null,
   "metadata": {},
   "outputs": [],
   "source": [
    "output_path"
   ]
  },
  {
   "cell_type": "code",
   "execution_count": null,
   "metadata": {},
   "outputs": [],
   "source": [
    "model = run_model_with_fs_tune(X_train, X_test, y_train, y_test,dat_dict,'catboost',output_path=folder_manager.output_path)"
   ]
  },
  {
   "cell_type": "code",
   "execution_count": null,
   "metadata": {},
   "outputs": [],
   "source": [
    "dat = NNDataFromPd(X_train.fillna(0), y_train.outcome_num, dat_dict)\n",
    "train_loader = DataLoader(dat, batch_size = 128,shuffle= True)"
   ]
  },
  {
   "cell_type": "code",
   "execution_count": null,
   "metadata": {},
   "outputs": [],
   "source": [
    "train_loader.dataset.X_numeric_tensor.shape"
   ]
  },
  {
   "cell_type": "code",
   "execution_count": null,
   "metadata": {},
   "outputs": [],
   "source": [
    "# model params\n",
    "n_features = X_train.shape[1]\n",
    "n_classes = y_train.iloc[:,0].nunique()\n",
    "model = MultiClassModel(n_features,n_classes)\n",
    "\n",
    "criterion = nn.CrossEntropyLoss()\n",
    "optimizer = optim.Adam(model.parameters(),lr = 0.001)"
   ]
  },
  {
   "cell_type": "code",
   "execution_count": null,
   "metadata": {},
   "outputs": [],
   "source": [
    "epochs = 500\n",
    "\n",
    "for epoch in range(epochs):\n",
    "    \n",
    "    epoch_loss = 0\n",
    "\n",
    "    for X_numeric_batch, X_categoric_batch, y_batch in train_loader:\n",
    "        \n",
    "        pred = model.forward(X_numeric_batch)\n",
    "        \n",
    "        loss = criterion(pred,y_batch)\n",
    "\n",
    "        optimizer.zero_grad()\n",
    "\n",
    "        loss.backward()\n",
    "\n",
    "        optimizer.step()\n",
    "\n",
    "        epoch_loss += loss.item()\n",
    "\n",
    "    print(f\"Epoch: {epoch}, Loss: {epoch_loss}\")"
   ]
  },
  {
   "cell_type": "code",
   "execution_count": null,
   "metadata": {},
   "outputs": [],
   "source": [
    "model.eval()"
   ]
  },
  {
   "cell_type": "code",
   "execution_count": null,
   "metadata": {},
   "outputs": [],
   "source": [
    "X_test['passes_accuracy'] = X_test['passes_accuracy'].astype(\"float64\")"
   ]
  },
  {
   "cell_type": "code",
   "execution_count": null,
   "metadata": {},
   "outputs": [],
   "source": [
    "# test sets\n",
    "\n",
    "test_dat = NNDataFromPd(X_test,y_test,dat_dict)\n",
    "test_loader = DataLoader(test_dat,batch_size= X_test.shape[0],shuffle=True)"
   ]
  },
  {
   "cell_type": "code",
   "execution_count": null,
   "metadata": {},
   "outputs": [],
   "source": [
    "model.eval()\n",
    "with torch.no_grad():\n",
    "    for X_numeric_batch, X_categoric_batch, y_batch in test_loader:\n",
    "        output = model(X_numeric_batch)\n",
    "        pred_class = torch.argmax(output, dim = 1)"
   ]
  },
  {
   "cell_type": "code",
   "execution_count": null,
   "metadata": {},
   "outputs": [],
   "source": [
    "# Logistic Model:\n",
    "X_train, X_test, y_train, y_test = train_test_split(complete_data[complete_data.games_position == 'F'][list(set(config['DEFENSE_COLS'] + config['PASSING_COLS'] + config['ATTACK_COLS'])) + ['win']].drop(columns = 'win'),\n",
    "                                                    complete_data[complete_data.games_position == 'F']['win'],\n",
    "                                                    stratify=complete_data['win'],\n",
    "                                                    random_state=33)"
   ]
  },
  {
   "cell_type": "code",
   "execution_count": null,
   "metadata": {},
   "outputs": [],
   "source": []
  },
  {
   "cell_type": "code",
   "execution_count": null,
   "metadata": {},
   "outputs": [],
   "source": [
    "train_dat = NNDataFromPd(X_train,y_train,dat_dict)\n",
    "train_loader = DataLoader(train_dat,batch_size= 128,shuffle = True)"
   ]
  },
  {
   "cell_type": "code",
   "execution_count": null,
   "metadata": {},
   "outputs": [],
   "source": [
    "n_features = X_train.shape[1]\n",
    "model = LogisticNNModelComplex(n_features)\n",
    "\n",
    "criterion = nn.BCEWithLogitsLoss()\n",
    "optimizer = optim.Adam(model.parameters(),lr = 0.005)"
   ]
  },
  {
   "cell_type": "code",
   "execution_count": null,
   "metadata": {},
   "outputs": [],
   "source": [
    "epochs = 500\n",
    "for epoch in range(epochs):\n",
    "    epoch_loss = 0\n",
    "    \n",
    "    for X_numeric, X_categoric, y in train_loader:\n",
    "\n",
    "        pred = model(X_numeric)\n",
    "\n",
    "        loss = criterion(pred,y.unsqueeze(1))\n",
    "\n",
    "        optimizer.zero_grad()\n",
    "\n",
    "        loss.backward()\n",
    "        optimizer.step()\n",
    "\n",
    "    print(f\"Epoch {epoch},  Loss: {loss}\")\n"
   ]
  },
  {
   "cell_type": "code",
   "execution_count": null,
   "metadata": {},
   "outputs": [],
   "source": [
    "pred_proba.squeeze(1)"
   ]
  },
  {
   "cell_type": "code",
   "execution_count": null,
   "metadata": {},
   "outputs": [],
   "source": [
    "from validations import *\n",
    "\n",
    "\n",
    "test_dat = NNDataFromPd(X_test,y_test,dat_dict)\n",
    "test_loader = DataLoader(test_dat,batch_size= X_test.shape[0],shuffle=True)\n",
    "\n",
    "model.eval()\n",
    "with torch.no_grad():\n",
    "    for X_numeric_batch, X_categoric_batch, y_batch in test_loader:\n",
    "        output = model(X_numeric_batch)\n",
    "        pred_proba = torch.softmax(output,dim =1)\n",
    "        pred_class = torch.argmax(output, dim = 1)\n",
    "\n",
    "\n",
    "discrete_evaluations(y_test,pred_class,pred_proba.squeeze(1),classification_type=\"Binary\",model_path= folder_manager.output_path)"
   ]
  },
  {
   "cell_type": "code",
   "execution_count": null,
   "metadata": {},
   "outputs": [],
   "source": [
    "test_fixtures = get_team_fixtures(\"Liverpool\",2)"
   ]
  },
  {
   "cell_type": "code",
   "execution_count": null,
   "metadata": {},
   "outputs": [],
   "source": [
    "test_fixtures"
   ]
  },
  {
   "cell_type": "code",
   "execution_count": null,
   "metadata": {},
   "outputs": [],
   "source": [
    "player_stat_url = \"https://v3.football.api-sports.io/fixtures/players?fixture={}\".format(1035045)\n",
    "fixture_dat = requests.get(player_stat_url,headers=headers_api_sport)"
   ]
  },
  {
   "cell_type": "code",
   "execution_count": null,
   "metadata": {},
   "outputs": [],
   "source": [
    "pd.json_normalize(pd.json_normalize(fixture_dat.json()['response']))['players'][0]"
   ]
  },
  {
   "cell_type": "code",
   "execution_count": null,
   "metadata": {},
   "outputs": [],
   "source": [
    "fixture_dat_expanded = pd.concat([pd.json_normalize(pd.json_normalize(fixture_dat.json()['response'])['players'][0])[['player.id','player.name']],pd.json_normalize(pd.json_normalize(pd.json_normalize(pd.json_normalize(fixture_dat.json()['response'])['players'][0])['statistics']).rename(columns = {0:\"player_stats\"})['player_stats'])],axis = 1)"
   ]
  },
  {
   "cell_type": "code",
   "execution_count": null,
   "metadata": {},
   "outputs": [],
   "source": [
    "fixtures_stat = complete_data.groupby(['fixture_id','team'],as_index=False).agg(n_opponent = ('opponent','count'),total_passes = ('passes_total','sum')).sort_values('fixture_id',ascending= False)"
   ]
  },
  {
   "cell_type": "code",
   "execution_count": null,
   "metadata": {},
   "outputs": [],
   "source": [
    "fixtures_stat"
   ]
  },
  {
   "cell_type": "code",
   "execution_count": null,
   "metadata": {},
   "outputs": [],
   "source": [
    "complete_data[complete_data.fixture_id == 1376437][['team','opponent']]"
   ]
  },
  {
   "cell_type": "code",
   "execution_count": null,
   "metadata": {},
   "outputs": [],
   "source": [
    "teams_dat[teams_dat.team_name.str.contains(\"Tels\")]"
   ]
  },
  {
   "cell_type": "code",
   "execution_count": null,
   "metadata": {},
   "outputs": [],
   "source": [
    "angers = pd.read_parquet(home_dir + \"/data/Fixtures/angers_2024.parquet\")"
   ]
  },
  {
   "cell_type": "code",
   "execution_count": null,
   "metadata": {},
   "outputs": [],
   "source": [
    "angers['fixture_date'] = pd.to_datetime(angers['fixture_date'])"
   ]
  },
  {
   "cell_type": "code",
   "execution_count": null,
   "metadata": {},
   "outputs": [],
   "source": [
    "angers['fixture_date']"
   ]
  },
  {
   "cell_type": "code",
   "execution_count": null,
   "metadata": {},
   "outputs": [],
   "source": []
  }
 ],
 "metadata": {
  "kernelspec": {
   "display_name": "Python 3",
   "language": "python",
   "name": "python3"
  },
  "language_info": {
   "codemirror_mode": {
    "name": "ipython",
    "version": 3
   },
   "file_extension": ".py",
   "mimetype": "text/x-python",
   "name": "python",
   "nbconvert_exporter": "python",
   "pygments_lexer": "ipython3",
   "version": "3.10.18"
  }
 },
 "nbformat": 4,
 "nbformat_minor": 2
}
