{
 "cells": [
  {
   "cell_type": "code",
   "execution_count": 151,
   "id": "7eecd9e9",
   "metadata": {},
   "outputs": [],
   "source": [
    "nums,k = [4,4,4,2,2,1]  , 4"
   ]
  },
  {
   "cell_type": "code",
   "execution_count": 152,
   "id": "825b251d",
   "metadata": {},
   "outputs": [],
   "source": [
    "def k_freq(nums,k):\n",
    "    import heapq\n",
    "    return heapq.nsmallest(k,nums)"
   ]
  },
  {
   "cell_type": "code",
   "execution_count": 153,
   "id": "0b1e21d0",
   "metadata": {},
   "outputs": [
    {
     "data": {
      "text/plain": [
       "[1, 2, 2, 4]"
      ]
     },
     "execution_count": 153,
     "metadata": {},
     "output_type": "execute_result"
    }
   ],
   "source": [
    "\n",
    "result = k_freq(nums,k)\n",
    "result"
   ]
  },
  {
   "cell_type": "code",
   "execution_count": null,
   "id": "cc73a59b",
   "metadata": {},
   "outputs": [],
   "source": []
  }
 ],
 "metadata": {
  "kernelspec": {
   "display_name": "Python torch_nn",
   "language": "python",
   "name": "myenv"
  },
  "language_info": {
   "codemirror_mode": {
    "name": "ipython",
    "version": 3
   },
   "file_extension": ".py",
   "mimetype": "text/x-python",
   "name": "python",
   "nbconvert_exporter": "python",
   "pygments_lexer": "ipython3",
   "version": "3.11.11"
  }
 },
 "nbformat": 4,
 "nbformat_minor": 5
}
