{
 "cells": [
  {
   "cell_type": "code",
   "execution_count": 12,
   "id": "351008a1",
   "metadata": {},
   "outputs": [],
   "source": [
    "from data_loader import *\n",
    "from utils import *\n",
    "\n",
    "from concurrent.futures import ThreadPoolExecutor,as_completed\n",
    "from itertools import product"
   ]
  },
  {
   "cell_type": "code",
   "execution_count": 13,
   "id": "695ca5d3",
   "metadata": {},
   "outputs": [
    {
     "data": {
      "text/html": [
       "<div>\n",
       "<style scoped>\n",
       "    .dataframe tbody tr th:only-of-type {\n",
       "        vertical-align: middle;\n",
       "    }\n",
       "\n",
       "    .dataframe tbody tr th {\n",
       "        vertical-align: top;\n",
       "    }\n",
       "\n",
       "    .dataframe thead th {\n",
       "        text-align: right;\n",
       "    }\n",
       "</style>\n",
       "<table border=\"1\" class=\"dataframe\">\n",
       "  <thead>\n",
       "    <tr style=\"text-align: right;\">\n",
       "      <th></th>\n",
       "      <th>league_id</th>\n",
       "      <th>league_name</th>\n",
       "      <th>country_name</th>\n",
       "    </tr>\n",
       "  </thead>\n",
       "  <tbody>\n",
       "    <tr>\n",
       "      <th>0</th>\n",
       "      <td>4</td>\n",
       "      <td>Euro Championship</td>\n",
       "      <td>World</td>\n",
       "    </tr>\n",
       "    <tr>\n",
       "      <th>1</th>\n",
       "      <td>21</td>\n",
       "      <td>Confederations Cup</td>\n",
       "      <td>World</td>\n",
       "    </tr>\n",
       "    <tr>\n",
       "      <th>2</th>\n",
       "      <td>61</td>\n",
       "      <td>Ligue 1</td>\n",
       "      <td>France</td>\n",
       "    </tr>\n",
       "    <tr>\n",
       "      <th>3</th>\n",
       "      <td>144</td>\n",
       "      <td>Jupiler Pro League</td>\n",
       "      <td>Belgium</td>\n",
       "    </tr>\n",
       "    <tr>\n",
       "      <th>4</th>\n",
       "      <td>71</td>\n",
       "      <td>Serie A</td>\n",
       "      <td>Brazil</td>\n",
       "    </tr>\n",
       "  </tbody>\n",
       "</table>\n",
       "</div>"
      ],
      "text/plain": [
       "   league_id         league_name country_name\n",
       "0          4   Euro Championship        World\n",
       "1         21  Confederations Cup        World\n",
       "2         61             Ligue 1       France\n",
       "3        144  Jupiler Pro League      Belgium\n",
       "4         71             Serie A       Brazil"
      ]
     },
     "execution_count": 13,
     "metadata": {},
     "output_type": "execute_result"
    }
   ],
   "source": [
    "leagues_dat = get_leagues(home_dir +\"/data/Leagues/leagues.parquet\")\n",
    "leagues_dat[['league_id','league_name','country_name']].head()"
   ]
  },
  {
   "cell_type": "code",
   "execution_count": 14,
   "id": "70b13cc0",
   "metadata": {},
   "outputs": [
    {
     "data": {
      "text/html": [
       "<div>\n",
       "<style scoped>\n",
       "    .dataframe tbody tr th:only-of-type {\n",
       "        vertical-align: middle;\n",
       "    }\n",
       "\n",
       "    .dataframe tbody tr th {\n",
       "        vertical-align: top;\n",
       "    }\n",
       "\n",
       "    .dataframe thead th {\n",
       "        text-align: right;\n",
       "    }\n",
       "</style>\n",
       "<table border=\"1\" class=\"dataframe\">\n",
       "  <thead>\n",
       "    <tr style=\"text-align: right;\">\n",
       "      <th></th>\n",
       "      <th>team_name</th>\n",
       "      <th>league</th>\n",
       "      <th>seasons</th>\n",
       "      <th>league_id</th>\n",
       "      <th>league_name</th>\n",
       "      <th>league_type</th>\n",
       "      <th>league_logo</th>\n",
       "      <th>country_name</th>\n",
       "      <th>country_code</th>\n",
       "      <th>country_flag</th>\n",
       "    </tr>\n",
       "  </thead>\n",
       "  <tbody>\n",
       "    <tr>\n",
       "      <th>0</th>\n",
       "      <td>Angers</td>\n",
       "      <td>61</td>\n",
       "      <td>[{'coverage': {'fixtures': {'events': True, 'l...</td>\n",
       "      <td>61</td>\n",
       "      <td>Ligue 1</td>\n",
       "      <td>League</td>\n",
       "      <td>https://media.api-sports.io/football/leagues/6...</td>\n",
       "      <td>France</td>\n",
       "      <td>FR</td>\n",
       "      <td>https://media.api-sports.io/flags/fr.svg</td>\n",
       "    </tr>\n",
       "    <tr>\n",
       "      <th>1</th>\n",
       "      <td>Lille</td>\n",
       "      <td>61</td>\n",
       "      <td>[{'coverage': {'fixtures': {'events': True, 'l...</td>\n",
       "      <td>61</td>\n",
       "      <td>Ligue 1</td>\n",
       "      <td>League</td>\n",
       "      <td>https://media.api-sports.io/football/leagues/6...</td>\n",
       "      <td>France</td>\n",
       "      <td>FR</td>\n",
       "      <td>https://media.api-sports.io/flags/fr.svg</td>\n",
       "    </tr>\n",
       "    <tr>\n",
       "      <th>2</th>\n",
       "      <td>Lyon</td>\n",
       "      <td>61</td>\n",
       "      <td>[{'coverage': {'fixtures': {'events': True, 'l...</td>\n",
       "      <td>61</td>\n",
       "      <td>Ligue 1</td>\n",
       "      <td>League</td>\n",
       "      <td>https://media.api-sports.io/football/leagues/6...</td>\n",
       "      <td>France</td>\n",
       "      <td>FR</td>\n",
       "      <td>https://media.api-sports.io/flags/fr.svg</td>\n",
       "    </tr>\n",
       "    <tr>\n",
       "      <th>3</th>\n",
       "      <td>Marseille</td>\n",
       "      <td>61</td>\n",
       "      <td>[{'coverage': {'fixtures': {'events': True, 'l...</td>\n",
       "      <td>61</td>\n",
       "      <td>Ligue 1</td>\n",
       "      <td>League</td>\n",
       "      <td>https://media.api-sports.io/football/leagues/6...</td>\n",
       "      <td>France</td>\n",
       "      <td>FR</td>\n",
       "      <td>https://media.api-sports.io/flags/fr.svg</td>\n",
       "    </tr>\n",
       "    <tr>\n",
       "      <th>4</th>\n",
       "      <td>Nantes</td>\n",
       "      <td>61</td>\n",
       "      <td>[{'coverage': {'fixtures': {'events': True, 'l...</td>\n",
       "      <td>61</td>\n",
       "      <td>Ligue 1</td>\n",
       "      <td>League</td>\n",
       "      <td>https://media.api-sports.io/football/leagues/6...</td>\n",
       "      <td>France</td>\n",
       "      <td>FR</td>\n",
       "      <td>https://media.api-sports.io/flags/fr.svg</td>\n",
       "    </tr>\n",
       "  </tbody>\n",
       "</table>\n",
       "</div>"
      ],
      "text/plain": [
       "   team_name  league                                            seasons  \\\n",
       "0     Angers      61  [{'coverage': {'fixtures': {'events': True, 'l...   \n",
       "1      Lille      61  [{'coverage': {'fixtures': {'events': True, 'l...   \n",
       "2       Lyon      61  [{'coverage': {'fixtures': {'events': True, 'l...   \n",
       "3  Marseille      61  [{'coverage': {'fixtures': {'events': True, 'l...   \n",
       "4     Nantes      61  [{'coverage': {'fixtures': {'events': True, 'l...   \n",
       "\n",
       "   league_id league_name league_type  \\\n",
       "0         61     Ligue 1      League   \n",
       "1         61     Ligue 1      League   \n",
       "2         61     Ligue 1      League   \n",
       "3         61     Ligue 1      League   \n",
       "4         61     Ligue 1      League   \n",
       "\n",
       "                                         league_logo country_name  \\\n",
       "0  https://media.api-sports.io/football/leagues/6...       France   \n",
       "1  https://media.api-sports.io/football/leagues/6...       France   \n",
       "2  https://media.api-sports.io/football/leagues/6...       France   \n",
       "3  https://media.api-sports.io/football/leagues/6...       France   \n",
       "4  https://media.api-sports.io/football/leagues/6...       France   \n",
       "\n",
       "  country_code                              country_flag  \n",
       "0           FR  https://media.api-sports.io/flags/fr.svg  \n",
       "1           FR  https://media.api-sports.io/flags/fr.svg  \n",
       "2           FR  https://media.api-sports.io/flags/fr.svg  \n",
       "3           FR  https://media.api-sports.io/flags/fr.svg  \n",
       "4           FR  https://media.api-sports.io/flags/fr.svg  "
      ]
     },
     "execution_count": 14,
     "metadata": {},
     "output_type": "execute_result"
    }
   ],
   "source": [
    "teams_data = pd.read_parquet(home_dir + \"/data/Teams/team_league.parquet\")\n",
    "teams_data = teams_data.merge(leagues_dat,left_on='league',right_on=\"league_id\",how = \"left\")\n",
    "teams_data.head()\n"
   ]
  },
  {
   "cell_type": "code",
   "execution_count": null,
   "id": "a8a2db0b",
   "metadata": {},
   "outputs": [],
   "source": [
    "read_all_teams = False\n",
    "unique_teams = teams_data[teams_data.league_id == 39]['team_name'].unique()\n",
    "unique_teams = ['Liverpool']\n",
    "\n",
    "if read_all_teams:\n",
    "    # All teams:\n",
    "    unique_teams = teams_data['team_name'].unique()\n",
    "\n",
    "\n",
    "# Specific teams:\n",
    "print(\"Expected API requests: \",int(len(unique_teams) * 38 * .8))"
   ]
  },
  {
   "cell_type": "code",
   "execution_count": null,
   "id": "3742311e",
   "metadata": {},
   "outputs": [],
   "source": [
    "teams = unique_teams\n",
    "season = [2023]\n",
    "team_season_pair = list(product(teams,season))"
   ]
  },
  {
   "cell_type": "code",
   "execution_count": null,
   "id": "4d345f22",
   "metadata": {},
   "outputs": [],
   "source": [
    "team_season_pair"
   ]
  },
  {
   "cell_type": "code",
   "execution_count": 15,
   "id": "676b59cf",
   "metadata": {},
   "outputs": [],
   "source": [
    "team = \"Chelsea\"\n",
    "season = 2025"
   ]
  },
  {
   "cell_type": "code",
   "execution_count": 16,
   "id": "73ebb1d9",
   "metadata": {},
   "outputs": [
    {
     "name": "stdout",
     "output_type": "stream",
     "text": [
      "processing for Chelsea, 2025\n",
      "Pulling for Chelsea,2025 with league_id: 39\n"
     ]
    },
    {
     "name": "stderr",
     "output_type": "stream",
     "text": [
      "/home/opc/OverperformXG/app/data_loader.py:76: SettingWithCopyWarning: \n",
      "A value is trying to be set on a copy of a slice from a DataFrame.\n",
      "Try using .loc[row_indexer,col_indexer] = value instead\n",
      "\n",
      "See the caveats in the documentation: https://pandas.pydata.org/pandas-docs/stable/user_guide/indexing.html#returning-a-view-versus-a-copy\n",
      "  team_fixtures['winner'] = np.where(team_fixtures.teams_home_winner == True,team_fixtures.teams_home_name,\n",
      "/home/opc/OverperformXG/app/data_loader.py:118: FutureWarning: Downcasting object dtype arrays on .fillna, .ffill, .bfill is deprecated and will change in a future version. Call result.infer_objects(copy=False) instead. To opt-in to the future behavior, set `pd.set_option('future.no_silent_downcasting', True)`\n",
      "  fixture_dat_expanded['team_non_penalty_goals_scored'] = fixtures[(fixtures.fixture_id == fixture)]['goals_home'].values[0] - fixtures[(fixtures.fixture_id == fixture)]['score_penalty_home'].fillna(0).values[0]\n",
      "/home/opc/OverperformXG/app/data_loader.py:121: FutureWarning: Downcasting object dtype arrays on .fillna, .ffill, .bfill is deprecated and will change in a future version. Call result.infer_objects(copy=False) instead. To opt-in to the future behavior, set `pd.set_option('future.no_silent_downcasting', True)`\n",
      "  fixture_dat_expanded['team_non_penalty_goals_conceded'] = fixtures[(fixtures.fixture_id == fixture)]['goals_away'].values[0] - fixtures[(fixtures.fixture_id == fixture)]['score_penalty_away'].fillna(0).values[0]\n",
      "/home/opc/OverperformXG/app/data_loader.py:118: FutureWarning: Downcasting object dtype arrays on .fillna, .ffill, .bfill is deprecated and will change in a future version. Call result.infer_objects(copy=False) instead. To opt-in to the future behavior, set `pd.set_option('future.no_silent_downcasting', True)`\n",
      "  fixture_dat_expanded['team_non_penalty_goals_scored'] = fixtures[(fixtures.fixture_id == fixture)]['goals_home'].values[0] - fixtures[(fixtures.fixture_id == fixture)]['score_penalty_home'].fillna(0).values[0]\n",
      "/home/opc/OverperformXG/app/data_loader.py:121: FutureWarning: Downcasting object dtype arrays on .fillna, .ffill, .bfill is deprecated and will change in a future version. Call result.infer_objects(copy=False) instead. To opt-in to the future behavior, set `pd.set_option('future.no_silent_downcasting', True)`\n",
      "  fixture_dat_expanded['team_non_penalty_goals_conceded'] = fixtures[(fixtures.fixture_id == fixture)]['goals_away'].values[0] - fixtures[(fixtures.fixture_id == fixture)]['score_penalty_away'].fillna(0).values[0]\n",
      "/home/opc/OverperformXG/app/data_loader.py:144: FutureWarning: The behavior of DataFrame concatenation with empty or all-NA entries is deprecated. In a future version, this will no longer exclude empty or all-NA columns when determining the result dtypes. To retain the old behavior, exclude the relevant entries before the concat operation.\n",
      "  fixtures_dat = pd.concat([fixtures_dat,fixture_dat_expanded],axis = 0)\n",
      "/home/opc/OverperformXG/app/data_loader.py:118: FutureWarning: Downcasting object dtype arrays on .fillna, .ffill, .bfill is deprecated and will change in a future version. Call result.infer_objects(copy=False) instead. To opt-in to the future behavior, set `pd.set_option('future.no_silent_downcasting', True)`\n",
      "  fixture_dat_expanded['team_non_penalty_goals_scored'] = fixtures[(fixtures.fixture_id == fixture)]['goals_home'].values[0] - fixtures[(fixtures.fixture_id == fixture)]['score_penalty_home'].fillna(0).values[0]\n",
      "/home/opc/OverperformXG/app/data_loader.py:121: FutureWarning: Downcasting object dtype arrays on .fillna, .ffill, .bfill is deprecated and will change in a future version. Call result.infer_objects(copy=False) instead. To opt-in to the future behavior, set `pd.set_option('future.no_silent_downcasting', True)`\n",
      "  fixture_dat_expanded['team_non_penalty_goals_conceded'] = fixtures[(fixtures.fixture_id == fixture)]['goals_away'].values[0] - fixtures[(fixtures.fixture_id == fixture)]['score_penalty_away'].fillna(0).values[0]\n",
      "/home/opc/OverperformXG/app/data_loader.py:144: FutureWarning: The behavior of DataFrame concatenation with empty or all-NA entries is deprecated. In a future version, this will no longer exclude empty or all-NA columns when determining the result dtypes. To retain the old behavior, exclude the relevant entries before the concat operation.\n",
      "  fixtures_dat = pd.concat([fixtures_dat,fixture_dat_expanded],axis = 0)\n",
      "/home/opc/OverperformXG/app/data_loader.py:118: FutureWarning: Downcasting object dtype arrays on .fillna, .ffill, .bfill is deprecated and will change in a future version. Call result.infer_objects(copy=False) instead. To opt-in to the future behavior, set `pd.set_option('future.no_silent_downcasting', True)`\n",
      "  fixture_dat_expanded['team_non_penalty_goals_scored'] = fixtures[(fixtures.fixture_id == fixture)]['goals_home'].values[0] - fixtures[(fixtures.fixture_id == fixture)]['score_penalty_home'].fillna(0).values[0]\n",
      "/home/opc/OverperformXG/app/data_loader.py:121: FutureWarning: Downcasting object dtype arrays on .fillna, .ffill, .bfill is deprecated and will change in a future version. Call result.infer_objects(copy=False) instead. To opt-in to the future behavior, set `pd.set_option('future.no_silent_downcasting', True)`\n",
      "  fixture_dat_expanded['team_non_penalty_goals_conceded'] = fixtures[(fixtures.fixture_id == fixture)]['goals_away'].values[0] - fixtures[(fixtures.fixture_id == fixture)]['score_penalty_away'].fillna(0).values[0]\n",
      "/home/opc/OverperformXG/app/data_loader.py:133: FutureWarning: Downcasting object dtype arrays on .fillna, .ffill, .bfill is deprecated and will change in a future version. Call result.infer_objects(copy=False) instead. To opt-in to the future behavior, set `pd.set_option('future.no_silent_downcasting', True)`\n",
      "  fixture_dat_expanded['team_non_penalty_goals_scored'] = fixtures[(fixtures.fixture_id == fixture)]['goals_away'].values[0] - fixtures[(fixtures.fixture_id == fixture)]['score_penalty_away'].fillna(0).values[0]\n",
      "/home/opc/OverperformXG/app/data_loader.py:136: FutureWarning: Downcasting object dtype arrays on .fillna, .ffill, .bfill is deprecated and will change in a future version. Call result.infer_objects(copy=False) instead. To opt-in to the future behavior, set `pd.set_option('future.no_silent_downcasting', True)`\n",
      "  fixture_dat_expanded['team_non_penalty_goals_conceded'] = fixtures[(fixtures.fixture_id == fixture)]['goals_home'].values[0] - fixtures[(fixtures.fixture_id == fixture)]['score_penalty_home'].fillna(0).values[0]\n",
      "/home/opc/OverperformXG/app/data_loader.py:133: FutureWarning: Downcasting object dtype arrays on .fillna, .ffill, .bfill is deprecated and will change in a future version. Call result.infer_objects(copy=False) instead. To opt-in to the future behavior, set `pd.set_option('future.no_silent_downcasting', True)`\n",
      "  fixture_dat_expanded['team_non_penalty_goals_scored'] = fixtures[(fixtures.fixture_id == fixture)]['goals_away'].values[0] - fixtures[(fixtures.fixture_id == fixture)]['score_penalty_away'].fillna(0).values[0]\n",
      "/home/opc/OverperformXG/app/data_loader.py:136: FutureWarning: Downcasting object dtype arrays on .fillna, .ffill, .bfill is deprecated and will change in a future version. Call result.infer_objects(copy=False) instead. To opt-in to the future behavior, set `pd.set_option('future.no_silent_downcasting', True)`\n",
      "  fixture_dat_expanded['team_non_penalty_goals_conceded'] = fixtures[(fixtures.fixture_id == fixture)]['goals_home'].values[0] - fixtures[(fixtures.fixture_id == fixture)]['score_penalty_home'].fillna(0).values[0]\n",
      "/home/opc/OverperformXG/app/data_loader.py:133: FutureWarning: Downcasting object dtype arrays on .fillna, .ffill, .bfill is deprecated and will change in a future version. Call result.infer_objects(copy=False) instead. To opt-in to the future behavior, set `pd.set_option('future.no_silent_downcasting', True)`\n",
      "  fixture_dat_expanded['team_non_penalty_goals_scored'] = fixtures[(fixtures.fixture_id == fixture)]['goals_away'].values[0] - fixtures[(fixtures.fixture_id == fixture)]['score_penalty_away'].fillna(0).values[0]\n",
      "/home/opc/OverperformXG/app/data_loader.py:136: FutureWarning: Downcasting object dtype arrays on .fillna, .ffill, .bfill is deprecated and will change in a future version. Call result.infer_objects(copy=False) instead. To opt-in to the future behavior, set `pd.set_option('future.no_silent_downcasting', True)`\n",
      "  fixture_dat_expanded['team_non_penalty_goals_conceded'] = fixtures[(fixtures.fixture_id == fixture)]['goals_home'].values[0] - fixtures[(fixtures.fixture_id == fixture)]['score_penalty_home'].fillna(0).values[0]\n"
     ]
    }
   ],
   "source": [
    "dat = read_fixtures_for_season(team,season,sleep_time=60)"
   ]
  },
  {
   "cell_type": "code",
   "execution_count": 17,
   "id": "07e15871",
   "metadata": {},
   "outputs": [],
   "source": [
    "liverpool_dat = pd.read_parquet(\"/home/opc/OverperformXG/data/Fixtures/Chelsea_2025.parquet\")"
   ]
  },
  {
   "cell_type": "code",
   "execution_count": 19,
   "id": "4134bf87",
   "metadata": {},
   "outputs": [
    {
     "data": {
      "text/plain": [
       "array([1378976, 1378991, 1379021, 1379033, 1378988, 1379001, 1379015])"
      ]
     },
     "execution_count": 19,
     "metadata": {},
     "output_type": "execute_result"
    }
   ],
   "source": [
    "liverpool_dat.fixture_id.unique()"
   ]
  },
  {
   "cell_type": "code",
   "execution_count": null,
   "id": "12b6a915",
   "metadata": {},
   "outputs": [],
   "source": [
    "parallel = False\n",
    "workers = 3\n",
    "visited_list = list()\n",
    "\n",
    "if parallel:\n",
    "    print(f\"Running in parallel with {workers} workers\")\n",
    "    with ThreadPoolExecutor(max_workers=workers) as executor:\n",
    "        futures = {executor.submit(read_fixtures_for_season,t,s) : (t,s) for t,s in team_season_pair}\n",
    "        \n",
    "else:\n",
    "    for team in teams:\n",
    "        try:\n",
    "            dat = read_fixtures_for_season(team,season,sleep_time=60)\n",
    "            visited_list.append(team)\n",
    "        except:\n",
    "            print(f\"{team} does not have matches in {season}\")"
   ]
  },
  {
   "cell_type": "code",
   "execution_count": null,
   "id": "64ba8893",
   "metadata": {},
   "outputs": [],
   "source": [
    "teams = list(set(teams) - set(visited_list))\n",
    "season = [2025]\n",
    "team_season_pair = list(product(teams,season))\n",
    "\n",
    "team_season_pair\n",
    "\n"
   ]
  },
  {
   "cell_type": "code",
   "execution_count": null,
   "id": "f5e3e133",
   "metadata": {},
   "outputs": [],
   "source": [
    "len(teams)"
   ]
  },
  {
   "cell_type": "code",
   "execution_count": null,
   "id": "3d4b91f2",
   "metadata": {},
   "outputs": [],
   "source": [
    "team_season_pair[0:3]"
   ]
  },
  {
   "cell_type": "code",
   "execution_count": null,
   "id": "325ba310",
   "metadata": {},
   "outputs": [],
   "source": []
  }
 ],
 "metadata": {
  "kernelspec": {
   "display_name": "Python 3",
   "language": "python",
   "name": "python3"
  },
  "language_info": {
   "codemirror_mode": {
    "name": "ipython",
    "version": 3
   },
   "file_extension": ".py",
   "mimetype": "text/x-python",
   "name": "python",
   "nbconvert_exporter": "python",
   "pygments_lexer": "ipython3",
   "version": "3.10.18"
  }
 },
 "nbformat": 4,
 "nbformat_minor": 5
}
