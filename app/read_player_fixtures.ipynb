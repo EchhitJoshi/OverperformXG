{
 "cells": [
  {
   "cell_type": "code",
   "execution_count": null,
   "id": "351008a1",
   "metadata": {},
   "outputs": [],
   "source": [
    "from data_loader import *\n",
    "from utils import *\n",
    "\n",
    "from concurrent.futures import ThreadPoolExecutor,as_completed\n",
    "from itertools import product"
   ]
  },
  {
   "cell_type": "code",
   "execution_count": null,
   "id": "70b13cc0",
   "metadata": {},
   "outputs": [],
   "source": [
    "teams_data = pd.read_parquet(home_dir + \"/data/Teams/team_league.parquet\")"
   ]
  },
  {
   "cell_type": "code",
   "execution_count": null,
   "id": "a8a2db0b",
   "metadata": {},
   "outputs": [],
   "source": [
    "unique_teams = teams_data['team_name'].unique()\n",
    "print(\"Expected API requests: \",int(len(unique_teams) * 38 * .8))"
   ]
  },
  {
   "cell_type": "code",
   "execution_count": null,
   "id": "3742311e",
   "metadata": {},
   "outputs": [],
   "source": [
    "teams = unique_teams\n",
    "season = [2022]\n",
    "team_season_pair = list(product(teams,season))"
   ]
  },
  {
   "cell_type": "code",
   "execution_count": null,
   "id": "12b6a915",
   "metadata": {},
   "outputs": [],
   "source": [
    "parallel = True\n",
    "workers = 3\n",
    "visited_list = list()\n",
    "\n",
    "if parallel:\n",
    "    with ThreadPoolExecutor(max_workers=3) as executor:\n",
    "        futures = {executor.submit(read_fixtures_for_season,t,s) : (t,s) for t,s in team_season_pair}\n",
    "else:\n",
    "    for team in teams:\n",
    "        try:\n",
    "            dat = read_fixtures_for_season(team,season)\n",
    "            visited_list.append(team)\n",
    "        except:\n",
    "            print(f\"{team} does not have matches in {season}\")"
   ]
  },
  {
   "cell_type": "code",
   "execution_count": null,
   "id": "64ba8893",
   "metadata": {},
   "outputs": [],
   "source": [
    "teams = list(set(teams) - set(visited_list))\n",
    "teams"
   ]
  },
  {
   "cell_type": "code",
   "execution_count": null,
   "id": "f5e3e133",
   "metadata": {},
   "outputs": [],
   "source": [
    "teams"
   ]
  },
  {
   "cell_type": "code",
   "execution_count": null,
   "id": "3d4b91f2",
   "metadata": {},
   "outputs": [],
   "source": []
  }
 ],
 "metadata": {
  "kernelspec": {
   "display_name": "dlcpu",
   "language": "python",
   "name": "python3"
  },
  "language_info": {
   "codemirror_mode": {
    "name": "ipython",
    "version": 3
   },
   "file_extension": ".py",
   "mimetype": "text/x-python",
   "name": "python",
   "nbconvert_exporter": "python",
   "pygments_lexer": "ipython3",
   "version": "3.10.13"
  }
 },
 "nbformat": 4,
 "nbformat_minor": 5
}
