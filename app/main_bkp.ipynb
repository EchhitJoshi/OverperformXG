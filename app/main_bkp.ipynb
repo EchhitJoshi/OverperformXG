{
 "cells": [
  {
   "cell_type": "code",
   "execution_count": null,
   "metadata": {},
   "outputs": [],
   "source": [
    "import pandas as pd\n",
    "import numpy as np\n",
    "\n",
    "import requests\n",
    "\n",
    "import os\n",
    "import time\n",
    "from datetime import datetime\n",
    "import sys\n",
    "import yaml\n",
    "import gc\n",
    "\n",
    "\n",
    "from data_loader import *\n",
    "from utils import *\n",
    "from nn import *\n",
    "from models import *\n",
    "from llm import *\n",
    "from llm_hf import *\n",
    "import folder_manager\n",
    "\n",
    "import seaborn as sns\n",
    "sns.set_style(\"darkgrid\")\n",
    "plt.rcParams.update({\n",
    "    'axes.facecolor': '#1e1e1e',\n",
    "    'figure.facecolor': '#1e1e1e',\n",
    "    'axes.edgecolor': 'white',\n",
    "    'axes.labelcolor': 'white',\n",
    "    'xtick.color': 'white',\n",
    "    'ytick.color': 'white',\n",
    "    'text.color': 'white',\n",
    "    'axes.grid': True,\n",
    "    'grid.color': 'gray'\n",
    "})\n",
    "\n",
    "pd.set_option(\"display.max_column\",None)\n",
    "print(os.getcwd())\n",
    "\n",
    "\n",
    "%load_ext autoreload\n",
    "%reload_ext autoreload\n",
    "%autoreload 2\n",
    "\n",
    "pd.options.display.max_rows = 100\n",
    "\n",
    "\n",
    "def auto_reload():\n",
    "    %load_ext autoreload\n",
    "    %reload_ext autoreload\n",
    "    %autoreload 2"
   ]
  },
  {
   "cell_type": "code",
   "execution_count": null,
   "metadata": {},
   "outputs": [],
   "source": [
    "with open(\"config.yaml\",'r') as f:\n",
    "    config = yaml.safe_load(f)\n",
    "\n",
    "home_dir = config['HOME_DIRECTORY']\n",
    "home_dir"
   ]
  },
  {
   "cell_type": "code",
   "execution_count": null,
   "metadata": {},
   "outputs": [],
   "source": [
    "create_submodel(\"llm_new\")"
   ]
  },
  {
   "cell_type": "markdown",
   "metadata": {},
   "source": [
    "# API Football:\n",
    "https://www.api-football.com"
   ]
  },
  {
   "cell_type": "markdown",
   "metadata": {},
   "source": [
    "![PYTHON LOGO](https://www.api-football.com/public/img/news/archi-beta.jpg)"
   ]
  },
  {
   "cell_type": "code",
   "execution_count": null,
   "metadata": {},
   "outputs": [],
   "source": [
    "leagues_dat = get_leagues(home_dir +\"/data/Leagues/leagues.parquet\")\n",
    "leagues_dat[['league_id','league_name','country_name']]"
   ]
  },
  {
   "cell_type": "markdown",
   "metadata": {},
   "source": [
    "# Leagues subset:"
   ]
  },
  {
   "cell_type": "code",
   "execution_count": null,
   "metadata": {},
   "outputs": [],
   "source": [
    "# Configs\n",
    "major_leagues = [\"Premier League\",\"La Liga\",\"Serie A\",\"Bundesliga\",\"Eredivisie\",\"Ligue 1\"]\n",
    "major_countries = [\"England\",\"Spain\",\"Italy\",\"Germany\",\"Netherlands\",\"France\",\"Brazil\"]\n",
    "teams = [\"Liverpool\",\"Wolves\"] # teams to pull players data of\n",
    "seasons = [2022,2021,2023,2024] # seasons to pull players and teams stats of\n",
    "\n",
    "\n",
    "\n",
    "leagues_subset = leagues_dat[leagues_dat.league_name.isin(major_leagues) & leagues_dat.country_name.isin(major_countries)] # league ID to pull from, current values: {39:premier league}, Add to dictionary as needed"
   ]
  },
  {
   "cell_type": "code",
   "execution_count": null,
   "metadata": {},
   "outputs": [],
   "source": [
    "leagues_subset"
   ]
  },
  {
   "cell_type": "markdown",
   "metadata": {},
   "source": [
    "# Read All fixtures data"
   ]
  },
  {
   "cell_type": "code",
   "execution_count": null,
   "metadata": {},
   "outputs": [],
   "source": [
    "teams_dat = pd.read_parquet(home_dir + \"/data/Teams/team_league.parquet\")"
   ]
  },
  {
   "cell_type": "code",
   "execution_count": null,
   "metadata": {},
   "outputs": [],
   "source": [
    "fixtures_dir = home_dir + \"/data/Fixtures\"\n",
    "\n",
    "complete_data = pd.DataFrame()\n",
    "for file in os.listdir(fixtures_dir):\n",
    "    dat = pd.read_parquet(os.path.join(fixtures_dir,file))\n",
    "    complete_data = pd.concat([complete_data,dat],axis = 0)\n",
    "\n",
    "complete_data = complete_data.reset_index()\n",
    "complete_data.drop(columns = ['index'],inplace=True)"
   ]
  },
  {
   "cell_type": "code",
   "execution_count": null,
   "metadata": {},
   "outputs": [],
   "source": [
    "complete_data.columns"
   ]
  },
  {
   "cell_type": "code",
   "execution_count": null,
   "metadata": {},
   "outputs": [],
   "source": [
    "# Data checks\n",
    "complete_data['passes_accuracy'] = complete_data['passes_accuracy'].astype(\"float64\")\n",
    "complete_data.rename(columns= {'passes_accuracy':'passes_accurate'},inplace =True)\n",
    "complete_data['fixture_date'] = pd.to_datetime(complete_data.fixture_date)\n",
    "complete_data['fixture_date_dt'] = complete_data['fixture_date'].dt.date\n",
    "complete_data = create_datetime_columns(complete_data,'fixture_date')\n",
    "complete_data['games_rating'] = pd.to_numeric(complete_data['games_rating'])\n",
    "\n",
    "# Gemini Create season column here:\n",
    "\n",
    "\n",
    "# Targets\n",
    "complete_data['outcome_num'] = pd.Categorical(complete_data.outcome).codes\n",
    "\n",
    "complete_data['win'] = np.where(complete_data.outcome.str.lower() == 'win', 1,0)\n",
    "\n",
    "# Joins:\n",
    "complete_data = complete_data.merge(teams_dat.drop_duplicates(),how = 'left', left_on= 'team',right_on = 'team_name').drop(columns = ['team_name'])\n"
   ]
  },
  {
   "cell_type": "code",
   "execution_count": null,
   "metadata": {},
   "outputs": [],
   "source": [
    "complete_data.head()"
   ]
  },
  {
   "cell_type": "code",
   "execution_count": null,
   "metadata": {},
   "outputs": [],
   "source": [
    "complete_data.shape"
   ]
  },
  {
   "cell_type": "code",
   "execution_count": null,
   "metadata": {},
   "outputs": [],
   "source": [
    "# This is the dictionary that contains all information about the features    \n",
    "dat_dict = find_data_types(complete_data,config['OUTCOME_COLS'] + ['outcome_num','outcome'])\n",
    "dat_dict = pd.DataFrame(list(dat_dict.items()),columns =['feature','type'])\n",
    "\n",
    "# differentiate modeling features\n",
    "non_modeling_features = config['FIXTURE_COLS'] + config['OUTCOME_COLS'] + config['MISC_COLS'] + ['outcome_num','league','win','fixture_date','fixture_date_dt','major_position']\n",
    "dat_dict['modeling_feature'] = np.where(dat_dict['feature'].isin(non_modeling_features),0,1)\n",
    "dat_dict['encoded'] = 0\n",
    "\n",
    "print(dat_dict['type'].value_counts())\n",
    "dat_dict.reset_index(drop= True)\n",
    "\n",
    "## Encode Features\n",
    "dat_dict = create_data_index(complete_data,dat_dict,'target',folder_manager.encoding_path)\n",
    "dat_dict[dat_dict.modeling_feature ==1]"
   ]
  },
  {
   "cell_type": "code",
   "execution_count": null,
   "metadata": {},
   "outputs": [],
   "source": []
  },
  {
   "cell_type": "code",
   "execution_count": null,
   "metadata": {},
   "outputs": [],
   "source": [
    "season_dt = complete_data.groupby(['league','fixture_date_dt'],as_index = False).agg(val = ('fixture_date_dt','nunique'))\n",
    "\n",
    "season_dt = (\n",
    "    season_dt.groupby(\"league\", group_keys=False)\n",
    "      .apply(lambda g: (\n",
    "          g.set_index(\"fixture_date_dt\")\n",
    "           .asfreq(\"D\")\n",
    "           .fillna({\"val\": 0, \"league\": g.name})\n",
    "      ))\n",
    "      .reset_index()\n",
    ")\n",
    "\n",
    "fig, axes = plt.subplots(season_dt['league'].nunique(),1)\n",
    "\n",
    "for ix,league in enumerate(season_dt['league'].unique()):\n",
    "    sns.lineplot(season_dt[season_dt.league == league], x = \"fixture_date_dt\",y = \"val\",ax= axes[ix])\n"
   ]
  },
  {
   "cell_type": "code",
   "execution_count": null,
   "metadata": {},
   "outputs": [],
   "source": [
    "# primary position map:\n",
    "player_position = complete_data.groupby([\"player_id\",\"games_position\"],as_index = False).agg(games_played = (\"player_id\",\"size\"))\n",
    "player_position['multiple_records'] = player_position.groupby('player_id')['games_played'].transform(\"cumsum\")\n",
    "player_position['multiple_records'] = player_position.groupby('player_id')['multiple_records'].transform(\"max\")\n",
    "player_position['major_position'] = np.where(player_position.games_played/player_position.multiple_records >= .5, player_position.games_position,None)\n",
    "player_position_map = player_position[['player_id','major_position']].dropna().drop_duplicates()\n",
    "player_position_map\n",
    "\n",
    "# Join back to complete_data\n",
    "\n",
    "complete_data = pd.merge(complete_data,player_position_map,on = 'player_id',how = 'left')"
   ]
  },
  {
   "cell_type": "code",
   "execution_count": null,
   "metadata": {},
   "outputs": [],
   "source": [
    "# Run Player Comparison from LLm \n",
    "#player_compare  = compare_players_from_llm(complete_data,[\"Giovanni Leoni\",\"Ibrahima Konaté\"],years = [2025],normalize=True)"
   ]
  },
  {
   "cell_type": "code",
   "execution_count": null,
   "metadata": {},
   "outputs": [],
   "source": [
    "fixture_dat = calculate_fixture_stats(complete_data)"
   ]
  },
  {
   "cell_type": "code",
   "execution_count": null,
   "metadata": {},
   "outputs": [],
   "source": [
    "fixture_dat.head()"
   ]
  },
  {
   "cell_type": "code",
   "execution_count": null,
   "metadata": {},
   "outputs": [],
   "source": [
    "# team classification\n",
    "from sklearn.tree import DecisionTreeClassifier, plot_tree\n",
    "from category_encoders import OrdinalEncoder\n",
    "team_class_dat = fixture_dat[['fixture_id','team','opponent','year_e','win']].drop_duplicates()\n",
    "oe = OrdinalEncoder()\n",
    "team_class_dat['team_encoded'] = oe.fit_transform(team_class_dat['team'])\n",
    "team_class_dat['opponent_encoded'] = oe.transform(team_class_dat.drop(columns = 'team').rename(columns={\"opponent\":'team'})['team']).astype(\"int\")\n",
    "team_class_dat.head()\n",
    "team_class_dat['team_cluster'] = 0\n",
    "\n",
    "for year in team_class_dat.year_e.dropna().unique():\n",
    "    if year != np.nan:\n",
    "        print(f\"for year {year}\")\n",
    "        dtc = DecisionTreeClassifier(max_depth=4)\n",
    "        model = dtc.fit(team_class_dat[team_class_dat.year_e == year][['team_encoded','opponent_encoded']],team_class_dat[team_class_dat.year_e == year]['win'].values)\n",
    "        y_pred = model.predict(team_class_dat[team_class_dat.year_e == year][['team_encoded','opponent_encoded']])\n",
    "        team_class_dat.loc[team_class_dat['year_e'] == year,'team_cluster'] = model.predict_proba(team_class_dat[team_class_dat.year_e == year][['team_encoded','opponent_encoded']]).max(axis = 1)\n",
    "\n",
    "team_cluster_map = team_class_dat[['year_e','team','team_cluster']].drop_duplicates().reset_index(drop= True)\n",
    "team_class_dat = team_class_dat.merge(team_cluster_map,on = ['year_e','team'],how = 'left').rename(columns = {'team_cluster_y':'opponent_cluster',\n",
    "                                                                                                              'team_cluster_x':'team_cluster'})\n",
    "team_class_dat['year_e'] = team_class_dat['year_e'].astype('Int64')\n",
    "oe_cluster = OrdinalEncoder()\n",
    "team_class_dat['opponent_cluster_encoded'] = oe_cluster.fit_transform(team_class_dat['opponent_cluster'].astype(\"str\"))"
   ]
  },
  {
   "cell_type": "markdown",
   "metadata": {},
   "source": [
    "# Bayesian Team Ability Estimation\n",
    "\n",
    " - team_ability: alpha ~ Normal(mu,sig^2)\n",
    " - opposition_difficulty: beta ~ Normal(mu,sig^2)\n",
    "\n",
    " - P(w) ~ binomial(N,alpha - beta)"
   ]
  },
  {
   "cell_type": "code",
   "execution_count": null,
   "metadata": {},
   "outputs": [],
   "source": [
    "team_class_dat.head()"
   ]
  },
  {
   "cell_type": "code",
   "execution_count": null,
   "metadata": {},
   "outputs": [],
   "source": [
    "# Data for Binomial Model\n",
    "\n",
    "team_class_dat_binom = team_class_dat.groupby(['year_e','team','team_encoded','opponent_cluster_encoded'],as_index = False).agg(wins = ('win','sum'), total_games = ('win','size'))\n",
    "team_class_dat_binom.head()"
   ]
  },
  {
   "cell_type": "code",
   "execution_count": null,
   "metadata": {},
   "outputs": [],
   "source": [
    "team_idx = team_class_dat_binom['team_encoded']\n",
    "cluster_idx = team_class_dat_binom['opponent_cluster_encoded']\n",
    "year_idx = team_class_dat_binom['year_e']\n",
    "coords = {\"teams\":team_class_dat_binom['team'].unique(),\n",
    "          \"year\":team_class_dat_binom['year_e'].unique(),\n",
    "          \"cluster\": team_class_dat_binom['opponent_cluster_encoded'].unique()\n",
    "          }\n",
    "\n",
    "teams_unique = np.sort(np.unique(team_idx))\n",
    "team_map = {t:i for i,t in enumerate(teams_unique)}\n",
    "team_idx_zero = np.array([team_map[t] for t in team_idx])\n",
    "\n",
    "# Clusters\n",
    "clusters_unique = np.sort(np.unique(cluster_idx))\n",
    "cluster_map = {c:i for i,c in enumerate(clusters_unique)}\n",
    "cluster_idx_zero = np.array([cluster_map[c] for c in cluster_idx])\n",
    "\n",
    "# Years\n",
    "years_unique = np.sort(np.unique(year_idx))\n",
    "year_map = {y:i for i,y in enumerate(years_unique)}\n",
    "year_idx_zero = np.array([year_map[y] for y in year_idx])\n",
    "\n",
    "with pm.Model(coords=coords) as model:\n",
    "\n",
    "    mu_team = pm.Normal(\"mu_team\",0,1)\n",
    "    sigma_team = pm.HalfNormal('sigma_team',2)\n",
    "\n",
    "    mu_opponent = pm.Normal(\"mu_opponent\",0,1)\n",
    "    sigma_opponent = pm.HalfNormal('sigma_opponent',3)\n",
    "\n",
    "    theta_team_raw = pm.Normal(\"theta_team_year\",0,1,dims= ('teams','year'))\n",
    "    #theta_team = pm.Deterministic(\"theta_team\",mu_team + theta_team_raw * sigma_team,dims = ('teams','year'))\n",
    "    theta_team = mu_team + theta_team_raw * sigma_team\n",
    "    theta = pm.Deterministic('theta', theta_team - theta_team.mean(axis = 0,keepdims = True),dims = ('teams','year'))\n",
    "\n",
    "    beta_opponent_raw = pm.Normal(\"beta_opponent_year\",0,1,dims= ('cluster','year'))\n",
    "    #beta_opponent = pm.Deterministic(\"beta_opponent\",mu_opponent + beta_opponent_raw * sigma_opponent,dims = ('cluster','year'))\n",
    "    beta_opponent = mu_opponent + beta_opponent_raw * sigma_opponent\n",
    "    beta = pm.Deterministic('beta', beta_opponent - beta_opponent.mean(axis = 0,keepdims = True),dims = ('cluster','year'))\n",
    "\n",
    "    logit = theta[team_idx_zero,year_idx_zero] - beta[cluster_idx_zero,year_idx_zero]\n",
    "    p = pm.Deterministic('p',pm.math.sigmoid(logit))\n",
    "    n = team_class_dat_binom.total_games.values\n",
    "    outcome = pm.Binomial(\"outcome\", n = n,p = p, observed = team_class_dat_binom.wins.values)\n",
    "\n",
    "    trace = pm.sample()\n",
    "\n",
    "   \n"
   ]
  },
  {
   "cell_type": "code",
   "execution_count": null,
   "metadata": {},
   "outputs": [],
   "source": [
    "pm.summary(trace)"
   ]
  },
  {
   "cell_type": "code",
   "execution_count": null,
   "metadata": {},
   "outputs": [],
   "source": [
    "[val for val in pm.summary(trace).index if 'Liverpool' in val]"
   ]
  },
  {
   "cell_type": "code",
   "execution_count": null,
   "metadata": {},
   "outputs": [],
   "source": [
    "liverpool_post = trace.posterior['theta'].sel(teams = \"Liverpool\")\n",
    "liverpool_post.coords\n",
    "#mancity_post = trace.posterior['theta_alpha'].sel(teams = \"Manchester City\")"
   ]
  },
  {
   "cell_type": "code",
   "execution_count": null,
   "metadata": {},
   "outputs": [],
   "source": [
    "az.summary(trace).loc[\"theta_team[Liverpool, 2024]\"]"
   ]
  },
  {
   "cell_type": "code",
   "execution_count": null,
   "metadata": {},
   "outputs": [],
   "source": [
    "liverpool_post.coords"
   ]
  },
  {
   "cell_type": "code",
   "execution_count": null,
   "metadata": {},
   "outputs": [],
   "source": [
    "fig, axes = plt.subplots(4,1,figsize = (12,8))\n",
    "sns.kdeplot(liverpool_post[3],ax= axes[3])\n",
    "sns.kdeplot(liverpool_post[2],ax= axes[2])\n",
    "sns.kdeplot(liverpool_post[1],ax= axes[1])\n",
    "sns.kdeplot(liverpool_post[0],ax= axes[0])"
   ]
  },
  {
   "cell_type": "code",
   "execution_count": null,
   "metadata": {},
   "outputs": [],
   "source": [
    "year_map"
   ]
  },
  {
   "cell_type": "code",
   "execution_count": null,
   "metadata": {},
   "outputs": [],
   "source": [
    "team_class_dat[team_class_dat.team == 'Liverpool']"
   ]
  },
  {
   "cell_type": "code",
   "execution_count": null,
   "metadata": {},
   "outputs": [],
   "source": [
    "team_class_dat['team_cluster'] = team_class_dat['team_cluster'].round(5)"
   ]
  },
  {
   "cell_type": "code",
   "execution_count": null,
   "metadata": {},
   "outputs": [],
   "source": [
    "liverpool_25_cluster = team_class_dat[(team_class_dat.year_e == 2025) & (team_class_dat.team == \"Real Madrid\")]['team_cluster'].values[0]\n",
    "liverpool_25_cluster"
   ]
  },
  {
   "cell_type": "code",
   "execution_count": null,
   "metadata": {},
   "outputs": [],
   "source": [
    "team_class_dat[(team_class_dat.team_cluster.round(5) == liverpool_25_cluster) & (team_class_dat.year_e == 2025)]['team'].value_counts()"
   ]
  },
  {
   "cell_type": "code",
   "execution_count": null,
   "metadata": {},
   "outputs": [],
   "source": [
    "plt.figure(figsize=(20,10))\n",
    "plot_tree(model, feature_names=['team','opponent'], class_names=['Lose','Win'], filled=True)\n",
    "plt.show()"
   ]
  },
  {
   "cell_type": "code",
   "execution_count": null,
   "metadata": {},
   "outputs": [],
   "source": [
    "model.decision_path(team_class_dat[team_class_dat.year_e == year][['team']])"
   ]
  },
  {
   "cell_type": "code",
   "execution_count": null,
   "metadata": {},
   "outputs": [],
   "source": [
    "pd.Series(y_pred_proba.max(axis=1)).value_counts()"
   ]
  },
  {
   "cell_type": "code",
   "execution_count": null,
   "metadata": {},
   "outputs": [],
   "source": [
    "filter = 'games_position.isin([\"M\",\"D\"]) '\n",
    "target = 'team_goals_scored'\n",
    "\n",
    "col_subset = [['win','games_rating','shots_total','shots_on','goals_total','goals_saves','duels_won']]\n",
    "\n",
    "cor_dat = fixture_dat.query(filter).corr(numeric_only=True)[[target]]\n",
    "cor_dat.drop(target,inplace = True)\n",
    "\n",
    "sorted_cols = cor_dat.sort_values(target,ascending = False).index.to_list()\n",
    "\n",
    "fig, ax = plt.subplots(1,1,figsize = (15,10))\n",
    "sns.heatmap(cor_dat.loc[sorted_cols],cmap = 'coolwarm',ax=ax)\n",
    "ax.set_xticklabels(ax.get_xticklabels(),rotation =75)\n",
    "fig.show()"
   ]
  },
  {
   "cell_type": "code",
   "execution_count": null,
   "metadata": {},
   "outputs": [],
   "source": [
    "find_player(complete_data,player_name=\"Leoni\")"
   ]
  },
  {
   "cell_type": "code",
   "execution_count": null,
   "metadata": {},
   "outputs": [],
   "source": [
    "all_defenders_2025 = complete_data[(complete_data.major_position == 'D') & (complete_data.year_e == 2025)]['player_name'].unique()\n",
    "all_defenders_2025"
   ]
  },
  {
   "cell_type": "code",
   "execution_count": null,
   "metadata": {},
   "outputs": [],
   "source": [
    "defenders_compare = compare_players(complete_data,all_defenders_2025,years = [2025],transpose = False)"
   ]
  },
  {
   "cell_type": "code",
   "execution_count": null,
   "metadata": {},
   "outputs": [],
   "source": [
    "per_90_cols = [col for col in defenders_compare.columns if \"per_90\" in col]\n",
    "attack_per_90_cols  = ['total_shots_per_90','shots_on_target_per_90','goals_scored_per_90','assists_per_90',\n",
    "                       'fouls_drawn_per_90','attempted_dribbles_per_90','successful_dribbles_per_90',\n",
    "                       'dribble_success_rate_per_90','duels_contested_per_90','duels_won_per_90','duels_won_percentage_per_90']\n",
    "defense_per_90_cols = ['yellow_cards_per_90','red_cards_per_90','fouls_drawn_per_90','fouls_committed_per_90',\n",
    "                       'dribbled_past_per_90', 'total_tackles_per_90','blocks_per_90','interceptions_per_90', \n",
    "                       'duels_contested_per_90','duels_won_per_90','duels_won_percentage_per_90','penalties_committed_per_90']\n",
    "pass_per_90_cols = [ 'total_passes_per_90','key_passes_per_90', 'average_passes_accurate_per_90','average_pass_accuracy_per_90']"
   ]
  },
  {
   "cell_type": "code",
   "execution_count": null,
   "metadata": {},
   "outputs": [],
   "source": [
    "defenders_compare.head()"
   ]
  },
  {
   "cell_type": "code",
   "execution_count": null,
   "metadata": {},
   "outputs": [],
   "source": [
    "# Calculate Clusters:\n",
    "filter = 'total_minutes_played  > 1000'\n",
    "defense_cluster = 'defense_cluster'\n",
    "pass_cluster = 'pass_cluster'\n",
    "defenders_compare_w_cluster = fit_kmeans(defenders_compare.query(filter),defense_per_90_cols,None,cluster_name)\n",
    "defenders_compare_w_cluster = fit_kmeans(defenders_compare_w_cluster.query(filter),pass_per_90_cols,None,pass_cluster)"
   ]
  },
  {
   "cell_type": "code",
   "execution_count": null,
   "metadata": {},
   "outputs": [],
   "source": [
    "find_player(complete_data,player_name=\"Virgil van\")"
   ]
  },
  {
   "cell_type": "code",
   "execution_count": null,
   "metadata": {},
   "outputs": [],
   "source": [
    "defenders_compare_w_cluster[defenders_compare_w_cluster.player_name.str.contains(\"William Saliba\")]"
   ]
  },
  {
   "cell_type": "code",
   "execution_count": null,
   "metadata": {},
   "outputs": [],
   "source": [
    "defense_cluster"
   ]
  },
  {
   "cell_type": "code",
   "execution_count": null,
   "metadata": {},
   "outputs": [],
   "source": [
    "clusters = defenders_compare_w_cluster[defenders_compare_w_cluster.player_name.str.contains('William Saliba')][[defense_cluster,pass_cluster]].values\n",
    "clusters\n",
    "#defenders_compare_w_cluster[defenders_compare_w_cluster[cluster_name].isin(defenders_compare_w_cluster[condition][cluster_name])].sort_values(\"average_rating\",ascending = False)"
   ]
  },
  {
   "cell_type": "code",
   "execution_count": null,
   "metadata": {},
   "outputs": [],
   "source": [
    "folder_manager.llm_code_path"
   ]
  },
  {
   "cell_type": "code",
   "execution_count": null,
   "metadata": {},
   "outputs": [],
   "source": [
    "question = \"How are you doing?\"\n",
    "question_no_spec = re.sub(r\"[?.,;:]\",\"\",question)\n",
    "split_words = [word for word in question_no_spec.split(\" \")]\n",
    "split_words"
   ]
  },
  {
   "cell_type": "code",
   "execution_count": null,
   "metadata": {},
   "outputs": [],
   "source": [
    "complete_data.columns"
   ]
  },
  {
   "cell_type": "code",
   "execution_count": null,
   "metadata": {},
   "outputs": [],
   "source": [
    "defenders_compare_w_cluster[(defenders_compare_w_cluster.player_name.isin([\"Mike Eerdhuijzen\",\"Giovanni Leoni\",\"Nikola Milenković\",\"Marc Guéhi\",\"Ladislav Krejčí\"]))][['player_name'] + [col for col in defenders_compare.columns if \"per_90\" in col]].T"
   ]
  },
  {
   "cell_type": "code",
   "execution_count": null,
   "metadata": {},
   "outputs": [],
   "source": [
    "schema = {\n",
    "        \"columns\": list(complete_data.columns),\n",
    "        \"nrows\": [complete_data.shape[0]],\n",
    "        \"dtypes\": {col : str(complete_data[col].dtype) for col in complete_data.columns}\n",
    "    }\n"
   ]
  },
  {
   "cell_type": "code",
   "execution_count": null,
   "metadata": {},
   "outputs": [],
   "source": [
    "complete_data.columns"
   ]
  },
  {
   "cell_type": "code",
   "execution_count": null,
   "metadata": {},
   "outputs": [],
   "source": [
    "plot_from_llm(complete_data[complete_data.player_name == 'Olivier Boscagli'],\"Plot Average games_rating with error cloud by month_e faceted by team\")"
   ]
  },
  {
   "cell_type": "code",
   "execution_count": null,
   "metadata": {},
   "outputs": [],
   "source": [
    "plot_continuous_trend(complete_data[complete_data.player_name == 'Emmanuel Agbadou'],\"month_e\",\"games_rating\")"
   ]
  },
  {
   "cell_type": "code",
   "execution_count": null,
   "metadata": {},
   "outputs": [],
   "source": [
    "filter_query = 'major_position.isin([\"M\"])'\n",
    "\n",
    "\n",
    "# Stat to look at:\n",
    "stat = 'target_shot_conversion_perc'\n",
    "agg_fun = \"mean\"\n",
    "rank_cutoff = 20\n",
    "\n",
    "# configs \n",
    "min_appearance = 40\n",
    "\n",
    "dribble_dat_g = complete_data.query(filter_query).reset_index().fillna(0).groupby(\"player_name\").agg(n_apps = (\"player_name\",\"size\"),stat = (stat,agg_fun)).reset_index()\n",
    "dribble_dat_g = dribble_dat_g[dribble_dat_g.n_apps >= min_appearance]\n",
    "dribble_dat_g['rank'] = dribble_dat_g[\"stat\"].fillna(0).rank(ascending= False,method = 'dense')\n",
    "dribble_dat_g.sort_values(\"rank\",inplace = True)\n",
    "\n",
    "fig, ax = plt.subplots(figsize=(13, 8))\n",
    "\n",
    "# Plot correctly, no comma here\n",
    "sns.boxplot(\n",
    "    data=complete_data.query(filter_query)[complete_data.query(filter_query).player_name.isin(dribble_dat_g[dribble_dat_g['rank'] < rank_cutoff]['player_name'])],\n",
    "    x=\"player_name\",\n",
    "    y=stat,\n",
    "    order=dribble_dat_g[dribble_dat_g['rank'] < rank_cutoff]['player_name'],\n",
    "    ax=ax,\n",
    "    \n",
    ")\n",
    "\n",
    "# Now this works correctly on `ax`\n",
    "ax.set_xticklabels(ax.get_xticklabels(), rotation=45, ha='right')\n",
    "ax.set_title(f\"Stat: {stat}\")\n",
    "plt.tight_layout()\n",
    "plt.show()\n"
   ]
  },
  {
   "cell_type": "code",
   "execution_count": null,
   "metadata": {},
   "outputs": [],
   "source": [
    "fig = plt.subplots(nrows=1, ncols = 1, figsize = (20,10))\n",
    "fig = sns.heatmap(complete_data.query(filter_query)[config['PASSING_COLS']  + ['team_goals_scored','team_non_penalty_goals_scored','team_goals_conceded']].corr(),cmap = 'coolwarm')\n",
    "fig.set_xticklabels(fig.get_xticklabels(),rotation = 60)"
   ]
  },
  {
   "cell_type": "code",
   "execution_count": null,
   "metadata": {},
   "outputs": [],
   "source": [
    "sns.pairplot(complete_data.query(filter_query)[config['PASSING_COLS']  + ['team_goals_scored','team_non_penalty_goals_scored','team_goals_conceded']])"
   ]
  },
  {
   "cell_type": "code",
   "execution_count": null,
   "metadata": {},
   "outputs": [],
   "source": [
    "complete_data.columns"
   ]
  },
  {
   "cell_type": "code",
   "execution_count": null,
   "metadata": {},
   "outputs": [],
   "source": [
    "config['PASSING_COLS'] + config['DEFENSE_COLS']"
   ]
  },
  {
   "cell_type": "code",
   "execution_count": null,
   "metadata": {},
   "outputs": [],
   "source": [
    "# trial multiclass model:\n",
    "from sklearn.model_selection import train_test_split\n",
    "\n",
    "X_train, X_test, y_train, y_test = train_test_split(complete_data.query(filter_query)[list(set(config['PASSING_COLS'] + config['DEFENSE_COLS'] ))],\n",
    "                                                    complete_data.query(filter_query)['win'],\n",
    "                                                    stratify=complete_data.query(filter_query)['win'],\n",
    "                                                    random_state=33)\n"
   ]
  },
  {
   "cell_type": "code",
   "execution_count": null,
   "metadata": {},
   "outputs": [],
   "source": [
    "create_submodel(\"catboost\")"
   ]
  },
  {
   "cell_type": "code",
   "execution_count": null,
   "metadata": {},
   "outputs": [],
   "source": [
    "output_path"
   ]
  },
  {
   "cell_type": "code",
   "execution_count": null,
   "metadata": {},
   "outputs": [],
   "source": [
    "model = run_model_with_fs_tune(X_train, X_test, y_train, y_test,dat_dict,'catboost',output_path=folder_manager.output_path)"
   ]
  },
  {
   "cell_type": "code",
   "execution_count": null,
   "metadata": {},
   "outputs": [],
   "source": [
    "dat = NNDataFromPd(X_train.fillna(0), y_train.outcome_num, dat_dict)\n",
    "train_loader = DataLoader(dat, batch_size = 128,shuffle= True)"
   ]
  },
  {
   "cell_type": "code",
   "execution_count": null,
   "metadata": {},
   "outputs": [],
   "source": [
    "train_loader.dataset.X_numeric_tensor.shape"
   ]
  },
  {
   "cell_type": "code",
   "execution_count": null,
   "metadata": {},
   "outputs": [],
   "source": [
    "# model params\n",
    "n_features = X_train.shape[1]\n",
    "n_classes = y_train.iloc[:,0].nunique()\n",
    "model = MultiClassModel(n_features,n_classes)\n",
    "\n",
    "criterion = nn.CrossEntropyLoss()\n",
    "optimizer = optim.Adam(model.parameters(),lr = 0.001)"
   ]
  },
  {
   "cell_type": "code",
   "execution_count": null,
   "metadata": {},
   "outputs": [],
   "source": [
    "epochs = 500\n",
    "\n",
    "for epoch in range(epochs):\n",
    "    \n",
    "    epoch_loss = 0\n",
    "\n",
    "    for X_numeric_batch, X_categoric_batch, y_batch in train_loader:\n",
    "        \n",
    "        pred = model.forward(X_numeric_batch)\n",
    "        \n",
    "        loss = criterion(pred,y_batch)\n",
    "\n",
    "        optimizer.zero_grad()\n",
    "\n",
    "        loss.backward()\n",
    "\n",
    "        optimizer.step()\n",
    "\n",
    "        epoch_loss += loss.item()\n",
    "\n",
    "    print(f\"Epoch: {epoch}, Loss: {epoch_loss}\")"
   ]
  },
  {
   "cell_type": "code",
   "execution_count": null,
   "metadata": {},
   "outputs": [],
   "source": [
    "model.eval()"
   ]
  },
  {
   "cell_type": "code",
   "execution_count": null,
   "metadata": {},
   "outputs": [],
   "source": [
    "X_test['passes_accuracy'] = X_test['passes_accuracy'].astype(\"float64\")"
   ]
  },
  {
   "cell_type": "code",
   "execution_count": null,
   "metadata": {},
   "outputs": [],
   "source": [
    "# test sets\n",
    "\n",
    "test_dat = NNDataFromPd(X_test,y_test,dat_dict)\n",
    "test_loader = DataLoader(test_dat,batch_size= X_test.shape[0],shuffle=True)"
   ]
  },
  {
   "cell_type": "code",
   "execution_count": null,
   "metadata": {},
   "outputs": [],
   "source": [
    "model.eval()\n",
    "with torch.no_grad():\n",
    "    for X_numeric_batch, X_categoric_batch, y_batch in test_loader:\n",
    "        output = model(X_numeric_batch)\n",
    "        pred_class = torch.argmax(output, dim = 1)"
   ]
  },
  {
   "cell_type": "code",
   "execution_count": null,
   "metadata": {},
   "outputs": [],
   "source": [
    "# Logistic Model:\n",
    "X_train, X_test, y_train, y_test = train_test_split(complete_data[complete_data.games_position == 'F'][list(set(config['DEFENSE_COLS'] + config['PASSING_COLS'] + config['ATTACK_COLS'])) + ['win']].drop(columns = 'win'),\n",
    "                                                    complete_data[complete_data.games_position == 'F']['win'],\n",
    "                                                    stratify=complete_data['win'],\n",
    "                                                    random_state=33)"
   ]
  },
  {
   "cell_type": "code",
   "execution_count": null,
   "metadata": {},
   "outputs": [],
   "source": []
  },
  {
   "cell_type": "code",
   "execution_count": null,
   "metadata": {},
   "outputs": [],
   "source": [
    "train_dat = NNDataFromPd(X_train,y_train,dat_dict)\n",
    "train_loader = DataLoader(train_dat,batch_size= 128,shuffle = True)"
   ]
  },
  {
   "cell_type": "code",
   "execution_count": null,
   "metadata": {},
   "outputs": [],
   "source": [
    "n_features = X_train.shape[1]\n",
    "model = LogisticNNModelComplex(n_features)\n",
    "\n",
    "criterion = nn.BCEWithLogitsLoss()\n",
    "optimizer = optim.Adam(model.parameters(),lr = 0.005)"
   ]
  },
  {
   "cell_type": "code",
   "execution_count": null,
   "metadata": {},
   "outputs": [],
   "source": [
    "epochs = 500\n",
    "for epoch in range(epochs):\n",
    "    epoch_loss = 0\n",
    "    \n",
    "    for X_numeric, X_categoric, y in train_loader:\n",
    "\n",
    "        pred = model(X_numeric)\n",
    "\n",
    "        loss = criterion(pred,y.unsqueeze(1))\n",
    "\n",
    "        optimizer.zero_grad()\n",
    "\n",
    "        loss.backward()\n",
    "        optimizer.step()\n",
    "\n",
    "    print(f\"Epoch {epoch},  Loss: {loss}\")\n"
   ]
  },
  {
   "cell_type": "code",
   "execution_count": null,
   "metadata": {},
   "outputs": [],
   "source": [
    "pred_proba.squeeze(1)"
   ]
  },
  {
   "cell_type": "code",
   "execution_count": null,
   "metadata": {},
   "outputs": [],
   "source": [
    "from validations import *\n",
    "\n",
    "\n",
    "test_dat = NNDataFromPd(X_test,y_test,dat_dict)\n",
    "test_loader = DataLoader(test_dat,batch_size= X_test.shape[0],shuffle=True)\n",
    "\n",
    "model.eval()\n",
    "with torch.no_grad():\n",
    "    for X_numeric_batch, X_categoric_batch, y_batch in test_loader:\n",
    "        output = model(X_numeric_batch)\n",
    "        pred_proba = torch.softmax(output,dim =1)\n",
    "        pred_class = torch.argmax(output, dim = 1)\n",
    "\n",
    "\n",
    "discrete_evaluations(y_test,pred_class,pred_proba.squeeze(1),classification_type=\"Binary\",model_path= folder_manager.output_path)"
   ]
  },
  {
   "cell_type": "code",
   "execution_count": null,
   "metadata": {},
   "outputs": [],
   "source": [
    "test_fixtures = get_team_fixtures(\"Liverpool\",2)"
   ]
  },
  {
   "cell_type": "code",
   "execution_count": null,
   "metadata": {},
   "outputs": [],
   "source": [
    "test_fixtures"
   ]
  },
  {
   "cell_type": "code",
   "execution_count": null,
   "metadata": {},
   "outputs": [],
   "source": [
    "player_stat_url = \"https://v3.football.api-sports.io/fixtures/players?fixture={}\".format(1035045)\n",
    "fixture_dat = requests.get(player_stat_url,headers=headers_api_sport)"
   ]
  },
  {
   "cell_type": "code",
   "execution_count": null,
   "metadata": {},
   "outputs": [],
   "source": [
    "pd.json_normalize(pd.json_normalize(fixture_dat.json()['response']))['players'][0]"
   ]
  },
  {
   "cell_type": "code",
   "execution_count": null,
   "metadata": {},
   "outputs": [],
   "source": [
    "fixture_dat_expanded = pd.concat([pd.json_normalize(pd.json_normalize(fixture_dat.json()['response'])['players'][0])[['player.id','player.name']],pd.json_normalize(pd.json_normalize(pd.json_normalize(pd.json_normalize(fixture_dat.json()['response'])['players'][0])['statistics']).rename(columns = {0:\"player_stats\"})['player_stats'])],axis = 1)"
   ]
  },
  {
   "cell_type": "code",
   "execution_count": null,
   "metadata": {},
   "outputs": [],
   "source": [
    "fixtures_stat = complete_data.groupby(['fixture_id','team'],as_index=False).agg(n_opponent = ('opponent','count'),total_passes = ('passes_total','sum')).sort_values('fixture_id',ascending= False)"
   ]
  },
  {
   "cell_type": "code",
   "execution_count": null,
   "metadata": {},
   "outputs": [],
   "source": [
    "fixtures_stat"
   ]
  },
  {
   "cell_type": "code",
   "execution_count": null,
   "metadata": {},
   "outputs": [],
   "source": [
    "complete_data[complete_data.fixture_id == 1376437][['team','opponent']]"
   ]
  },
  {
   "cell_type": "code",
   "execution_count": null,
   "metadata": {},
   "outputs": [],
   "source": [
    "teams_dat[teams_dat.team_name.str.contains(\"Tels\")]"
   ]
  },
  {
   "cell_type": "code",
   "execution_count": null,
   "metadata": {},
   "outputs": [],
   "source": [
    "angers = pd.read_parquet(home_dir + \"/data/Fixtures/angers_2024.parquet\")"
   ]
  },
  {
   "cell_type": "code",
   "execution_count": null,
   "metadata": {},
   "outputs": [],
   "source": [
    "angers['fixture_date'] = pd.to_datetime(angers['fixture_date'])"
   ]
  },
  {
   "cell_type": "code",
   "execution_count": null,
   "metadata": {},
   "outputs": [],
   "source": [
    "angers['fixture_date']"
   ]
  },
  {
   "cell_type": "code",
   "execution_count": null,
   "metadata": {},
   "outputs": [],
   "source": []
  }
 ],
 "metadata": {
  "kernelspec": {
   "display_name": "dlcpu",
   "language": "python",
   "name": "python3"
  },
  "language_info": {
   "codemirror_mode": {
    "name": "ipython",
    "version": 3
   },
   "file_extension": ".py",
   "mimetype": "text/x-python",
   "name": "python",
   "nbconvert_exporter": "python",
   "pygments_lexer": "ipython3",
   "version": "3.10.18"
  }
 },
 "nbformat": 4,
 "nbformat_minor": 2
}
