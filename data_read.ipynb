{
 "cells": [
  {
   "cell_type": "code",
   "execution_count": 59,
   "metadata": {},
   "outputs": [
    {
     "name": "stdout",
     "output_type": "stream",
     "text": [
      "/Volumes/Backup/OverperformxG/OverperformXG\n"
     ]
    }
   ],
   "source": [
    "import pandas as pd\n",
    "import numpy as np\n",
    "import sys\n",
    "import time\n",
    "import polars as pl\n",
    "import requests\n",
    "import os\n",
    "\n",
    "pd.set_option(\"display.max_column\",None)\n",
    "print(os.getcwd())"
   ]
  },
  {
   "cell_type": "code",
   "execution_count": 2,
   "metadata": {},
   "outputs": [],
   "source": [
    "# API Key and Configs\n",
    "\n",
    "headers_rapid_api = {\n",
    "\t\"X-RapidAPI-Key\": \"64f82034damsh6dd2baeda9216d1p173668jsnddc6687707f5\",\n",
    "\t\"X-RapidAPI-Host\": \"api-football-v1.p.rapidapi.com\"\n",
    "}\n",
    "headers_api_sport = {\n",
    "\t\"x-apisports-key\": \"0a078f979ea1996d42df390199afe0cf\",\n",
    "\t\"X-apisports-Host\": \"https://v3.football.api-sports.io/\"\n",
    "}\n"
   ]
  },
  {
   "cell_type": "code",
   "execution_count": 62,
   "metadata": {},
   "outputs": [],
   "source": [
    "# Configs\n",
    "teams = [\"Liverpool\",\"Wolves\"] # teams to pull players data of\n",
    "seasons = [\"2022\",\"2021\",\"2023\"] # seasons to pull players and teams stats of\n",
    "league_dict = dict({\"Premier_League\":39}) # league ID to pull from, current values: {39:premier league}, Add to dictionary as needed"
   ]
  },
  {
   "cell_type": "code",
   "execution_count": 63,
   "metadata": {},
   "outputs": [
    {
     "name": "stdout",
     "output_type": "stream",
     "text": [
      "for league and season 39 _ 2022\n",
      "for league and season 39 _ 2021\n",
      "for league and season 39 _ 2023\n"
     ]
    }
   ],
   "source": [
    "# Fixtures for Events Data\n",
    "## Main Entry point to get match summary and drill down with fixture ids\n",
    "fixtures_dat = dict()\n",
    "for league_name,league in league_dict.items():\n",
    "    for season in seasons:\n",
    "        print(\"for league and season\",league,\"_\",season)\n",
    "        url = \"https://v3.football.api-sports.io/fixtures?league={}&season={}\".format(league,season)\n",
    "        fixtures_response = requests.get(url,headers=headers_api_sport)\n",
    "        fixtures_dat[league_name + \"_\" + season ] = pd.json_normalize(fixtures_response.json()['response'])\n",
    "        fixtures_dat[league_name + \"_\" + season ].to_parquet(\"./data/\" + league_name + \"_\" + season + \".parquet\")\n",
    "        "
   ]
  },
  {
   "cell_type": "code",
   "execution_count": 30,
   "metadata": {},
   "outputs": [
    {
     "data": {
      "text/html": [
       "<div>\n",
       "<style scoped>\n",
       "    .dataframe tbody tr th:only-of-type {\n",
       "        vertical-align: middle;\n",
       "    }\n",
       "\n",
       "    .dataframe tbody tr th {\n",
       "        vertical-align: top;\n",
       "    }\n",
       "\n",
       "    .dataframe thead th {\n",
       "        text-align: right;\n",
       "    }\n",
       "</style>\n",
       "<table border=\"1\" class=\"dataframe\">\n",
       "  <thead>\n",
       "    <tr style=\"text-align: right;\">\n",
       "      <th></th>\n",
       "      <th>teams.home.name</th>\n",
       "      <th>teams.home.id</th>\n",
       "    </tr>\n",
       "  </thead>\n",
       "  <tbody>\n",
       "    <tr>\n",
       "      <th>0</th>\n",
       "      <td>Crystal Palace</td>\n",
       "      <td>52</td>\n",
       "    </tr>\n",
       "    <tr>\n",
       "      <th>1</th>\n",
       "      <td>Fulham</td>\n",
       "      <td>36</td>\n",
       "    </tr>\n",
       "    <tr>\n",
       "      <th>2</th>\n",
       "      <td>Bournemouth</td>\n",
       "      <td>35</td>\n",
       "    </tr>\n",
       "    <tr>\n",
       "      <th>3</th>\n",
       "      <td>Leeds</td>\n",
       "      <td>63</td>\n",
       "    </tr>\n",
       "    <tr>\n",
       "      <th>4</th>\n",
       "      <td>Leicester</td>\n",
       "      <td>46</td>\n",
       "    </tr>\n",
       "    <tr>\n",
       "      <th>...</th>\n",
       "      <td>...</td>\n",
       "      <td>...</td>\n",
       "    </tr>\n",
       "    <tr>\n",
       "      <th>375</th>\n",
       "      <td>Everton</td>\n",
       "      <td>45</td>\n",
       "    </tr>\n",
       "    <tr>\n",
       "      <th>376</th>\n",
       "      <td>Leeds</td>\n",
       "      <td>63</td>\n",
       "    </tr>\n",
       "    <tr>\n",
       "      <th>377</th>\n",
       "      <td>Leicester</td>\n",
       "      <td>46</td>\n",
       "    </tr>\n",
       "    <tr>\n",
       "      <th>378</th>\n",
       "      <td>Manchester United</td>\n",
       "      <td>33</td>\n",
       "    </tr>\n",
       "    <tr>\n",
       "      <th>379</th>\n",
       "      <td>Southampton</td>\n",
       "      <td>41</td>\n",
       "    </tr>\n",
       "  </tbody>\n",
       "</table>\n",
       "<p>380 rows × 2 columns</p>\n",
       "</div>"
      ],
      "text/plain": [
       "       teams.home.name  teams.home.id\n",
       "0       Crystal Palace             52\n",
       "1               Fulham             36\n",
       "2          Bournemouth             35\n",
       "3                Leeds             63\n",
       "4            Leicester             46\n",
       "..                 ...            ...\n",
       "375            Everton             45\n",
       "376              Leeds             63\n",
       "377          Leicester             46\n",
       "378  Manchester United             33\n",
       "379        Southampton             41\n",
       "\n",
       "[380 rows x 2 columns]"
      ]
     },
     "execution_count": 30,
     "metadata": {},
     "output_type": "execute_result"
    }
   ],
   "source": [
    "# All teams\n",
    "team_id_map = fixtures_dat['Premier_League_2022'][['teams.home.name','teams.home.id']]\n",
    "team_id_map"
   ]
  },
  {
   "cell_type": "code",
   "execution_count": 31,
   "metadata": {},
   "outputs": [],
   "source": [
    "# Polars tests\n",
    "fixtures_pl = pl.DataFrame(fixtures_dat['Premier_League_2022'])"
   ]
  },
  {
   "cell_type": "code",
   "execution_count": 60,
   "metadata": {},
   "outputs": [],
   "source": [
    "# Save fixtures data to disk\n",
    "\n",
    "fixtures_pl.write_parquet(\"./data/\"+league+\".parquet\")"
   ]
  },
  {
   "cell_type": "code",
   "execution_count": 32,
   "metadata": {},
   "outputs": [
    {
     "data": {
      "text/html": [
       "<div><style>\n",
       ".dataframe > thead > tr,\n",
       ".dataframe > tbody > tr {\n",
       "  text-align: right;\n",
       "  white-space: pre-wrap;\n",
       "}\n",
       "</style>\n",
       "<small>shape: (380, 38)</small><table border=\"1\" class=\"dataframe\"><thead><tr><th>fixture.id</th><th>fixture.referee</th><th>fixture.timezone</th><th>fixture.date</th><th>fixture.timestamp</th><th>fixture.periods.first</th><th>fixture.periods.second</th><th>fixture.venue.id</th><th>fixture.venue.name</th><th>fixture.venue.city</th><th>fixture.status.long</th><th>fixture.status.short</th><th>fixture.status.elapsed</th><th>league.id</th><th>league.name</th><th>league.country</th><th>league.logo</th><th>league.flag</th><th>league.season</th><th>league.round</th><th>teams.home.id</th><th>teams.home.name</th><th>teams.home.logo</th><th>teams.home.winner</th><th>teams.away.id</th><th>teams.away.name</th><th>teams.away.logo</th><th>teams.away.winner</th><th>goals.home</th><th>goals.away</th><th>score.halftime.home</th><th>score.halftime.away</th><th>score.fulltime.home</th><th>score.fulltime.away</th><th>score.extratime.home</th><th>score.extratime.away</th><th>score.penalty.home</th><th>score.penalty.away</th></tr><tr><td>i64</td><td>str</td><td>str</td><td>str</td><td>i64</td><td>i64</td><td>i64</td><td>i64</td><td>str</td><td>str</td><td>str</td><td>str</td><td>i64</td><td>i64</td><td>str</td><td>str</td><td>str</td><td>str</td><td>i64</td><td>str</td><td>i64</td><td>str</td><td>str</td><td>bool</td><td>i64</td><td>str</td><td>str</td><td>bool</td><td>i64</td><td>i64</td><td>i64</td><td>i64</td><td>i64</td><td>i64</td><td>str</td><td>str</td><td>str</td><td>str</td></tr></thead><tbody><tr><td>867946</td><td>&quot;A. Taylor&quot;</td><td>&quot;UTC&quot;</td><td>&quot;2022-08-05T19:00:00+00:00&quot;</td><td>1659726000</td><td>1659726000</td><td>1659729600</td><td>525</td><td>&quot;Selhurst Park&quot;</td><td>&quot;London&quot;</td><td>&quot;Match Finished&quot;</td><td>&quot;FT&quot;</td><td>90</td><td>39</td><td>&quot;Premier League&quot;</td><td>&quot;England&quot;</td><td>&quot;https://media.api-sports.io/fo…</td><td>&quot;https://media.api-sports.io/fl…</td><td>2022</td><td>&quot;Regular Season - 1&quot;</td><td>52</td><td>&quot;Crystal Palace&quot;</td><td>&quot;https://media.api-sports.io/fo…</td><td>false</td><td>42</td><td>&quot;Arsenal&quot;</td><td>&quot;https://media.api-sports.io/fo…</td><td>true</td><td>0</td><td>2</td><td>0</td><td>1</td><td>0</td><td>2</td><td>null</td><td>null</td><td>null</td><td>null</td></tr><tr><td>867947</td><td>&quot;A. Madley&quot;</td><td>&quot;UTC&quot;</td><td>&quot;2022-08-06T11:30:00+00:00&quot;</td><td>1659785400</td><td>1659785400</td><td>1659789000</td><td>535</td><td>&quot;Craven Cottage&quot;</td><td>&quot;London&quot;</td><td>&quot;Match Finished&quot;</td><td>&quot;FT&quot;</td><td>90</td><td>39</td><td>&quot;Premier League&quot;</td><td>&quot;England&quot;</td><td>&quot;https://media.api-sports.io/fo…</td><td>&quot;https://media.api-sports.io/fl…</td><td>2022</td><td>&quot;Regular Season - 1&quot;</td><td>36</td><td>&quot;Fulham&quot;</td><td>&quot;https://media.api-sports.io/fo…</td><td>null</td><td>40</td><td>&quot;Liverpool&quot;</td><td>&quot;https://media.api-sports.io/fo…</td><td>null</td><td>2</td><td>2</td><td>1</td><td>0</td><td>2</td><td>2</td><td>null</td><td>null</td><td>null</td><td>null</td></tr><tr><td>867948</td><td>&quot;P. Bankes&quot;</td><td>&quot;UTC&quot;</td><td>&quot;2022-08-06T14:00:00+00:00&quot;</td><td>1659794400</td><td>1659794400</td><td>1659798000</td><td>504</td><td>&quot;Vitality Stadium&quot;</td><td>&quot;Bournemouth, Dorset&quot;</td><td>&quot;Match Finished&quot;</td><td>&quot;FT&quot;</td><td>90</td><td>39</td><td>&quot;Premier League&quot;</td><td>&quot;England&quot;</td><td>&quot;https://media.api-sports.io/fo…</td><td>&quot;https://media.api-sports.io/fl…</td><td>2022</td><td>&quot;Regular Season - 1&quot;</td><td>35</td><td>&quot;Bournemouth&quot;</td><td>&quot;https://media.api-sports.io/fo…</td><td>true</td><td>66</td><td>&quot;Aston Villa&quot;</td><td>&quot;https://media.api-sports.io/fo…</td><td>false</td><td>2</td><td>0</td><td>1</td><td>0</td><td>2</td><td>0</td><td>null</td><td>null</td><td>null</td><td>null</td></tr><tr><td>867949</td><td>&quot;R. Jones&quot;</td><td>&quot;UTC&quot;</td><td>&quot;2022-08-06T14:00:00+00:00&quot;</td><td>1659794400</td><td>1659794400</td><td>1659798000</td><td>546</td><td>&quot;Elland Road&quot;</td><td>&quot;Leeds, West Yorkshire&quot;</td><td>&quot;Match Finished&quot;</td><td>&quot;FT&quot;</td><td>90</td><td>39</td><td>&quot;Premier League&quot;</td><td>&quot;England&quot;</td><td>&quot;https://media.api-sports.io/fo…</td><td>&quot;https://media.api-sports.io/fl…</td><td>2022</td><td>&quot;Regular Season - 1&quot;</td><td>63</td><td>&quot;Leeds&quot;</td><td>&quot;https://media.api-sports.io/fo…</td><td>true</td><td>39</td><td>&quot;Wolves&quot;</td><td>&quot;https://media.api-sports.io/fo…</td><td>false</td><td>2</td><td>1</td><td>1</td><td>1</td><td>2</td><td>1</td><td>null</td><td>null</td><td>null</td><td>null</td></tr><tr><td>867950</td><td>&quot;J. Gillett&quot;</td><td>&quot;UTC&quot;</td><td>&quot;2022-08-07T13:00:00+00:00&quot;</td><td>1659877200</td><td>1659877200</td><td>1659880800</td><td>547</td><td>&quot;King Power Stadium&quot;</td><td>&quot;Leicester, Leicestershire&quot;</td><td>&quot;Match Finished&quot;</td><td>&quot;FT&quot;</td><td>90</td><td>39</td><td>&quot;Premier League&quot;</td><td>&quot;England&quot;</td><td>&quot;https://media.api-sports.io/fo…</td><td>&quot;https://media.api-sports.io/fl…</td><td>2022</td><td>&quot;Regular Season - 1&quot;</td><td>46</td><td>&quot;Leicester&quot;</td><td>&quot;https://media.api-sports.io/fo…</td><td>null</td><td>55</td><td>&quot;Brentford&quot;</td><td>&quot;https://media.api-sports.io/fo…</td><td>null</td><td>2</td><td>2</td><td>1</td><td>0</td><td>2</td><td>2</td><td>null</td><td>null</td><td>null</td><td>null</td></tr><tr><td>&hellip;</td><td>&hellip;</td><td>&hellip;</td><td>&hellip;</td><td>&hellip;</td><td>&hellip;</td><td>&hellip;</td><td>&hellip;</td><td>&hellip;</td><td>&hellip;</td><td>&hellip;</td><td>&hellip;</td><td>&hellip;</td><td>&hellip;</td><td>&hellip;</td><td>&hellip;</td><td>&hellip;</td><td>&hellip;</td><td>&hellip;</td><td>&hellip;</td><td>&hellip;</td><td>&hellip;</td><td>&hellip;</td><td>&hellip;</td><td>&hellip;</td><td>&hellip;</td><td>&hellip;</td><td>&hellip;</td><td>&hellip;</td><td>&hellip;</td><td>&hellip;</td><td>&hellip;</td><td>&hellip;</td><td>&hellip;</td><td>&hellip;</td><td>&hellip;</td><td>&hellip;</td><td>&hellip;</td></tr><tr><td>868321</td><td>&quot;S. Attwell&quot;</td><td>&quot;UTC&quot;</td><td>&quot;2023-05-28T15:30:00+00:00&quot;</td><td>1685287800</td><td>1685287800</td><td>1685291400</td><td>8560</td><td>&quot;Goodison Park&quot;</td><td>&quot;Liverpool&quot;</td><td>&quot;Match Finished&quot;</td><td>&quot;FT&quot;</td><td>90</td><td>39</td><td>&quot;Premier League&quot;</td><td>&quot;England&quot;</td><td>&quot;https://media.api-sports.io/fo…</td><td>&quot;https://media.api-sports.io/fl…</td><td>2022</td><td>&quot;Regular Season - 38&quot;</td><td>45</td><td>&quot;Everton&quot;</td><td>&quot;https://media.api-sports.io/fo…</td><td>true</td><td>35</td><td>&quot;Bournemouth&quot;</td><td>&quot;https://media.api-sports.io/fo…</td><td>false</td><td>1</td><td>0</td><td>0</td><td>0</td><td>1</td><td>0</td><td>null</td><td>null</td><td>null</td><td>null</td></tr><tr><td>868322</td><td>&quot;A. Taylor&quot;</td><td>&quot;UTC&quot;</td><td>&quot;2023-05-28T15:30:00+00:00&quot;</td><td>1685287800</td><td>1685287800</td><td>1685291400</td><td>546</td><td>&quot;Elland Road&quot;</td><td>&quot;Leeds, West Yorkshire&quot;</td><td>&quot;Match Finished&quot;</td><td>&quot;FT&quot;</td><td>90</td><td>39</td><td>&quot;Premier League&quot;</td><td>&quot;England&quot;</td><td>&quot;https://media.api-sports.io/fo…</td><td>&quot;https://media.api-sports.io/fl…</td><td>2022</td><td>&quot;Regular Season - 38&quot;</td><td>63</td><td>&quot;Leeds&quot;</td><td>&quot;https://media.api-sports.io/fo…</td><td>false</td><td>47</td><td>&quot;Tottenham&quot;</td><td>&quot;https://media.api-sports.io/fo…</td><td>true</td><td>1</td><td>4</td><td>0</td><td>1</td><td>1</td><td>4</td><td>null</td><td>null</td><td>null</td><td>null</td></tr><tr><td>868323</td><td>&quot;S. Hooper&quot;</td><td>&quot;UTC&quot;</td><td>&quot;2023-05-28T15:30:00+00:00&quot;</td><td>1685287800</td><td>1685287800</td><td>1685291400</td><td>547</td><td>&quot;King Power Stadium&quot;</td><td>&quot;Leicester, Leicestershire&quot;</td><td>&quot;Match Finished&quot;</td><td>&quot;FT&quot;</td><td>90</td><td>39</td><td>&quot;Premier League&quot;</td><td>&quot;England&quot;</td><td>&quot;https://media.api-sports.io/fo…</td><td>&quot;https://media.api-sports.io/fl…</td><td>2022</td><td>&quot;Regular Season - 38&quot;</td><td>46</td><td>&quot;Leicester&quot;</td><td>&quot;https://media.api-sports.io/fo…</td><td>true</td><td>48</td><td>&quot;West Ham&quot;</td><td>&quot;https://media.api-sports.io/fo…</td><td>false</td><td>2</td><td>1</td><td>1</td><td>0</td><td>2</td><td>1</td><td>null</td><td>null</td><td>null</td><td>null</td></tr><tr><td>868324</td><td>&quot;R. Jones&quot;</td><td>&quot;UTC&quot;</td><td>&quot;2023-05-28T15:30:00+00:00&quot;</td><td>1685287800</td><td>1685287800</td><td>1685291400</td><td>556</td><td>&quot;Old Trafford&quot;</td><td>&quot;Manchester&quot;</td><td>&quot;Match Finished&quot;</td><td>&quot;FT&quot;</td><td>90</td><td>39</td><td>&quot;Premier League&quot;</td><td>&quot;England&quot;</td><td>&quot;https://media.api-sports.io/fo…</td><td>&quot;https://media.api-sports.io/fl…</td><td>2022</td><td>&quot;Regular Season - 38&quot;</td><td>33</td><td>&quot;Manchester United&quot;</td><td>&quot;https://media.api-sports.io/fo…</td><td>true</td><td>36</td><td>&quot;Fulham&quot;</td><td>&quot;https://media.api-sports.io/fo…</td><td>false</td><td>2</td><td>1</td><td>1</td><td>1</td><td>2</td><td>1</td><td>null</td><td>null</td><td>null</td><td>null</td></tr><tr><td>868325</td><td>&quot;D. England&quot;</td><td>&quot;UTC&quot;</td><td>&quot;2023-05-28T15:30:00+00:00&quot;</td><td>1685287800</td><td>1685287800</td><td>1685291400</td><td>585</td><td>&quot;St. Mary&#x27;s Stadium&quot;</td><td>&quot;Southampton, Hampshire&quot;</td><td>&quot;Match Finished&quot;</td><td>&quot;FT&quot;</td><td>90</td><td>39</td><td>&quot;Premier League&quot;</td><td>&quot;England&quot;</td><td>&quot;https://media.api-sports.io/fo…</td><td>&quot;https://media.api-sports.io/fl…</td><td>2022</td><td>&quot;Regular Season - 38&quot;</td><td>41</td><td>&quot;Southampton&quot;</td><td>&quot;https://media.api-sports.io/fo…</td><td>null</td><td>40</td><td>&quot;Liverpool&quot;</td><td>&quot;https://media.api-sports.io/fo…</td><td>null</td><td>4</td><td>4</td><td>2</td><td>2</td><td>4</td><td>4</td><td>null</td><td>null</td><td>null</td><td>null</td></tr></tbody></table></div>"
      ],
      "text/plain": [
       "shape: (380, 38)\n",
       "┌───────────┬───────────┬───────────┬───────────┬───┬───────────┬───────────┬───────────┬──────────┐\n",
       "│ fixture.i ┆ fixture.r ┆ fixture.t ┆ fixture.d ┆ … ┆ score.ext ┆ score.ext ┆ score.pen ┆ score.pe │\n",
       "│ d         ┆ eferee    ┆ imezone   ┆ ate       ┆   ┆ ratime.ho ┆ ratime.aw ┆ alty.home ┆ nalty.aw │\n",
       "│ ---       ┆ ---       ┆ ---       ┆ ---       ┆   ┆ me        ┆ ay        ┆ ---       ┆ ay       │\n",
       "│ i64       ┆ str       ┆ str       ┆ str       ┆   ┆ ---       ┆ ---       ┆ str       ┆ ---      │\n",
       "│           ┆           ┆           ┆           ┆   ┆ str       ┆ str       ┆           ┆ str      │\n",
       "╞═══════════╪═══════════╪═══════════╪═══════════╪═══╪═══════════╪═══════════╪═══════════╪══════════╡\n",
       "│ 867946    ┆ A. Taylor ┆ UTC       ┆ 2022-08-0 ┆ … ┆ null      ┆ null      ┆ null      ┆ null     │\n",
       "│           ┆           ┆           ┆ 5T19:00:0 ┆   ┆           ┆           ┆           ┆          │\n",
       "│           ┆           ┆           ┆ 0+00:00   ┆   ┆           ┆           ┆           ┆          │\n",
       "│ 867947    ┆ A. Madley ┆ UTC       ┆ 2022-08-0 ┆ … ┆ null      ┆ null      ┆ null      ┆ null     │\n",
       "│           ┆           ┆           ┆ 6T11:30:0 ┆   ┆           ┆           ┆           ┆          │\n",
       "│           ┆           ┆           ┆ 0+00:00   ┆   ┆           ┆           ┆           ┆          │\n",
       "│ 867948    ┆ P. Bankes ┆ UTC       ┆ 2022-08-0 ┆ … ┆ null      ┆ null      ┆ null      ┆ null     │\n",
       "│           ┆           ┆           ┆ 6T14:00:0 ┆   ┆           ┆           ┆           ┆          │\n",
       "│           ┆           ┆           ┆ 0+00:00   ┆   ┆           ┆           ┆           ┆          │\n",
       "│ 867949    ┆ R. Jones  ┆ UTC       ┆ 2022-08-0 ┆ … ┆ null      ┆ null      ┆ null      ┆ null     │\n",
       "│           ┆           ┆           ┆ 6T14:00:0 ┆   ┆           ┆           ┆           ┆          │\n",
       "│           ┆           ┆           ┆ 0+00:00   ┆   ┆           ┆           ┆           ┆          │\n",
       "│ 867950    ┆ J.        ┆ UTC       ┆ 2022-08-0 ┆ … ┆ null      ┆ null      ┆ null      ┆ null     │\n",
       "│           ┆ Gillett   ┆           ┆ 7T13:00:0 ┆   ┆           ┆           ┆           ┆          │\n",
       "│           ┆           ┆           ┆ 0+00:00   ┆   ┆           ┆           ┆           ┆          │\n",
       "│ …         ┆ …         ┆ …         ┆ …         ┆ … ┆ …         ┆ …         ┆ …         ┆ …        │\n",
       "│ 868321    ┆ S.        ┆ UTC       ┆ 2023-05-2 ┆ … ┆ null      ┆ null      ┆ null      ┆ null     │\n",
       "│           ┆ Attwell   ┆           ┆ 8T15:30:0 ┆   ┆           ┆           ┆           ┆          │\n",
       "│           ┆           ┆           ┆ 0+00:00   ┆   ┆           ┆           ┆           ┆          │\n",
       "│ 868322    ┆ A. Taylor ┆ UTC       ┆ 2023-05-2 ┆ … ┆ null      ┆ null      ┆ null      ┆ null     │\n",
       "│           ┆           ┆           ┆ 8T15:30:0 ┆   ┆           ┆           ┆           ┆          │\n",
       "│           ┆           ┆           ┆ 0+00:00   ┆   ┆           ┆           ┆           ┆          │\n",
       "│ 868323    ┆ S. Hooper ┆ UTC       ┆ 2023-05-2 ┆ … ┆ null      ┆ null      ┆ null      ┆ null     │\n",
       "│           ┆           ┆           ┆ 8T15:30:0 ┆   ┆           ┆           ┆           ┆          │\n",
       "│           ┆           ┆           ┆ 0+00:00   ┆   ┆           ┆           ┆           ┆          │\n",
       "│ 868324    ┆ R. Jones  ┆ UTC       ┆ 2023-05-2 ┆ … ┆ null      ┆ null      ┆ null      ┆ null     │\n",
       "│           ┆           ┆           ┆ 8T15:30:0 ┆   ┆           ┆           ┆           ┆          │\n",
       "│           ┆           ┆           ┆ 0+00:00   ┆   ┆           ┆           ┆           ┆          │\n",
       "│ 868325    ┆ D.        ┆ UTC       ┆ 2023-05-2 ┆ … ┆ null      ┆ null      ┆ null      ┆ null     │\n",
       "│           ┆ England   ┆           ┆ 8T15:30:0 ┆   ┆           ┆           ┆           ┆          │\n",
       "│           ┆           ┆           ┆ 0+00:00   ┆   ┆           ┆           ┆           ┆          │\n",
       "└───────────┴───────────┴───────────┴───────────┴───┴───────────┴───────────┴───────────┴──────────┘"
      ]
     },
     "execution_count": 32,
     "metadata": {},
     "output_type": "execute_result"
    }
   ],
   "source": [
    "fixtures_pl"
   ]
  },
  {
   "cell_type": "code",
   "execution_count": 51,
   "metadata": {},
   "outputs": [
    {
     "data": {
      "text/html": [
       "<div><style>\n",
       ".dataframe > thead > tr,\n",
       ".dataframe > tbody > tr {\n",
       "  text-align: right;\n",
       "  white-space: pre-wrap;\n",
       "}\n",
       "</style>\n",
       "<small>shape: (3, 4)</small><table border=\"1\" class=\"dataframe\"><thead><tr><th>teams.home.winner</th><th>sum_games</th><th>goals.home</th><th>goals.away</th></tr><tr><td>bool</td><td>u32</td><td>f64</td><td>f64</td></tr></thead><tbody><tr><td>true</td><td>13</td><td>2.923077</td><td>0.615385</td></tr><tr><td>false</td><td>1</td><td>1.0</td><td>2.0</td></tr><tr><td>null</td><td>5</td><td>1.4</td><td>1.4</td></tr></tbody></table></div>"
      ],
      "text/plain": [
       "shape: (3, 4)\n",
       "┌───────────────────┬───────────┬────────────┬────────────┐\n",
       "│ teams.home.winner ┆ sum_games ┆ goals.home ┆ goals.away │\n",
       "│ ---               ┆ ---       ┆ ---        ┆ ---        │\n",
       "│ bool              ┆ u32       ┆ f64        ┆ f64        │\n",
       "╞═══════════════════╪═══════════╪════════════╪════════════╡\n",
       "│ true              ┆ 13        ┆ 2.923077   ┆ 0.615385   │\n",
       "│ false             ┆ 1         ┆ 1.0        ┆ 2.0        │\n",
       "│ null              ┆ 5         ┆ 1.4        ┆ 1.4        │\n",
       "└───────────────────┴───────────┴────────────┴────────────┘"
      ]
     },
     "execution_count": 51,
     "metadata": {},
     "output_type": "execute_result"
    }
   ],
   "source": [
    "# Select columns\n",
    "fixtures_pl.select(pl.col([\"fixture.referee\",\"fixture.date\"]))\n",
    "\n",
    "# chain function\n",
    "fixtures_pl.filter(pl.col(\"teams.home.name\") == \"Liverpool\").group_by(pl.col(\"teams.home.winner\")).agg([pl.col(\"teams.home.name\").count().alias(\"sum_games\"),pl.col([\"goals.home\",\"goals.away\"]).mean()])"
   ]
  },
  {
   "cell_type": "code",
   "execution_count": 50,
   "metadata": {},
   "outputs": [
    {
     "data": {
      "text/plain": [
       "(19, 38)"
      ]
     },
     "execution_count": 50,
     "metadata": {},
     "output_type": "execute_result"
    }
   ],
   "source": [
    "fixtures_pl.filter(pl.col(\"teams.home.name\") == \"Liverpool\").shape"
   ]
  },
  {
   "cell_type": "code",
   "execution_count": 56,
   "metadata": {},
   "outputs": [
    {
     "data": {
      "text/html": [
       "<div><style>\n",
       ".dataframe > thead > tr,\n",
       ".dataframe > tbody > tr {\n",
       "  text-align: right;\n",
       "  white-space: pre-wrap;\n",
       "}\n",
       "</style>\n",
       "<small>shape: (38, 38)</small><table border=\"1\" class=\"dataframe\"><thead><tr><th>fixture.id</th><th>fixture.referee</th><th>fixture.timezone</th><th>fixture.date</th><th>fixture.timestamp</th><th>fixture.periods.first</th><th>fixture.periods.second</th><th>fixture.venue.id</th><th>fixture.venue.name</th><th>fixture.venue.city</th><th>fixture.status.long</th><th>fixture.status.short</th><th>fixture.status.elapsed</th><th>league.id</th><th>league.name</th><th>league.country</th><th>league.logo</th><th>league.flag</th><th>league.season</th><th>league.round</th><th>teams.home.id</th><th>teams.home.name</th><th>teams.home.logo</th><th>teams.home.winner</th><th>teams.away.id</th><th>teams.away.name</th><th>teams.away.logo</th><th>teams.away.winner</th><th>goals.home</th><th>goals.away</th><th>score.halftime.home</th><th>score.halftime.away</th><th>score.fulltime.home</th><th>score.fulltime.away</th><th>score.extratime.home</th><th>score.extratime.away</th><th>score.penalty.home</th><th>score.penalty.away</th></tr><tr><td>i64</td><td>str</td><td>str</td><td>str</td><td>i64</td><td>i64</td><td>i64</td><td>i64</td><td>str</td><td>str</td><td>str</td><td>str</td><td>i64</td><td>i64</td><td>str</td><td>str</td><td>str</td><td>str</td><td>i64</td><td>str</td><td>i64</td><td>str</td><td>str</td><td>bool</td><td>i64</td><td>str</td><td>str</td><td>bool</td><td>i64</td><td>i64</td><td>i64</td><td>i64</td><td>i64</td><td>i64</td><td>str</td><td>str</td><td>str</td><td>str</td></tr></thead><tbody><tr><td>867947</td><td>&quot;A. Madley&quot;</td><td>&quot;UTC&quot;</td><td>&quot;2022-08-06T11:30:00+00:00&quot;</td><td>1659785400</td><td>1659785400</td><td>1659789000</td><td>535</td><td>&quot;Craven Cottage&quot;</td><td>&quot;London&quot;</td><td>&quot;Match Finished&quot;</td><td>&quot;FT&quot;</td><td>90</td><td>39</td><td>&quot;Premier League&quot;</td><td>&quot;England&quot;</td><td>&quot;https://media.api-sports.io/fo…</td><td>&quot;https://media.api-sports.io/fl…</td><td>2022</td><td>&quot;Regular Season - 1&quot;</td><td>36</td><td>&quot;Fulham&quot;</td><td>&quot;https://media.api-sports.io/fo…</td><td>null</td><td>40</td><td>&quot;Liverpool&quot;</td><td>&quot;https://media.api-sports.io/fo…</td><td>null</td><td>2</td><td>2</td><td>1</td><td>0</td><td>2</td><td>2</td><td>null</td><td>null</td><td>null</td><td>null</td></tr><tr><td>867961</td><td>&quot;P. Tierney&quot;</td><td>&quot;UTC&quot;</td><td>&quot;2022-08-15T19:00:00+00:00&quot;</td><td>1660590000</td><td>1660590000</td><td>1660593600</td><td>550</td><td>&quot;Anfield&quot;</td><td>&quot;Liverpool&quot;</td><td>&quot;Match Finished&quot;</td><td>&quot;FT&quot;</td><td>90</td><td>39</td><td>&quot;Premier League&quot;</td><td>&quot;England&quot;</td><td>&quot;https://media.api-sports.io/fo…</td><td>&quot;https://media.api-sports.io/fl…</td><td>2022</td><td>&quot;Regular Season - 2&quot;</td><td>40</td><td>&quot;Liverpool&quot;</td><td>&quot;https://media.api-sports.io/fo…</td><td>null</td><td>52</td><td>&quot;Crystal Palace&quot;</td><td>&quot;https://media.api-sports.io/fo…</td><td>null</td><td>1</td><td>1</td><td>0</td><td>1</td><td>1</td><td>1</td><td>null</td><td>null</td><td>null</td><td>null</td></tr><tr><td>867972</td><td>&quot;M. Oliver&quot;</td><td>&quot;UTC&quot;</td><td>&quot;2022-08-22T19:00:00+00:00&quot;</td><td>1661194800</td><td>1661194800</td><td>1661198400</td><td>556</td><td>&quot;Old Trafford&quot;</td><td>&quot;Manchester&quot;</td><td>&quot;Match Finished&quot;</td><td>&quot;FT&quot;</td><td>90</td><td>39</td><td>&quot;Premier League&quot;</td><td>&quot;England&quot;</td><td>&quot;https://media.api-sports.io/fo…</td><td>&quot;https://media.api-sports.io/fl…</td><td>2022</td><td>&quot;Regular Season - 3&quot;</td><td>33</td><td>&quot;Manchester United&quot;</td><td>&quot;https://media.api-sports.io/fo…</td><td>true</td><td>40</td><td>&quot;Liverpool&quot;</td><td>&quot;https://media.api-sports.io/fo…</td><td>false</td><td>2</td><td>1</td><td>1</td><td>0</td><td>2</td><td>1</td><td>null</td><td>null</td><td>null</td><td>null</td></tr><tr><td>867981</td><td>&quot;S. Attwell&quot;</td><td>&quot;UTC&quot;</td><td>&quot;2022-08-27T14:00:00+00:00&quot;</td><td>1661608800</td><td>1661608800</td><td>1661612400</td><td>550</td><td>&quot;Anfield&quot;</td><td>&quot;Liverpool&quot;</td><td>&quot;Match Finished&quot;</td><td>&quot;FT&quot;</td><td>90</td><td>39</td><td>&quot;Premier League&quot;</td><td>&quot;England&quot;</td><td>&quot;https://media.api-sports.io/fo…</td><td>&quot;https://media.api-sports.io/fl…</td><td>2022</td><td>&quot;Regular Season - 4&quot;</td><td>40</td><td>&quot;Liverpool&quot;</td><td>&quot;https://media.api-sports.io/fo…</td><td>true</td><td>35</td><td>&quot;Bournemouth&quot;</td><td>&quot;https://media.api-sports.io/fo…</td><td>false</td><td>9</td><td>0</td><td>5</td><td>0</td><td>9</td><td>0</td><td>null</td><td>null</td><td>null</td><td>null</td></tr><tr><td>867994</td><td>&quot;A. Marriner&quot;</td><td>&quot;UTC&quot;</td><td>&quot;2022-08-31T19:00:00+00:00&quot;</td><td>1661972400</td><td>1661972400</td><td>1661976000</td><td>550</td><td>&quot;Anfield&quot;</td><td>&quot;Liverpool&quot;</td><td>&quot;Match Finished&quot;</td><td>&quot;FT&quot;</td><td>90</td><td>39</td><td>&quot;Premier League&quot;</td><td>&quot;England&quot;</td><td>&quot;https://media.api-sports.io/fo…</td><td>&quot;https://media.api-sports.io/fl…</td><td>2022</td><td>&quot;Regular Season - 5&quot;</td><td>40</td><td>&quot;Liverpool&quot;</td><td>&quot;https://media.api-sports.io/fo…</td><td>true</td><td>34</td><td>&quot;Newcastle&quot;</td><td>&quot;https://media.api-sports.io/fo…</td><td>false</td><td>2</td><td>1</td><td>0</td><td>1</td><td>2</td><td>1</td><td>null</td><td>null</td><td>null</td><td>null</td></tr><tr><td>&hellip;</td><td>&hellip;</td><td>&hellip;</td><td>&hellip;</td><td>&hellip;</td><td>&hellip;</td><td>&hellip;</td><td>&hellip;</td><td>&hellip;</td><td>&hellip;</td><td>&hellip;</td><td>&hellip;</td><td>&hellip;</td><td>&hellip;</td><td>&hellip;</td><td>&hellip;</td><td>&hellip;</td><td>&hellip;</td><td>&hellip;</td><td>&hellip;</td><td>&hellip;</td><td>&hellip;</td><td>&hellip;</td><td>&hellip;</td><td>&hellip;</td><td>&hellip;</td><td>&hellip;</td><td>&hellip;</td><td>&hellip;</td><td>&hellip;</td><td>&hellip;</td><td>&hellip;</td><td>&hellip;</td><td>&hellip;</td><td>&hellip;</td><td>&hellip;</td><td>&hellip;</td><td>&hellip;</td></tr><tr><td>868283</td><td>&quot;P. Tierney&quot;</td><td>&quot;UTC&quot;</td><td>&quot;2023-04-30T15:30:00+00:00&quot;</td><td>1682868600</td><td>1682868600</td><td>1682872200</td><td>550</td><td>&quot;Anfield&quot;</td><td>&quot;Liverpool&quot;</td><td>&quot;Match Finished&quot;</td><td>&quot;FT&quot;</td><td>90</td><td>39</td><td>&quot;Premier League&quot;</td><td>&quot;England&quot;</td><td>&quot;https://media.api-sports.io/fo…</td><td>&quot;https://media.api-sports.io/fl…</td><td>2022</td><td>&quot;Regular Season - 34&quot;</td><td>40</td><td>&quot;Liverpool&quot;</td><td>&quot;https://media.api-sports.io/fo…</td><td>true</td><td>47</td><td>&quot;Tottenham&quot;</td><td>&quot;https://media.api-sports.io/fo…</td><td>false</td><td>4</td><td>3</td><td>3</td><td>1</td><td>4</td><td>3</td><td>null</td><td>null</td><td>null</td><td>null</td></tr><tr><td>868289</td><td>&quot;A. Taylor&quot;</td><td>&quot;UTC&quot;</td><td>&quot;2023-05-06T16:30:00+00:00&quot;</td><td>1683390600</td><td>1683390600</td><td>1683394200</td><td>550</td><td>&quot;Anfield&quot;</td><td>&quot;Liverpool&quot;</td><td>&quot;Match Finished&quot;</td><td>&quot;FT&quot;</td><td>90</td><td>39</td><td>&quot;Premier League&quot;</td><td>&quot;England&quot;</td><td>&quot;https://media.api-sports.io/fo…</td><td>&quot;https://media.api-sports.io/fl…</td><td>2022</td><td>&quot;Regular Season - 35&quot;</td><td>40</td><td>&quot;Liverpool&quot;</td><td>&quot;https://media.api-sports.io/fo…</td><td>true</td><td>55</td><td>&quot;Brentford&quot;</td><td>&quot;https://media.api-sports.io/fo…</td><td>false</td><td>1</td><td>0</td><td>1</td><td>0</td><td>1</td><td>0</td><td>null</td><td>null</td><td>null</td><td>null</td></tr><tr><td>868303</td><td>&quot;C. Pawson&quot;</td><td>&quot;UTC&quot;</td><td>&quot;2023-05-15T19:00:00+00:00&quot;</td><td>1684177200</td><td>1684177200</td><td>1684180800</td><td>547</td><td>&quot;King Power Stadium&quot;</td><td>&quot;Leicester, Leicestershire&quot;</td><td>&quot;Match Finished&quot;</td><td>&quot;FT&quot;</td><td>90</td><td>39</td><td>&quot;Premier League&quot;</td><td>&quot;England&quot;</td><td>&quot;https://media.api-sports.io/fo…</td><td>&quot;https://media.api-sports.io/fl…</td><td>2022</td><td>&quot;Regular Season - 36&quot;</td><td>46</td><td>&quot;Leicester&quot;</td><td>&quot;https://media.api-sports.io/fo…</td><td>false</td><td>40</td><td>&quot;Liverpool&quot;</td><td>&quot;https://media.api-sports.io/fo…</td><td>true</td><td>0</td><td>3</td><td>0</td><td>2</td><td>0</td><td>3</td><td>null</td><td>null</td><td>null</td><td>null</td></tr><tr><td>868309</td><td>&quot;J. Brooks&quot;</td><td>&quot;UTC&quot;</td><td>&quot;2023-05-20T14:00:00+00:00&quot;</td><td>1684591200</td><td>1684591200</td><td>1684594800</td><td>550</td><td>&quot;Anfield&quot;</td><td>&quot;Liverpool&quot;</td><td>&quot;Match Finished&quot;</td><td>&quot;FT&quot;</td><td>90</td><td>39</td><td>&quot;Premier League&quot;</td><td>&quot;England&quot;</td><td>&quot;https://media.api-sports.io/fo…</td><td>&quot;https://media.api-sports.io/fl…</td><td>2022</td><td>&quot;Regular Season - 37&quot;</td><td>40</td><td>&quot;Liverpool&quot;</td><td>&quot;https://media.api-sports.io/fo…</td><td>null</td><td>66</td><td>&quot;Aston Villa&quot;</td><td>&quot;https://media.api-sports.io/fo…</td><td>null</td><td>1</td><td>1</td><td>0</td><td>1</td><td>1</td><td>1</td><td>null</td><td>null</td><td>null</td><td>null</td></tr><tr><td>868325</td><td>&quot;D. England&quot;</td><td>&quot;UTC&quot;</td><td>&quot;2023-05-28T15:30:00+00:00&quot;</td><td>1685287800</td><td>1685287800</td><td>1685291400</td><td>585</td><td>&quot;St. Mary&#x27;s Stadium&quot;</td><td>&quot;Southampton, Hampshire&quot;</td><td>&quot;Match Finished&quot;</td><td>&quot;FT&quot;</td><td>90</td><td>39</td><td>&quot;Premier League&quot;</td><td>&quot;England&quot;</td><td>&quot;https://media.api-sports.io/fo…</td><td>&quot;https://media.api-sports.io/fl…</td><td>2022</td><td>&quot;Regular Season - 38&quot;</td><td>41</td><td>&quot;Southampton&quot;</td><td>&quot;https://media.api-sports.io/fo…</td><td>null</td><td>40</td><td>&quot;Liverpool&quot;</td><td>&quot;https://media.api-sports.io/fo…</td><td>null</td><td>4</td><td>4</td><td>2</td><td>2</td><td>4</td><td>4</td><td>null</td><td>null</td><td>null</td><td>null</td></tr></tbody></table></div>"
      ],
      "text/plain": [
       "shape: (38, 38)\n",
       "┌───────────┬───────────┬───────────┬───────────┬───┬───────────┬───────────┬───────────┬──────────┐\n",
       "│ fixture.i ┆ fixture.r ┆ fixture.t ┆ fixture.d ┆ … ┆ score.ext ┆ score.ext ┆ score.pen ┆ score.pe │\n",
       "│ d         ┆ eferee    ┆ imezone   ┆ ate       ┆   ┆ ratime.ho ┆ ratime.aw ┆ alty.home ┆ nalty.aw │\n",
       "│ ---       ┆ ---       ┆ ---       ┆ ---       ┆   ┆ me        ┆ ay        ┆ ---       ┆ ay       │\n",
       "│ i64       ┆ str       ┆ str       ┆ str       ┆   ┆ ---       ┆ ---       ┆ str       ┆ ---      │\n",
       "│           ┆           ┆           ┆           ┆   ┆ str       ┆ str       ┆           ┆ str      │\n",
       "╞═══════════╪═══════════╪═══════════╪═══════════╪═══╪═══════════╪═══════════╪═══════════╪══════════╡\n",
       "│ 867947    ┆ A. Madley ┆ UTC       ┆ 2022-08-0 ┆ … ┆ null      ┆ null      ┆ null      ┆ null     │\n",
       "│           ┆           ┆           ┆ 6T11:30:0 ┆   ┆           ┆           ┆           ┆          │\n",
       "│           ┆           ┆           ┆ 0+00:00   ┆   ┆           ┆           ┆           ┆          │\n",
       "│ 867961    ┆ P.        ┆ UTC       ┆ 2022-08-1 ┆ … ┆ null      ┆ null      ┆ null      ┆ null     │\n",
       "│           ┆ Tierney   ┆           ┆ 5T19:00:0 ┆   ┆           ┆           ┆           ┆          │\n",
       "│           ┆           ┆           ┆ 0+00:00   ┆   ┆           ┆           ┆           ┆          │\n",
       "│ 867972    ┆ M. Oliver ┆ UTC       ┆ 2022-08-2 ┆ … ┆ null      ┆ null      ┆ null      ┆ null     │\n",
       "│           ┆           ┆           ┆ 2T19:00:0 ┆   ┆           ┆           ┆           ┆          │\n",
       "│           ┆           ┆           ┆ 0+00:00   ┆   ┆           ┆           ┆           ┆          │\n",
       "│ 867981    ┆ S.        ┆ UTC       ┆ 2022-08-2 ┆ … ┆ null      ┆ null      ┆ null      ┆ null     │\n",
       "│           ┆ Attwell   ┆           ┆ 7T14:00:0 ┆   ┆           ┆           ┆           ┆          │\n",
       "│           ┆           ┆           ┆ 0+00:00   ┆   ┆           ┆           ┆           ┆          │\n",
       "│ 867994    ┆ A.        ┆ UTC       ┆ 2022-08-3 ┆ … ┆ null      ┆ null      ┆ null      ┆ null     │\n",
       "│           ┆ Marriner  ┆           ┆ 1T19:00:0 ┆   ┆           ┆           ┆           ┆          │\n",
       "│           ┆           ┆           ┆ 0+00:00   ┆   ┆           ┆           ┆           ┆          │\n",
       "│ …         ┆ …         ┆ …         ┆ …         ┆ … ┆ …         ┆ …         ┆ …         ┆ …        │\n",
       "│ 868283    ┆ P.        ┆ UTC       ┆ 2023-04-3 ┆ … ┆ null      ┆ null      ┆ null      ┆ null     │\n",
       "│           ┆ Tierney   ┆           ┆ 0T15:30:0 ┆   ┆           ┆           ┆           ┆          │\n",
       "│           ┆           ┆           ┆ 0+00:00   ┆   ┆           ┆           ┆           ┆          │\n",
       "│ 868289    ┆ A. Taylor ┆ UTC       ┆ 2023-05-0 ┆ … ┆ null      ┆ null      ┆ null      ┆ null     │\n",
       "│           ┆           ┆           ┆ 6T16:30:0 ┆   ┆           ┆           ┆           ┆          │\n",
       "│           ┆           ┆           ┆ 0+00:00   ┆   ┆           ┆           ┆           ┆          │\n",
       "│ 868303    ┆ C. Pawson ┆ UTC       ┆ 2023-05-1 ┆ … ┆ null      ┆ null      ┆ null      ┆ null     │\n",
       "│           ┆           ┆           ┆ 5T19:00:0 ┆   ┆           ┆           ┆           ┆          │\n",
       "│           ┆           ┆           ┆ 0+00:00   ┆   ┆           ┆           ┆           ┆          │\n",
       "│ 868309    ┆ J. Brooks ┆ UTC       ┆ 2023-05-2 ┆ … ┆ null      ┆ null      ┆ null      ┆ null     │\n",
       "│           ┆           ┆           ┆ 0T14:00:0 ┆   ┆           ┆           ┆           ┆          │\n",
       "│           ┆           ┆           ┆ 0+00:00   ┆   ┆           ┆           ┆           ┆          │\n",
       "│ 868325    ┆ D.        ┆ UTC       ┆ 2023-05-2 ┆ … ┆ null      ┆ null      ┆ null      ┆ null     │\n",
       "│           ┆ England   ┆           ┆ 8T15:30:0 ┆   ┆           ┆           ┆           ┆          │\n",
       "│           ┆           ┆           ┆ 0+00:00   ┆   ┆           ┆           ┆           ┆          │\n",
       "└───────────┴───────────┴───────────┴───────────┴───┴───────────┴───────────┴───────────┴──────────┘"
      ]
     },
     "execution_count": 56,
     "metadata": {},
     "output_type": "execute_result"
    }
   ],
   "source": [
    "fixtures_pl.filter((pl.col(\"teams.home.name\") == \"Liverpool\") | (pl.col(\"teams.away.name\") == \"Liverpool\"))"
   ]
  },
  {
   "cell_type": "code",
   "execution_count": null,
   "metadata": {},
   "outputs": [],
   "source": []
  }
 ],
 "metadata": {
  "kernelspec": {
   "display_name": "base",
   "language": "python",
   "name": "python3"
  },
  "language_info": {
   "codemirror_mode": {
    "name": "ipython",
    "version": 3
   },
   "file_extension": ".py",
   "mimetype": "text/x-python",
   "name": "python",
   "nbconvert_exporter": "python",
   "pygments_lexer": "ipython3",
   "version": "3.11.7"
  }
 },
 "nbformat": 4,
 "nbformat_minor": 2
}
